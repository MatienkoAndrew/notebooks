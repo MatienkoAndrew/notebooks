{
  "nbformat": 4,
  "nbformat_minor": 0,
  "metadata": {
    "colab": {
      "provenance": [],
      "authorship_tag": "ABX9TyNS/f+pwxvMTOujcKgepBjK",
      "include_colab_link": true
    },
    "kernelspec": {
      "name": "python3",
      "display_name": "Python 3"
    },
    "language_info": {
      "name": "python"
    }
  },
  "cells": [
    {
      "cell_type": "markdown",
      "metadata": {
        "id": "view-in-github",
        "colab_type": "text"
      },
      "source": [
        "<a href=\"https://colab.research.google.com/github/MatienkoAndrew/notebooks/blob/main/andrej_karpathy_mlp.ipynb\" target=\"_parent\"><img src=\"https://colab.research.google.com/assets/colab-badge.svg\" alt=\"Open In Colab\"/></a>"
      ]
    },
    {
      "cell_type": "code",
      "execution_count": null,
      "metadata": {
        "id": "ObmK-Q8iyTdp"
      },
      "outputs": [],
      "source": [
        "import torch\n",
        "import torch.nn.functional as F\n",
        "import matplotlib.pyplot as plt # for making figures\n",
        "%matplotlib inline"
      ]
    },
    {
      "cell_type": "code",
      "source": [
        "# download the names.txt file from github\n",
        "!wget https://raw.githubusercontent.com/karpathy/makemore/master/names.txt"
      ],
      "metadata": {
        "colab": {
          "base_uri": "https://localhost:8080/"
        },
        "id": "f04jspPad8em",
        "outputId": "69c838c8-81fa-4098-bc1d-ab7423035081"
      },
      "execution_count": null,
      "outputs": [
        {
          "output_type": "stream",
          "name": "stdout",
          "text": [
            "--2023-03-22 17:57:36--  https://raw.githubusercontent.com/karpathy/makemore/master/names.txt\n",
            "Resolving raw.githubusercontent.com (raw.githubusercontent.com)... 185.199.109.133, 185.199.108.133, 185.199.110.133, ...\n",
            "Connecting to raw.githubusercontent.com (raw.githubusercontent.com)|185.199.109.133|:443... connected.\n",
            "HTTP request sent, awaiting response... 200 OK\n",
            "Length: 228145 (223K) [text/plain]\n",
            "Saving to: ‘names.txt.1’\n",
            "\n",
            "names.txt.1         100%[===================>] 222.80K  --.-KB/s    in 0.02s   \n",
            "\n",
            "2023-03-22 17:57:37 (14.2 MB/s) - ‘names.txt.1’ saved [228145/228145]\n",
            "\n"
          ]
        }
      ]
    },
    {
      "cell_type": "code",
      "source": [
        "words = open('names.txt', 'r').read().splitlines()\n",
        "words[:8]"
      ],
      "metadata": {
        "colab": {
          "base_uri": "https://localhost:8080/"
        },
        "id": "sWqeORBweByK",
        "outputId": "114bfcbf-a18c-485f-d96f-187e25467895"
      },
      "execution_count": null,
      "outputs": [
        {
          "output_type": "execute_result",
          "data": {
            "text/plain": [
              "['emma', 'olivia', 'ava', 'isabella', 'sophia', 'charlotte', 'mia', 'amelia']"
            ]
          },
          "metadata": {},
          "execution_count": 52
        }
      ]
    },
    {
      "cell_type": "code",
      "source": [
        "len(words)"
      ],
      "metadata": {
        "colab": {
          "base_uri": "https://localhost:8080/"
        },
        "id": "1oehsh8leB9v",
        "outputId": "58ffae12-5130-467d-905f-1f5b1974e9c9"
      },
      "execution_count": null,
      "outputs": [
        {
          "output_type": "execute_result",
          "data": {
            "text/plain": [
              "32033"
            ]
          },
          "metadata": {},
          "execution_count": 53
        }
      ]
    },
    {
      "cell_type": "code",
      "source": [
        "# build the vocabulary of characters and mappings to/from integers\n",
        "chars = sorted(list(set(''.join(words))))\n",
        "stoi = {s:i+1 for i,s in enumerate(chars)}\n",
        "stoi['.'] = 0\n",
        "itos = {i:s for s,i in stoi.items()}\n",
        "print(itos)"
      ],
      "metadata": {
        "colab": {
          "base_uri": "https://localhost:8080/"
        },
        "id": "Nv9NI0O9eCzA",
        "outputId": "0ded3ca1-0a9c-47a0-aa1c-736d3ba75381"
      },
      "execution_count": null,
      "outputs": [
        {
          "output_type": "stream",
          "name": "stdout",
          "text": [
            "{1: 'a', 2: 'b', 3: 'c', 4: 'd', 5: 'e', 6: 'f', 7: 'g', 8: 'h', 9: 'i', 10: 'j', 11: 'k', 12: 'l', 13: 'm', 14: 'n', 15: 'o', 16: 'p', 17: 'q', 18: 'r', 19: 's', 20: 't', 21: 'u', 22: 'v', 23: 'w', 24: 'x', 25: 'y', 26: 'z', 0: '.'}\n"
          ]
        }
      ]
    },
    {
      "cell_type": "code",
      "source": [
        "# build the dataset\n",
        "block_size = 3 # context length: how many characters do we take to predict the next one?\n",
        "\n",
        "X, Y = [], []\n",
        "for w in words[:1]:\n",
        "    context = [0] * block_size\n",
        "    for ch in w + '.':\n",
        "        ix = stoi[ch]\n",
        "        X.append(context)\n",
        "        Y.append(ix)\n",
        "        print(''.join(itos[i] for i in context), '--->', itos[ix])\n",
        "        context = context[1:] + [ix] # crop and append\n",
        "\n",
        "X = torch.tensor(X)\n",
        "Y = torch.tensor(Y)\n",
        "print(X.shape, Y.shape)"
      ],
      "metadata": {
        "colab": {
          "base_uri": "https://localhost:8080/"
        },
        "id": "yJagbIxFeDtJ",
        "outputId": "d4fd2026-bd6f-4e18-d718-b6433c3ccb78"
      },
      "execution_count": null,
      "outputs": [
        {
          "output_type": "stream",
          "name": "stdout",
          "text": [
            "... ---> e\n",
            "..e ---> m\n",
            ".em ---> m\n",
            "emm ---> a\n",
            "mma ---> .\n",
            "torch.Size([5, 3]) torch.Size([5])\n"
          ]
        }
      ]
    },
    {
      "cell_type": "code",
      "source": [
        "C = torch.randn((27, 2))"
      ],
      "metadata": {
        "id": "8VecUaTieI_0"
      },
      "execution_count": null,
      "outputs": []
    },
    {
      "cell_type": "code",
      "source": [
        "emb = C[X]\n",
        "emb.shape"
      ],
      "metadata": {
        "colab": {
          "base_uri": "https://localhost:8080/"
        },
        "id": "CszxHM0PeNzL",
        "outputId": "4ffbbdf8-cd25-468a-ab05-6db1b318eb14"
      },
      "execution_count": null,
      "outputs": [
        {
          "output_type": "execute_result",
          "data": {
            "text/plain": [
              "torch.Size([5, 3, 2])"
            ]
          },
          "metadata": {},
          "execution_count": 63
        }
      ]
    },
    {
      "cell_type": "code",
      "source": [
        "##-- 6 нейронов: 3 * 2\n",
        "##-- 100 нейронов: произвольное число на выходе\n",
        "W1 = torch.randn((6, 100))\n",
        "b1 = torch.randn(100)"
      ],
      "metadata": {
        "id": "4JcWpTgweamh"
      },
      "execution_count": null,
      "outputs": []
    },
    {
      "cell_type": "code",
      "source": [
        "emb @ W1 + b1"
      ],
      "metadata": {
        "colab": {
          "base_uri": "https://localhost:8080/",
          "height": 175
        },
        "id": "RJCcGY6GgF1S",
        "outputId": "0182bdb0-051d-456d-f7b4-7fa94ead7caa"
      },
      "execution_count": null,
      "outputs": [
        {
          "output_type": "error",
          "ename": "RuntimeError",
          "evalue": "ignored",
          "traceback": [
            "\u001b[0;31m---------------------------------------------------------------------------\u001b[0m",
            "\u001b[0;31mRuntimeError\u001b[0m                              Traceback (most recent call last)",
            "\u001b[0;32m<ipython-input-69-355728df8662>\u001b[0m in \u001b[0;36m<module>\u001b[0;34m\u001b[0m\n\u001b[0;32m----> 1\u001b[0;31m \u001b[0memb\u001b[0m \u001b[0;34m@\u001b[0m \u001b[0mW1\u001b[0m \u001b[0;34m+\u001b[0m \u001b[0mb1\u001b[0m\u001b[0;34m\u001b[0m\u001b[0;34m\u001b[0m\u001b[0m\n\u001b[0m",
            "\u001b[0;31mRuntimeError\u001b[0m: mat1 and mat2 shapes cannot be multiplied (15x2 and 6x100)"
          ]
        }
      ]
    },
    {
      "cell_type": "code",
      "source": [
        "emb"
      ],
      "metadata": {
        "colab": {
          "base_uri": "https://localhost:8080/"
        },
        "id": "pmkEGm0te1jq",
        "outputId": "c1c6e0af-0d07-4b8d-d741-9154d97fb4c5"
      },
      "execution_count": null,
      "outputs": [
        {
          "output_type": "execute_result",
          "data": {
            "text/plain": [
              "tensor([[[-0.8815, -0.3808],\n",
              "         [-0.8815, -0.3808],\n",
              "         [-0.8815, -0.3808]],\n",
              "\n",
              "        [[-0.8815, -0.3808],\n",
              "         [-0.8815, -0.3808],\n",
              "         [ 0.0427, -0.2390]],\n",
              "\n",
              "        [[-0.8815, -0.3808],\n",
              "         [ 0.0427, -0.2390],\n",
              "         [-0.2565,  1.9602]],\n",
              "\n",
              "        [[ 0.0427, -0.2390],\n",
              "         [-0.2565,  1.9602],\n",
              "         [-0.2565,  1.9602]],\n",
              "\n",
              "        [[-0.2565,  1.9602],\n",
              "         [-0.2565,  1.9602],\n",
              "         [ 0.4643,  0.7515]]])"
            ]
          },
          "metadata": {},
          "execution_count": 67
        }
      ]
    },
    {
      "cell_type": "code",
      "source": [
        "##-- first aproach\n",
        "torch.cat([emb[:, 0, :], emb[:, 1, :], emb[:, 2, :]], dim=1), torch.cat([emb[:, 0, :], emb[:, 1, :], emb[:, 2, :]], dim=1).shape"
      ],
      "metadata": {
        "colab": {
          "base_uri": "https://localhost:8080/"
        },
        "id": "DZFo_z6uf1FE",
        "outputId": "08c07c91-7f96-479b-a63d-e65ee8ebf9e5"
      },
      "execution_count": null,
      "outputs": [
        {
          "output_type": "execute_result",
          "data": {
            "text/plain": [
              "(tensor([[-0.8815, -0.3808, -0.8815, -0.3808, -0.8815, -0.3808],\n",
              "         [-0.8815, -0.3808, -0.8815, -0.3808,  0.0427, -0.2390],\n",
              "         [-0.8815, -0.3808,  0.0427, -0.2390, -0.2565,  1.9602],\n",
              "         [ 0.0427, -0.2390, -0.2565,  1.9602, -0.2565,  1.9602],\n",
              "         [-0.2565,  1.9602, -0.2565,  1.9602,  0.4643,  0.7515]]),\n",
              " torch.Size([5, 6]))"
            ]
          },
          "metadata": {},
          "execution_count": 71
        }
      ]
    },
    {
      "cell_type": "code",
      "source": [
        "##-- second aproach\n",
        "##-- exact that up\n",
        "torch.cat(torch.unbind(emb, 1), 1), torch.cat(torch.unbind(emb, 1), 1).shape"
      ],
      "metadata": {
        "colab": {
          "base_uri": "https://localhost:8080/"
        },
        "id": "CG9RXU8hf4rC",
        "outputId": "194a8433-c462-4155-feca-68dbc8b20059"
      },
      "execution_count": null,
      "outputs": [
        {
          "output_type": "execute_result",
          "data": {
            "text/plain": [
              "(tensor([[-0.8815, -0.3808, -0.8815, -0.3808, -0.8815, -0.3808],\n",
              "         [-0.8815, -0.3808, -0.8815, -0.3808,  0.0427, -0.2390],\n",
              "         [-0.8815, -0.3808,  0.0427, -0.2390, -0.2565,  1.9602],\n",
              "         [ 0.0427, -0.2390, -0.2565,  1.9602, -0.2565,  1.9602],\n",
              "         [-0.2565,  1.9602, -0.2565,  1.9602,  0.4643,  0.7515]]),\n",
              " torch.Size([5, 6]))"
            ]
          },
          "metadata": {},
          "execution_count": 74
        }
      ]
    },
    {
      "cell_type": "code",
      "source": [
        "a = torch.arange(18)\n",
        "a"
      ],
      "metadata": {
        "colab": {
          "base_uri": "https://localhost:8080/"
        },
        "id": "PIbe1J-3gesQ",
        "outputId": "2815965a-dee4-413c-f41c-407ec7f5207e"
      },
      "execution_count": null,
      "outputs": [
        {
          "output_type": "execute_result",
          "data": {
            "text/plain": [
              "tensor([ 0,  1,  2,  3,  4,  5,  6,  7,  8,  9, 10, 11, 12, 13, 14, 15, 16, 17])"
            ]
          },
          "metadata": {},
          "execution_count": 75
        }
      ]
    },
    {
      "cell_type": "code",
      "source": [
        "a.storage()"
      ],
      "metadata": {
        "colab": {
          "base_uri": "https://localhost:8080/"
        },
        "id": "OriCvEZChHF1",
        "outputId": "0bbdf949-dcf4-4512-b5c0-aa8beb5bcc2c"
      },
      "execution_count": null,
      "outputs": [
        {
          "output_type": "execute_result",
          "data": {
            "text/plain": [
              " 0\n",
              " 1\n",
              " 2\n",
              " 3\n",
              " 4\n",
              " 5\n",
              " 6\n",
              " 7\n",
              " 8\n",
              " 9\n",
              " 10\n",
              " 11\n",
              " 12\n",
              " 13\n",
              " 14\n",
              " 15\n",
              " 16\n",
              " 17\n",
              "[torch.storage.TypedStorage(dtype=torch.int64, device=cpu) of size 18]"
            ]
          },
          "metadata": {},
          "execution_count": 76
        }
      ]
    },
    {
      "cell_type": "code",
      "source": [
        "##-- extremly efficient operation\n",
        "a.view(3, 3, 2)"
      ],
      "metadata": {
        "colab": {
          "base_uri": "https://localhost:8080/"
        },
        "id": "Y836yMY4hIRA",
        "outputId": "f07d8e12-88e3-4622-85b8-22b5e11da61c"
      },
      "execution_count": null,
      "outputs": [
        {
          "output_type": "execute_result",
          "data": {
            "text/plain": [
              "tensor([[[ 0,  1],\n",
              "         [ 2,  3],\n",
              "         [ 4,  5]],\n",
              "\n",
              "        [[ 6,  7],\n",
              "         [ 8,  9],\n",
              "         [10, 11]],\n",
              "\n",
              "        [[12, 13],\n",
              "         [14, 15],\n",
              "         [16, 17]]])"
            ]
          },
          "metadata": {},
          "execution_count": 79
        }
      ]
    },
    {
      "cell_type": "code",
      "source": [
        "##-- third aproach\n",
        "emb.view((5, 6))"
      ],
      "metadata": {
        "colab": {
          "base_uri": "https://localhost:8080/"
        },
        "id": "OdDRE1LVhKQ2",
        "outputId": "0b6c6b79-2293-4dde-cb6f-f1f3a80d00cf"
      },
      "execution_count": null,
      "outputs": [
        {
          "output_type": "execute_result",
          "data": {
            "text/plain": [
              "tensor([[-0.8815, -0.3808, -0.8815, -0.3808, -0.8815, -0.3808],\n",
              "        [-0.8815, -0.3808, -0.8815, -0.3808,  0.0427, -0.2390],\n",
              "        [-0.8815, -0.3808,  0.0427, -0.2390, -0.2565,  1.9602],\n",
              "        [ 0.0427, -0.2390, -0.2565,  1.9602, -0.2565,  1.9602],\n",
              "        [-0.2565,  1.9602, -0.2565,  1.9602,  0.4643,  0.7515]])"
            ]
          },
          "metadata": {},
          "execution_count": 81
        }
      ]
    },
    {
      "cell_type": "code",
      "source": [
        "##-- hidden state\n",
        "h = emb.view(5, 6) @ W1 + b1"
      ],
      "metadata": {
        "id": "rsVrIKe1hxlQ"
      },
      "execution_count": null,
      "outputs": []
    },
    {
      "cell_type": "code",
      "source": [
        "h.shape"
      ],
      "metadata": {
        "colab": {
          "base_uri": "https://localhost:8080/"
        },
        "id": "ezIMOf43homZ",
        "outputId": "3b6c808d-f194-4331-dfcd-9a3dc0ee7630"
      },
      "execution_count": null,
      "outputs": [
        {
          "output_type": "execute_result",
          "data": {
            "text/plain": [
              "torch.Size([5, 100])"
            ]
          },
          "metadata": {},
          "execution_count": 85
        }
      ]
    },
    {
      "cell_type": "code",
      "source": [
        "h"
      ],
      "metadata": {
        "colab": {
          "base_uri": "https://localhost:8080/"
        },
        "id": "eLE3BCG_h1xB",
        "outputId": "3e559e76-a9cd-4b78-da62-ddef09cc5ac6"
      },
      "execution_count": null,
      "outputs": [
        {
          "output_type": "execute_result",
          "data": {
            "text/plain": [
              "tensor([[-2.7412,  0.5476,  0.2892,  1.8815, -0.6456,  3.1789, -1.0836, -1.6243,\n",
              "         -3.8582, -1.9889, -2.5695,  0.2978, -1.4710, -4.5400, -1.3815,  0.3917,\n",
              "         -0.0835,  0.2622, -2.0041,  2.7282,  3.2017,  0.8665,  0.7461, -1.4780,\n",
              "          1.5524, -1.4989,  0.7715,  2.7688, -2.6677,  0.7991,  0.3784,  4.0016,\n",
              "          1.6197,  0.7259, -2.2669, -0.4591, -1.4017, -0.5556,  2.5743, -0.1289,\n",
              "         -0.1598, -2.3830, -1.3303, -1.3022, -2.0738,  0.7392, -0.3710,  2.1019,\n",
              "         -0.8123,  2.6262,  2.8383, -0.5970,  1.3967, -1.9475, -3.6887,  2.1617,\n",
              "          2.7498,  1.1010, -4.0838,  1.4693, -3.4095,  1.0139, -2.4407, -1.1668,\n",
              "         -0.2910,  0.3841,  0.4287,  1.1442,  0.2637,  0.5990,  1.0185, -2.3419,\n",
              "         -2.5321,  0.7347, -1.8675, -0.4421, -0.0297,  0.7696,  1.8828,  2.3922,\n",
              "          0.5172, -0.2658,  4.2417,  1.1947,  3.6641, -2.2608,  3.5282, -0.6979,\n",
              "         -2.4744,  2.6916,  2.7329, -2.3438, -1.3491, -1.8668,  2.2551, -3.0050,\n",
              "         -1.2033, -1.1738, -0.2410, -2.5702],\n",
              "        [-1.9407,  0.1112, -0.2599,  1.7366, -1.8707,  2.4541, -1.4366, -1.0313,\n",
              "         -3.6070, -0.6014, -1.3383,  0.1952,  0.4263, -2.9237, -1.4331, -0.6647,\n",
              "         -0.6328, -1.0868, -1.4319,  2.4698,  2.9251,  0.9140,  1.2493, -1.8124,\n",
              "          1.5719, -0.9793,  0.3798,  1.8883, -2.0062,  0.2535,  1.1349,  3.0248,\n",
              "          0.8605,  1.0767, -2.0148, -0.9550, -0.9884, -0.2795,  1.1190,  0.7776,\n",
              "         -1.1685, -1.2972, -0.9752, -0.9373, -2.5642,  1.9067, -1.0725,  1.6784,\n",
              "         -1.0298,  2.3649,  1.9411, -1.4297,  1.1288, -1.7460, -3.5635,  2.2100,\n",
              "          1.6696,  0.7800, -3.0939,  0.9875, -1.4971,  2.2496, -2.6798, -0.6348,\n",
              "         -0.0114,  1.4137,  0.6257, -0.0431,  0.3009, -0.8435,  0.1770, -3.4817,\n",
              "         -2.0274, -0.6938, -1.5827, -0.4400,  0.3260,  0.1511,  0.4893,  1.8783,\n",
              "          0.4384,  0.6131,  3.2836, -0.7670,  2.7889, -1.2674,  2.6560, -1.8996,\n",
              "         -2.9493,  2.3988,  1.2659, -2.4049, -2.0784, -0.4218,  1.2263, -2.0012,\n",
              "         -1.1537, -0.8380, -1.2343, -1.4455],\n",
              "        [-4.0027,  0.0743,  0.6986,  7.9143, -1.5724, -0.0380,  0.5783,  0.9097,\n",
              "         -2.8523, -2.9983,  0.1106, -2.3612, -1.9776, -3.3617,  2.9881, -0.5191,\n",
              "          2.4460, -0.8551,  4.4634,  1.3224,  1.9531,  1.0881,  0.2606, -5.0535,\n",
              "         -1.0870, -1.5732,  0.6545, -1.2520,  0.8514, -2.0165, -3.3820,  0.8860,\n",
              "          2.9698, -0.2564,  2.0187, -1.6103, -1.4531, -0.4096, -0.9735,  2.8178,\n",
              "         -1.0678,  1.1470, -0.6280, -4.5245,  0.4210,  0.3570,  0.0571, -3.0360,\n",
              "          1.6593,  1.3541,  3.0873,  0.0856, -0.3556, -5.3121, -2.0589,  1.2232,\n",
              "          4.6333,  2.4429,  1.7605,  1.7117, -3.0396,  0.1860, -0.4438, -0.5640,\n",
              "          2.9746,  1.6562,  2.5700, -0.7461, -1.6706, -0.2854, -0.3948, -0.9669,\n",
              "          3.7159, -2.9415,  2.9963,  0.7790, -1.5006,  5.7743, -3.0209, -3.1839,\n",
              "         -1.0109,  0.2461,  1.5561, -1.7183,  0.3306, -3.0708,  3.3378, -1.0513,\n",
              "          3.2170,  1.6425,  3.8135, -4.4127,  4.4705,  2.8847, -1.2605, -1.2878,\n",
              "         -1.8869,  1.7135, -3.6073,  0.3087],\n",
              "        [-3.0792, -2.1627,  0.3836,  5.0915, -1.7905,  0.5835,  3.3699, -3.1667,\n",
              "         -0.0253, -2.9116,  3.9823, -6.4042, -4.2522, -2.8194,  1.6097, -0.8416,\n",
              "          2.7466, -1.8328,  3.0038,  0.7758, -2.3281,  3.0651, -2.4837, -2.9473,\n",
              "         -1.6846,  1.8079,  0.1984, -2.2194,  1.3354, -0.6470,  1.4165, -4.2820,\n",
              "          0.8906,  0.6242,  0.5222, -0.8389, -0.5278, -2.5872, -4.2957,  3.2907,\n",
              "         -0.2828,  1.2484,  0.6397, -1.9796,  1.2370,  1.7303,  2.1134, -2.4090,\n",
              "          4.5955, -1.5334, -0.0126,  1.4814,  1.2500, -2.4484, -1.2447,  2.7904,\n",
              "          4.2789,  5.7987,  2.1493,  6.4086, -1.6257, -0.2968,  0.1462,  1.5829,\n",
              "          5.1069,  1.2090,  1.5814, -2.5919, -2.0170, -2.4371,  2.7035,  7.4271,\n",
              "          6.5144, -2.9171,  3.5233,  3.3924,  1.0411,  1.1864, -2.4830, -1.8011,\n",
              "          1.7853,  0.7824, -3.0906, -3.0979, -2.6343,  0.7948,  0.3520,  0.7844,\n",
              "          1.9962, -0.3845, -1.2378, -1.7020,  4.2225,  1.8228, -1.0467, -0.8125,\n",
              "         -1.4784,  0.0930, -2.1505,  1.1671],\n",
              "        [-0.4429,  2.1568,  3.8827, -1.2069, -2.3170, -1.0059, -0.6180, -2.6380,\n",
              "          0.4122, -0.4640,  1.9896, -4.8484,  0.6197, -1.1565, -1.6275,  1.0670,\n",
              "          1.1748, -2.3379,  4.2439,  1.3783, -1.6448,  3.7453, -2.2665, -2.5706,\n",
              "          1.6349,  1.9235, -1.1627, -2.3177, -3.0312, -0.0703,  8.8486, -1.9484,\n",
              "         -1.7256,  0.3971, -2.7859, -0.9329, -2.4844, -5.9189, -6.0658, -1.3541,\n",
              "          1.5996,  2.0799, -2.2524,  2.1215, -3.1466,  2.2480,  0.0226,  2.2034,\n",
              "          3.0431, -3.3252,  0.5992, -1.0172,  1.9243,  1.2969, -3.0114,  4.7067,\n",
              "          2.7935,  3.8205,  1.0100,  3.9220,  2.9392,  5.3660, -2.2764,  1.8581,\n",
              "          4.9796, -2.2431,  1.0483, -3.1598,  3.8934, -4.3877,  2.0077,  6.4115,\n",
              "          3.5861, -0.1876,  1.3085,  1.1852,  0.8980, -0.8028,  1.7522,  3.1075,\n",
              "         -0.4466,  3.0394, -2.2611, -0.4474, -1.9664,  2.2241, -1.3584, -1.2442,\n",
              "         -3.0098, -0.4233, -6.8636, -1.0483,  4.9052,  0.1780, -1.0243, -0.1988,\n",
              "         -2.0451, -0.8783, -2.5824,  0.8467]])"
            ]
          },
          "metadata": {},
          "execution_count": 86
        }
      ]
    },
    {
      "cell_type": "markdown",
      "source": [
        "## Правильный вид"
      ],
      "metadata": {
        "id": "TqisIQQ0iMym"
      }
    },
    {
      "cell_type": "code",
      "source": [
        "##-- hidden state\n",
        "h = torch.tanh(emb.view(-1, 6) @ W1 + b1)"
      ],
      "metadata": {
        "id": "jYYcLKI-h4DM"
      },
      "execution_count": null,
      "outputs": []
    },
    {
      "cell_type": "code",
      "source": [
        "h.shape"
      ],
      "metadata": {
        "colab": {
          "base_uri": "https://localhost:8080/"
        },
        "id": "a584OTg3iRVq",
        "outputId": "75821882-e0af-4a07-a000-8b33217d2590"
      },
      "execution_count": null,
      "outputs": [
        {
          "output_type": "execute_result",
          "data": {
            "text/plain": [
              "torch.Size([5, 100])"
            ]
          },
          "metadata": {},
          "execution_count": 89
        }
      ]
    },
    {
      "cell_type": "code",
      "source": [
        "W2 = torch.randn((100, 27))\n",
        "b2 = torch.randn(27)"
      ],
      "metadata": {
        "id": "hl6bidkTiU-t"
      },
      "execution_count": null,
      "outputs": []
    },
    {
      "cell_type": "code",
      "source": [
        "logits = h @ W2 + b2"
      ],
      "metadata": {
        "id": "9VNnYXofiyZf"
      },
      "execution_count": null,
      "outputs": []
    },
    {
      "cell_type": "code",
      "source": [
        "logits.shape"
      ],
      "metadata": {
        "colab": {
          "base_uri": "https://localhost:8080/"
        },
        "id": "JQOLTQNliz3X",
        "outputId": "2ab62dc8-0ae6-4647-8454-bc5894d32d9f"
      },
      "execution_count": null,
      "outputs": [
        {
          "output_type": "execute_result",
          "data": {
            "text/plain": [
              "torch.Size([5, 27])"
            ]
          },
          "metadata": {},
          "execution_count": 92
        }
      ]
    },
    {
      "cell_type": "code",
      "source": [
        "counts = logits.exp()"
      ],
      "metadata": {
        "id": "gRYADBEVi1Pi"
      },
      "execution_count": null,
      "outputs": []
    },
    {
      "cell_type": "code",
      "source": [
        "prob = counts / counts.sum(1, keepdims=True)"
      ],
      "metadata": {
        "id": "uJLUYO7Pi4FL"
      },
      "execution_count": null,
      "outputs": []
    },
    {
      "cell_type": "code",
      "source": [
        "prob"
      ],
      "metadata": {
        "colab": {
          "base_uri": "https://localhost:8080/"
        },
        "id": "WuzCP3N2jRKr",
        "outputId": "42ffc165-46ab-4360-e8e7-411eded04562"
      },
      "execution_count": null,
      "outputs": [
        {
          "output_type": "execute_result",
          "data": {
            "text/plain": [
              "tensor([[1.0915e-08, 1.0727e-04, 4.0268e-01, 5.2274e-07, 4.1101e-09, 1.3208e-09,\n",
              "         3.7657e-02, 2.9059e-08, 8.2371e-07, 4.5302e-07, 8.1718e-08, 3.8580e-11,\n",
              "         1.0387e-02, 8.1487e-05, 1.1355e-09, 9.4239e-02, 1.6529e-11, 2.6368e-06,\n",
              "         1.3208e-06, 1.7372e-06, 1.7677e-07, 2.9932e-09, 4.5458e-01, 4.9256e-05,\n",
              "         5.3300e-10, 8.6622e-05, 1.2576e-04],\n",
              "        [4.2117e-07, 1.4588e-03, 1.9355e-04, 1.4570e-09, 4.2311e-10, 2.8371e-07,\n",
              "         3.8562e-02, 3.2251e-08, 5.1705e-04, 2.0186e-06, 1.2044e-08, 1.3030e-11,\n",
              "         6.1003e-06, 1.8847e-01, 1.0463e-07, 6.9727e-03, 7.1219e-11, 9.1762e-08,\n",
              "         4.7288e-07, 2.0694e-07, 8.0397e-06, 1.1725e-09, 6.9517e-01, 5.2804e-05,\n",
              "         5.9165e-09, 2.4167e-06, 6.8584e-02],\n",
              "        [1.5249e-08, 9.9670e-01, 1.1675e-05, 5.3233e-10, 3.0942e-11, 2.1827e-07,\n",
              "         1.1726e-05, 3.8108e-15, 7.1701e-08, 7.9963e-10, 5.6118e-14, 3.3601e-14,\n",
              "         9.1751e-07, 2.4129e-04, 2.6552e-07, 1.8433e-09, 1.6226e-12, 6.3689e-12,\n",
              "         3.0288e-03, 2.9389e-07, 2.2243e-07, 1.6031e-11, 1.1590e-09, 2.2970e-08,\n",
              "         6.7487e-07, 3.8023e-10, 1.4289e-17],\n",
              "        [2.6569e-06, 6.5969e-06, 3.2474e-06, 1.3438e-04, 2.5368e-10, 3.2457e-08,\n",
              "         1.2960e-03, 4.0959e-12, 1.4766e-01, 9.8186e-05, 2.1358e-15, 2.1926e-06,\n",
              "         1.5207e-08, 8.2543e-01, 1.1193e-02, 1.4394e-08, 1.5995e-08, 3.4921e-06,\n",
              "         5.3935e-03, 2.9394e-06, 1.3584e-06, 3.5754e-06, 3.0456e-11, 1.6312e-06,\n",
              "         8.6961e-03, 7.1257e-05, 3.3495e-09],\n",
              "        [2.4762e-15, 2.5253e-10, 1.6673e-13, 3.1509e-12, 1.5112e-18, 2.6055e-18,\n",
              "         9.9988e-01, 4.7967e-19, 4.2603e-06, 2.3022e-08, 2.9622e-18, 2.5524e-14,\n",
              "         2.0489e-13, 2.2392e-07, 3.9426e-08, 7.3118e-11, 8.5475e-10, 8.6374e-09,\n",
              "         7.7570e-12, 6.4822e-07, 4.3838e-16, 1.3608e-13, 1.9520e-16, 4.5951e-13,\n",
              "         1.2019e-13, 1.7661e-16, 1.1686e-04]])"
            ]
          },
          "metadata": {},
          "execution_count": 101
        }
      ]
    },
    {
      "cell_type": "code",
      "source": [
        "prob.shape"
      ],
      "metadata": {
        "colab": {
          "base_uri": "https://localhost:8080/"
        },
        "id": "TWS0MS0hi8Ke",
        "outputId": "74a744f5-dd76-44ed-9975-cd7bbe4666ff"
      },
      "execution_count": null,
      "outputs": [
        {
          "output_type": "execute_result",
          "data": {
            "text/plain": [
              "torch.Size([5, 27])"
            ]
          },
          "metadata": {},
          "execution_count": 98
        }
      ]
    },
    {
      "cell_type": "code",
      "source": [
        "Y"
      ],
      "metadata": {
        "colab": {
          "base_uri": "https://localhost:8080/"
        },
        "id": "ZVZ1wrchi-D5",
        "outputId": "f7aae884-bd5e-4f42-8bea-170108c0c222"
      },
      "execution_count": null,
      "outputs": [
        {
          "output_type": "execute_result",
          "data": {
            "text/plain": [
              "tensor([ 5, 13, 13,  1,  0])"
            ]
          },
          "metadata": {},
          "execution_count": 99
        }
      ]
    },
    {
      "cell_type": "code",
      "source": [
        "##-- get probability in target idx\n",
        "prob[torch.arange(len(Y)), Y]\n"
      ],
      "metadata": {
        "colab": {
          "base_uri": "https://localhost:8080/"
        },
        "id": "zFmLrwqTjAMx",
        "outputId": "913c9258-c0fe-478e-e74a-f52a86d7490f"
      },
      "execution_count": null,
      "outputs": [
        {
          "output_type": "execute_result",
          "data": {
            "text/plain": [
              "tensor([1.3208e-09, 1.8847e-01, 2.4129e-04, 6.5969e-06, 2.4762e-15])"
            ]
          },
          "metadata": {},
          "execution_count": 100
        }
      ]
    },
    {
      "cell_type": "code",
      "source": [
        "loss = -prob[torch.arange(len(Y)), Y].log().mean()\n",
        "loss"
      ],
      "metadata": {
        "colab": {
          "base_uri": "https://localhost:8080/"
        },
        "id": "X21krkyajPjy",
        "outputId": "72a1edc8-bd35-428d-c535-cfadbcf79005"
      },
      "execution_count": null,
      "outputs": [
        {
          "output_type": "execute_result",
          "data": {
            "text/plain": [
              "tensor(15.2009)"
            ]
          },
          "metadata": {},
          "execution_count": 102
        }
      ]
    },
    {
      "cell_type": "code",
      "source": [
        " ## -------------------------- now made respectable :) ----------------------- ##"
      ],
      "metadata": {
        "id": "HoDMHlb7jg0q"
      },
      "execution_count": null,
      "outputs": []
    },
    {
      "cell_type": "code",
      "source": [
        "X.shape, Y.shape ##-- dataset"
      ],
      "metadata": {
        "colab": {
          "base_uri": "https://localhost:8080/"
        },
        "id": "li32mz4Njmaw",
        "outputId": "930dc920-9d7e-49fb-f9fa-aec2bfcac2ff"
      },
      "execution_count": null,
      "outputs": [
        {
          "output_type": "execute_result",
          "data": {
            "text/plain": [
              "(torch.Size([5, 3]), torch.Size([5]))"
            ]
          },
          "metadata": {},
          "execution_count": 115
        }
      ]
    },
    {
      "cell_type": "code",
      "source": [
        "g = torch.Generator().manual_seed(2147483647)\n",
        "C = torch.randn((27, 2), generator=g)\n",
        "W1 = torch.randn((6, 100), generator=g)\n",
        "b1 = torch.randn(100, generator=g)\n",
        "W2 = torch.randn((100, 27), generator=g)\n",
        "b2 = torch.randn(27, generator=g)\n",
        "parameters = [C, W1, b1, W2, b2]"
      ],
      "metadata": {
        "id": "Vp5rOfsXj3vf"
      },
      "execution_count": null,
      "outputs": []
    },
    {
      "cell_type": "code",
      "source": [
        "sum(p.nelement() for p in parameters)"
      ],
      "metadata": {
        "colab": {
          "base_uri": "https://localhost:8080/"
        },
        "id": "INYPWvNIkQi_",
        "outputId": "f89091c2-e116-4c7e-bf38-8eab9ae86196"
      },
      "execution_count": null,
      "outputs": [
        {
          "output_type": "execute_result",
          "data": {
            "text/plain": [
              "3481"
            ]
          },
          "metadata": {},
          "execution_count": 108
        }
      ]
    },
    {
      "cell_type": "code",
      "source": [
        "emb = C[X] ##-- (5, 3, 2)\n",
        "h = torch.tanh(emb.view(-1, 6) @ W1 + b1) ##-- (5, 100)\n",
        "logits = h @ W2 + b2 ##-- (5, 27)\n",
        "# ##-- crossentropy\n",
        "# counts = logits.exp()\n",
        "# prob = counts / counts.sum(1, keepdims=True)\n",
        "# loss = -prob[torch.arange(len(Y)), Y].log().mean()\n",
        "loss = F.cross_entropy(logits, Y)\n",
        "loss"
      ],
      "metadata": {
        "colab": {
          "base_uri": "https://localhost:8080/"
        },
        "id": "eXS_MWNEkTnf",
        "outputId": "2542aa04-0b33-4ea4-d20d-fe22b27e0a3e"
      },
      "execution_count": null,
      "outputs": [
        {
          "output_type": "execute_result",
          "data": {
            "text/plain": [
              "tensor(24.9418)"
            ]
          },
          "metadata": {},
          "execution_count": 113
        }
      ]
    },
    {
      "cell_type": "code",
      "source": [
        "##-- 3 причины использовать crossentropy, а не самодельный код\n",
        "###-- 1. оптимизирован forward pass\n",
        "###-- 2. оптимизирован backward pass\n",
        "###-- 3. числа не будут ломаться\n",
        "\n",
        "'''\n",
        "logits = torch.tensor([-2, 3, 0, 100])\n",
        "counts = logits.exp()\n",
        "prob = counts / counts.sum(1, keepdims=True) ##-- [0, 0, 0, nan] - потому что мы возвели в степерь 100 e^100 = +inf\n",
        "##-- \n",
        "\n",
        "logits = torch.tensor([-2, 3, 0, 100]) - 100 ##-- crossentropy под капотом вычитает максимальное число - результат не меняется, но не будет ошибки\n",
        "counts = logits.exp()\n",
        "prob = counts / counts.sum(1, keepdims=True) ##-- [0, 0, 0, 1]\n",
        "'''"
      ],
      "metadata": {
        "colab": {
          "base_uri": "https://localhost:8080/",
          "height": 93
        },
        "id": "nj6fIxO6k6NF",
        "outputId": "26567531-fa3a-42ee-c839-3e05f84ce19c"
      },
      "execution_count": null,
      "outputs": [
        {
          "output_type": "execute_result",
          "data": {
            "text/plain": [
              "'\\nlogits = torch.tensor([-2, 3, 0, 100])\\ncounts = logits.exp()\\nprob = counts / counts.sum(1, keepdims=True) ##-- [0, 0, 0, nan] - потому что мы возвели в степерь 100 e^100 = +inf\\n##-- \\n\\nlogits = torch.tensor([-2, 3, 0, 100]) - 100 ##-- crossentropy под капотом вычитает максимальное число - результат не меняется, но не будет ошибки\\ncounts = logits.exp()\\nprob = counts / counts.sum(1, keepdims=True) ##-- [0, 0, 0, 1]\\n'"
            ],
            "application/vnd.google.colaboratory.intrinsic+json": {
              "type": "string"
            }
          },
          "metadata": {},
          "execution_count": 114
        }
      ]
    },
    {
      "cell_type": "code",
      "source": [
        " ## -------------------------- now made respectable :) ----------------------- ##"
      ],
      "metadata": {
        "id": "FfwwsNl_necx"
      },
      "execution_count": null,
      "outputs": []
    },
    {
      "cell_type": "code",
      "source": [
        "X.shape, Y.shape ##-- dataset"
      ],
      "metadata": {
        "colab": {
          "base_uri": "https://localhost:8080/"
        },
        "id": "snPRsPBInis4",
        "outputId": "3f46904d-90e2-42d2-cfc4-647c0d08f121"
      },
      "execution_count": null,
      "outputs": [
        {
          "output_type": "execute_result",
          "data": {
            "text/plain": [
              "(torch.Size([5, 3]), torch.Size([5]))"
            ]
          },
          "metadata": {},
          "execution_count": 117
        }
      ]
    },
    {
      "cell_type": "code",
      "source": [
        "g = torch.Generator().manual_seed(2147483647)\n",
        "C = torch.randn((27, 2), generator=g)\n",
        "W1 = torch.randn((6, 100), generator=g)\n",
        "b1 = torch.randn(100, generator=g)\n",
        "W2 = torch.randn((100, 27), generator=g)\n",
        "b2 = torch.randn(27, generator=g)\n",
        "parameters = [C, W1, b1, W2, b2]"
      ],
      "metadata": {
        "id": "vxMQVoBNnjTk"
      },
      "execution_count": null,
      "outputs": []
    },
    {
      "cell_type": "code",
      "source": [
        "sum(p.nelement() for p in parameters)"
      ],
      "metadata": {
        "colab": {
          "base_uri": "https://localhost:8080/"
        },
        "id": "j-fP-oM8nkSs",
        "outputId": "b3ce4f23-706a-4168-90ae-31aecd2031fe"
      },
      "execution_count": null,
      "outputs": [
        {
          "output_type": "execute_result",
          "data": {
            "text/plain": [
              "3481"
            ]
          },
          "metadata": {},
          "execution_count": 119
        }
      ]
    },
    {
      "cell_type": "code",
      "source": [
        "for p in parameters:\n",
        "    p.requires_grad = True"
      ],
      "metadata": {
        "id": "JJgVRoyLn7qu"
      },
      "execution_count": null,
      "outputs": []
    },
    {
      "cell_type": "code",
      "source": [
        "for _ in range(100):\n",
        "    ##-- forward pass\n",
        "    emb = C[X] ##-- (5, 3, 2)\n",
        "    h = torch.tanh(emb.view(-1, 6) @ W1 + b1) ##-- (5, 100)\n",
        "    logits = h @ W2 + b2 ##-- (5, 27)\n",
        "    loss = F.cross_entropy(logits, Y)\n",
        "    print(loss.item())\n",
        "    ##-- backward pass\n",
        "    for p in parameters:\n",
        "        p.grad = None\n",
        "    loss.backward()\n",
        "    ##-- update\n",
        "    for p in parameters:\n",
        "        p.data += -0.01 * p.grad"
      ],
      "metadata": {
        "colab": {
          "base_uri": "https://localhost:8080/"
        },
        "id": "2_dKRIkvnlfc",
        "outputId": "447afaf9-1d62-490f-e12a-ef1b771a6c32"
      },
      "execution_count": null,
      "outputs": [
        {
          "output_type": "stream",
          "name": "stdout",
          "text": [
            "13.923504829406738\n",
            "13.185992240905762\n",
            "12.475647926330566\n",
            "11.789244651794434\n",
            "11.125843048095703\n",
            "10.484864234924316\n",
            "9.86548900604248\n",
            "9.266763687133789\n",
            "8.687784194946289\n",
            "8.127886772155762\n",
            "7.5869035720825195\n",
            "7.0653181076049805\n",
            "6.564135551452637\n",
            "6.084297180175781\n",
            "5.625845909118652\n",
            "5.1875834465026855\n",
            "4.767600059509277\n",
            "4.364171028137207\n",
            "3.976457118988037\n",
            "3.6047492027282715\n",
            "3.2503020763397217\n",
            "2.9148802757263184\n",
            "2.600118637084961\n",
            "2.3070006370544434\n",
            "2.035753011703491\n",
            "1.7862064838409424\n",
            "1.5582034587860107\n",
            "1.3517131805419922\n",
            "1.1665713787078857\n",
            "1.0021944046020508\n",
            "0.857644259929657\n",
            "0.7319485545158386\n",
            "0.6243023872375488\n",
            "0.533876895904541\n",
            "0.4594261646270752\n",
            "0.3990829586982727\n",
            "0.35054469108581543\n",
            "0.3114566504955292\n",
            "0.2797335088253021\n",
            "0.2536848783493042\n",
            "0.2320156991481781\n",
            "0.21375255286693573\n",
            "0.1981700211763382\n",
            "0.18472638726234436\n",
            "0.17301185429096222\n",
            "0.16271308064460754\n",
            "0.15358754992485046\n",
            "0.14544495940208435\n",
            "0.1381334364414215\n",
            "0.1315314918756485\n",
            "0.12554018199443817\n",
            "0.12007772922515869\n",
            "0.115076944231987\n",
            "0.11048147827386856\n",
            "0.10624353587627411\n",
            "0.10232291370630264\n",
            "0.09868519008159637\n",
            "0.09530053287744522\n",
            "0.0921437069773674\n",
            "0.08919183909893036\n",
            "0.08642583340406418\n",
            "0.08382859826087952\n",
            "0.08138490468263626\n",
            "0.0790819376707077\n",
            "0.07690739631652832\n",
            "0.07485120743513107\n",
            "0.07290346175432205\n",
            "0.071056067943573\n",
            "0.06930147111415863\n",
            "0.06763295084238052\n",
            "0.0660439282655716\n",
            "0.06452910602092743\n",
            "0.06308328360319138\n",
            "0.061702024191617966\n",
            "0.06038076803088188\n",
            "0.05911596491932869\n",
            "0.05790390819311142\n",
            "0.056741345673799515\n",
            "0.05562550574541092\n",
            "0.054553378373384476\n",
            "0.053522445261478424\n",
            "0.05253053829073906\n",
            "0.051575373858213425\n",
            "0.05065500736236572\n",
            "0.049767330288887024\n",
            "0.04891097545623779\n",
            "0.0480840839445591\n",
            "0.04728507250547409\n",
            "0.046512894332408905\n",
            "0.04576580971479416\n",
            "0.04504302889108658\n",
            "0.04434290900826454\n",
            "0.043664876371622086\n",
            "0.04300745204091072\n",
            "0.042370084673166275\n",
            "0.041751522570848465\n",
            "0.04115130379796028\n",
            "0.04056840389966965\n",
            "0.0400020033121109\n",
            "0.03945159167051315\n"
          ]
        }
      ]
    },
    {
      "cell_type": "code",
      "source": [
        "##-- y_pred\n",
        "logits.max(1)"
      ],
      "metadata": {
        "colab": {
          "base_uri": "https://localhost:8080/"
        },
        "id": "SOs_VXdXn1RB",
        "outputId": "ba66f754-2a07-4575-c4ae-7fa4623e2445"
      },
      "execution_count": null,
      "outputs": [
        {
          "output_type": "execute_result",
          "data": {
            "text/plain": [
              "torch.return_types.max(\n",
              "values=tensor([13.9039, 16.9163, 18.5992, 14.7803, 13.3040], grad_fn=<MaxBackward0>),\n",
              "indices=tensor([ 5, 13, 13,  1,  0]))"
            ]
          },
          "metadata": {},
          "execution_count": 126
        }
      ]
    },
    {
      "cell_type": "code",
      "source": [
        "Y"
      ],
      "metadata": {
        "colab": {
          "base_uri": "https://localhost:8080/"
        },
        "id": "v3Y4K9y9oZ32",
        "outputId": "cc4a1754-ae17-4f08-be1c-836e22c15e25"
      },
      "execution_count": null,
      "outputs": [
        {
          "output_type": "execute_result",
          "data": {
            "text/plain": [
              "tensor([ 5, 13, 13,  1,  0])"
            ]
          },
          "metadata": {},
          "execution_count": 127
        }
      ]
    },
    {
      "cell_type": "code",
      "source": [
        "F.cross_entropy(logits, Y)"
      ],
      "metadata": {
        "colab": {
          "base_uri": "https://localhost:8080/"
        },
        "id": "Bngj-4cjoaZs",
        "outputId": "fab265c2-8ae0-4d2f-d000-3f7840673fd5"
      },
      "execution_count": null,
      "outputs": [
        {
          "output_type": "execute_result",
          "data": {
            "text/plain": [
              "tensor(0.0395, grad_fn=<NllLossBackward0>)"
            ]
          },
          "metadata": {},
          "execution_count": 128
        }
      ]
    },
    {
      "cell_type": "code",
      "source": [],
      "metadata": {
        "id": "pQzOHpudoieg"
      },
      "execution_count": null,
      "outputs": []
    },
    {
      "cell_type": "code",
      "source": [
        " ## -------------------------- ALL DATASET ----------------------- ##\n",
        " ## -------------------------- now made respectable :) ----------------------- ##"
      ],
      "metadata": {
        "id": "nWtwGbbPpNoF"
      },
      "execution_count": null,
      "outputs": []
    },
    {
      "cell_type": "code",
      "source": [
        "# build the dataset\n",
        "block_size = 3 # context length: how many characters do we take to predict the next one?\n",
        "\n",
        "X, Y = [], []\n",
        "for w in words:\n",
        "    context = [0] * block_size\n",
        "    for ch in w + '.':\n",
        "        ix = stoi[ch]\n",
        "        X.append(context)\n",
        "        Y.append(ix)\n",
        "        # print(''.join(itos[i] for i in context), '--->', itos[ix])\n",
        "        context = context[1:] + [ix] # crop and append\n",
        "\n",
        "X = torch.tensor(X)\n",
        "Y = torch.tensor(Y)\n",
        "print(X.shape, Y.shape)"
      ],
      "metadata": {
        "colab": {
          "base_uri": "https://localhost:8080/"
        },
        "id": "2ZuUoCNhpTPp",
        "outputId": "20c2cd7c-fba7-4d2f-8771-3b66f32b11b0"
      },
      "execution_count": null,
      "outputs": [
        {
          "output_type": "stream",
          "name": "stdout",
          "text": [
            "torch.Size([228146, 3]) torch.Size([228146])\n"
          ]
        }
      ]
    },
    {
      "cell_type": "code",
      "source": [
        "X.shape, Y.shape ##-- dataset"
      ],
      "metadata": {
        "outputId": "e151ba69-6d9c-43b2-ce6b-3a21279c246a",
        "colab": {
          "base_uri": "https://localhost:8080/"
        },
        "id": "9cF-VAT7pNoF"
      },
      "execution_count": null,
      "outputs": [
        {
          "output_type": "execute_result",
          "data": {
            "text/plain": [
              "(torch.Size([228146, 3]), torch.Size([228146]))"
            ]
          },
          "metadata": {},
          "execution_count": 162
        }
      ]
    },
    {
      "cell_type": "code",
      "source": [
        "g = torch.Generator().manual_seed(2147483647)\n",
        "C = torch.randn((27, 2), generator=g)\n",
        "W1 = torch.randn((6, 100), generator=g)\n",
        "b1 = torch.randn(100, generator=g)\n",
        "W2 = torch.randn((100, 27), generator=g)\n",
        "b2 = torch.randn(27, generator=g)\n",
        "parameters = [C, W1, b1, W2, b2]"
      ],
      "metadata": {
        "id": "nJ7VJ4ispNoF"
      },
      "execution_count": null,
      "outputs": []
    },
    {
      "cell_type": "code",
      "source": [
        "sum(p.nelement() for p in parameters)"
      ],
      "metadata": {
        "outputId": "f4338d8e-5f62-45df-f536-42567b37d12e",
        "colab": {
          "base_uri": "https://localhost:8080/"
        },
        "id": "2SOw3gcopNoG"
      },
      "execution_count": null,
      "outputs": [
        {
          "output_type": "execute_result",
          "data": {
            "text/plain": [
              "3481"
            ]
          },
          "metadata": {},
          "execution_count": 164
        }
      ]
    },
    {
      "cell_type": "code",
      "source": [
        "for p in parameters:\n",
        "    p.requires_grad = True"
      ],
      "metadata": {
        "id": "0uBuDAejpNoG"
      },
      "execution_count": null,
      "outputs": []
    },
    {
      "cell_type": "code",
      "source": [
        "##-- scheduling learning rate\n",
        "lre = torch.linspace(-3, 0, 1000)\n",
        "lrs = 10**lre\n",
        "# lrs"
      ],
      "metadata": {
        "id": "1rIIQKCOrXwh"
      },
      "execution_count": null,
      "outputs": []
    },
    {
      "cell_type": "code",
      "source": [
        "lri = []\n",
        "lossi = []\n",
        "\n",
        "for i in range(10000):\n",
        "    ##-- minibatch construct (select random 32 elements)\n",
        "    ix = torch.randint(0, X.shape[0], (32, ))\n",
        "\n",
        "    ##-- forward pass\n",
        "    emb = C[X[ix]] ##-- (32, 3, 2)\n",
        "    h = torch.tanh(emb.view(-1, 6) @ W1 + b1) ##-- (32, 100)\n",
        "    logits = h @ W2 + b2 ##-- (32, 27)\n",
        "    loss = F.cross_entropy(logits, Y[ix])\n",
        "    \n",
        "    ##-- backward pass\n",
        "    for p in parameters:\n",
        "        p.grad = None\n",
        "    loss.backward()\n",
        "    ##-- update\n",
        "    # lr = lrs[i]\n",
        "    lr = 0.01\n",
        "    for p in parameters:\n",
        "        p.data += -lr * p.grad\n",
        "\n",
        "    ##-- track stats\n",
        "    # lri.append(lr)\n",
        "    # lossi.append(loss.item())"
      ],
      "metadata": {
        "id": "0BzP8a-XpNoG"
      },
      "execution_count": null,
      "outputs": []
    },
    {
      "cell_type": "code",
      "source": [
        "# plt.plot(lri, lossi)"
      ],
      "metadata": {
        "id": "1T3lpxMgsUeD"
      },
      "execution_count": null,
      "outputs": []
    },
    {
      "cell_type": "code",
      "source": [
        "##-- Full loss\n",
        "emb = C[X]\n",
        "h = torch.tanh(emb.view(-1, 6) @ W1 + b1)\n",
        "logits = h @ W2 + b2\n",
        "loss = F.cross_entropy(logits, Y)\n",
        "loss"
      ],
      "metadata": {
        "colab": {
          "base_uri": "https://localhost:8080/"
        },
        "id": "GsK4hQznqabj",
        "outputId": "9e288087-3440-495a-c7de-9691ab6ae334"
      },
      "execution_count": null,
      "outputs": [
        {
          "output_type": "execute_result",
          "data": {
            "text/plain": [
              "tensor(2.2882, grad_fn=<NllLossBackward0>)"
            ]
          },
          "metadata": {},
          "execution_count": 181
        }
      ]
    },
    {
      "cell_type": "markdown",
      "source": [
        "# Train test split"
      ],
      "metadata": {
        "id": "YGkyjnJ9pNoH"
      }
    },
    {
      "cell_type": "code",
      "source": [
        "# train, dev/validation, test splits\n",
        "# 80%, 10%, 10%"
      ],
      "metadata": {
        "id": "VyX2VU3XuSzs"
      },
      "execution_count": null,
      "outputs": []
    },
    {
      "cell_type": "markdown",
      "source": [
        "Train set используется для оптимизации параметров (весов модели)\n",
        "\n",
        "Valid set используется для оптимизации гиперпараметров модели (количество деревьев, коэфициенты регуларизации и тд)\n",
        "\n",
        "Test set используется для проверки качества модели"
      ],
      "metadata": {
        "id": "R8eYqxksuW5B"
      }
    },
    {
      "cell_type": "code",
      "source": [
        "# build the dataset\n",
        "block_size = 3 # context length: how many characters do we take to predict the next one?\n",
        "\n",
        "def build_dataset(words):\n",
        "  X, Y = [], []\n",
        "  for w in words:\n",
        "\n",
        "    #print(w)\n",
        "    context = [0] * block_size\n",
        "    for ch in w + '.':\n",
        "      ix = stoi[ch]\n",
        "      X.append(context)\n",
        "      Y.append(ix)\n",
        "      #print(''.join(itos[i] for i in context), '--->', itos[ix])\n",
        "      context = context[1:] + [ix] # crop and append\n",
        "\n",
        "  X = torch.tensor(X)\n",
        "  Y = torch.tensor(Y)\n",
        "  print(X.shape, Y.shape)\n",
        "  return X, Y\n",
        "\n",
        "import random\n",
        "random.seed(42)\n",
        "random.shuffle(words)\n",
        "n1 = int(0.8*len(words))\n",
        "n2 = int(0.9*len(words))\n",
        "\n",
        "Xtr, Ytr = build_dataset(words[:n1])\n",
        "Xdev, Ydev = build_dataset(words[n1:n2])\n",
        "Xte, Yte = build_dataset(words[n2:])"
      ],
      "metadata": {
        "colab": {
          "base_uri": "https://localhost:8080/"
        },
        "id": "CKHwINvrwTSS",
        "outputId": "7c8a3596-5562-49a0-dd46-f1a4f152d6ef"
      },
      "execution_count": null,
      "outputs": [
        {
          "output_type": "stream",
          "name": "stdout",
          "text": [
            "torch.Size([182625, 3]) torch.Size([182625])\n",
            "torch.Size([22655, 3]) torch.Size([22655])\n",
            "torch.Size([22866, 3]) torch.Size([22866])\n"
          ]
        }
      ]
    },
    {
      "cell_type": "code",
      "source": [
        "g = torch.Generator().manual_seed(2147483647) # for reproducibility\n",
        "C = torch.randn((27, 10), generator=g)\n",
        "W1 = torch.randn((30, 200), generator=g)\n",
        "b1 = torch.randn(200, generator=g)\n",
        "W2 = torch.randn((200, 27), generator=g)\n",
        "b2 = torch.randn(27, generator=g)\n",
        "parameters = [C, W1, b1, W2, b2]"
      ],
      "metadata": {
        "id": "h1osko6ywTm9"
      },
      "execution_count": null,
      "outputs": []
    },
    {
      "cell_type": "code",
      "source": [
        "sum(p.nelement() for p in parameters) # number of parameters in total"
      ],
      "metadata": {
        "colab": {
          "base_uri": "https://localhost:8080/"
        },
        "id": "shDl65dQwhnt",
        "outputId": "cd73c7bd-d10c-46a7-af3e-598875576457"
      },
      "execution_count": null,
      "outputs": [
        {
          "output_type": "execute_result",
          "data": {
            "text/plain": [
              "11897"
            ]
          },
          "metadata": {},
          "execution_count": 185
        }
      ]
    },
    {
      "cell_type": "code",
      "source": [
        "for p in parameters:\n",
        "  p.requires_grad = True"
      ],
      "metadata": {
        "id": "ImltAOn5wi36"
      },
      "execution_count": null,
      "outputs": []
    },
    {
      "cell_type": "code",
      "source": [
        "lre = torch.linspace(-3, 0, 1000)\n",
        "lrs = 10**lre"
      ],
      "metadata": {
        "id": "O8XA-SKewkPY"
      },
      "execution_count": null,
      "outputs": []
    },
    {
      "cell_type": "code",
      "source": [
        "lri = []\n",
        "lossi = []\n",
        "stepi = []"
      ],
      "metadata": {
        "id": "HlU6fq5EwlXZ"
      },
      "execution_count": null,
      "outputs": []
    },
    {
      "cell_type": "code",
      "source": [
        "for i in range(200000):\n",
        "  \n",
        "  # minibatch construct\n",
        "  ix = torch.randint(0, Xtr.shape[0], (32,))\n",
        "  \n",
        "  # forward pass\n",
        "  emb = C[Xtr[ix]] # (32, 3, 2)\n",
        "  h = torch.tanh(emb.view(-1, 30) @ W1 + b1) # (32, 100)\n",
        "  logits = h @ W2 + b2 # (32, 27)\n",
        "  loss = F.cross_entropy(logits, Ytr[ix])\n",
        "  #print(loss.item())\n",
        "  \n",
        "  # backward pass\n",
        "  for p in parameters:\n",
        "    p.grad = None\n",
        "  loss.backward()\n",
        "  \n",
        "  # update\n",
        "  #lr = lrs[i]\n",
        "  lr = 0.1 if i < 100000 else 0.01\n",
        "  for p in parameters:\n",
        "    p.data += -lr * p.grad\n",
        "\n",
        "  # track stats\n",
        "  #lri.append(lre[i])\n",
        "  stepi.append(i)\n",
        "  lossi.append(loss.log10().item())\n",
        "\n",
        "#print(loss.item())"
      ],
      "metadata": {
        "id": "QeqX4LpAwmje"
      },
      "execution_count": null,
      "outputs": []
    },
    {
      "cell_type": "code",
      "source": [
        "plt.plot(stepi, lossi)"
      ],
      "metadata": {
        "colab": {
          "base_uri": "https://localhost:8080/",
          "height": 284
        },
        "id": "0C6usIIgwpqb",
        "outputId": "8390f7ac-ac44-4e06-df7c-c97f17dd7b6c"
      },
      "execution_count": null,
      "outputs": [
        {
          "output_type": "execute_result",
          "data": {
            "text/plain": [
              "[<matplotlib.lines.Line2D at 0x7f9bc5b7ec70>]"
            ]
          },
          "metadata": {},
          "execution_count": 190
        },
        {
          "output_type": "display_data",
          "data": {
            "text/plain": [
              "<Figure size 432x288 with 1 Axes>"
            ],
            "image/png": "[encoded data removed]"
          },
          "metadata": {
            "needs_background": "light"
          }
        }
      ]
    },
    {
      "cell_type": "code",
      "source": [
        "# training loss \n",
        "emb = C[Xtr] # (32, 3, 2)\n",
        "h = torch.tanh(emb.view(-1, 30) @ W1 + b1) # (32, 100)\n",
        "logits = h @ W2 + b2 # (32, 27)\n",
        "loss = F.cross_entropy(logits, Ytr)\n",
        "loss"
      ],
      "metadata": {
        "colab": {
          "base_uri": "https://localhost:8080/"
        },
        "id": "2QLPmuPlwsMu",
        "outputId": "ea76e7e2-031a-42e2-84ac-41ba57db2ed0"
      },
      "execution_count": null,
      "outputs": [
        {
          "output_type": "execute_result",
          "data": {
            "text/plain": [
              "tensor(2.1329, grad_fn=<NllLossBackward0>)"
            ]
          },
          "metadata": {},
          "execution_count": 191
        }
      ]
    },
    {
      "cell_type": "code",
      "source": [
        "# validation loss\n",
        "emb = C[Xdev] # (32, 3, 2)\n",
        "h = torch.tanh(emb.view(-1, 30) @ W1 + b1) # (32, 100)\n",
        "logits = h @ W2 + b2 # (32, 27)\n",
        "loss = F.cross_entropy(logits, Ydev)\n",
        "loss"
      ],
      "metadata": {
        "colab": {
          "base_uri": "https://localhost:8080/"
        },
        "id": "VBukXzXmwzty",
        "outputId": "f341f255-a274-4f73-f1ca-1df5c3438d00"
      },
      "execution_count": null,
      "outputs": [
        {
          "output_type": "execute_result",
          "data": {
            "text/plain": [
              "tensor(2.1727, grad_fn=<NllLossBackward0>)"
            ]
          },
          "metadata": {},
          "execution_count": 192
        }
      ]
    },
    {
      "cell_type": "code",
      "source": [
        "# test loss\n",
        "emb = C[Xte] # (32, 3, 2)\n",
        "h = torch.tanh(emb.view(-1, 30) @ W1 + b1) # (32, 100)\n",
        "logits = h @ W2 + b2 # (32, 27)\n",
        "loss = F.cross_entropy(logits, Yte)\n",
        "loss"
      ],
      "metadata": {
        "colab": {
          "base_uri": "https://localhost:8080/"
        },
        "id": "Pz0h4gDZw0tn",
        "outputId": "01113a0f-ec49-41c4-dd84-837e95a4dc55"
      },
      "execution_count": null,
      "outputs": [
        {
          "output_type": "execute_result",
          "data": {
            "text/plain": [
              "tensor(2.1726, grad_fn=<NllLossBackward0>)"
            ]
          },
          "metadata": {},
          "execution_count": 193
        }
      ]
    },
    {
      "cell_type": "code",
      "source": [
        "# visualize dimensions 0 and 1 of the embedding matrix C for all characters\n",
        "plt.figure(figsize=(8,8))\n",
        "plt.scatter(C[:,0].data, C[:,1].data, s=200)\n",
        "for i in range(C.shape[0]):\n",
        "    plt.text(C[i,0].item(), C[i,1].item(), itos[i], ha=\"center\", va=\"center\", color='white')\n",
        "plt.grid('minor')"
      ],
      "metadata": {
        "colab": {
          "base_uri": "https://localhost:8080/",
          "height": 483
        },
        "id": "xBkFluXgw2DZ",
        "outputId": "7e0cdcf9-c703-426e-c527-95a9759dd191"
      },
      "execution_count": null,
      "outputs": [
        {
          "output_type": "display_data",
          "data": {
            "text/plain": [
              "<Figure size 576x576 with 1 Axes>"
            ],
            "image/png": "[encoded data removed]"
          },
          "metadata": {
            "needs_background": "light"
          }
        }
      ]
    },
    {
      "cell_type": "markdown",
      "source": [
        "# Generate"
      ],
      "metadata": {
        "id": "uo5_EAz8yDeo"
      }
    },
    {
      "cell_type": "code",
      "source": [
        "##-- sample from the model\n",
        "g = torch.Generator().manual_seed(2147483647 + 10)\n",
        "\n",
        "\n",
        "for _ in range(20):\n",
        "    out = []\n",
        "\n",
        "    context = [0] * block_size\n",
        "\n",
        "    while True:\n",
        "        emb = C[torch.tensor([context])]\n",
        "        h = torch.tanh(emb.view(1, -1) @ W1 + b1)\n",
        "        logits = h @ W2 + b2\n",
        "        probs = F.softmax(logits, dim=1)\n",
        "\n",
        "        ix = torch.multinomial(probs, num_samples=1, replacement=True, generator=g).item()\n",
        "        context = context[1:] + [ix]\n",
        "\n",
        "        out.append(ix)\n",
        "        if ix == 0:\n",
        "            break\n",
        "\n",
        "    print(''.join(itos[i] for i in out))"
      ],
      "metadata": {
        "colab": {
          "base_uri": "https://localhost:8080/"
        },
        "id": "DA40ZkPPz1kU",
        "outputId": "6e669450-f9ce-44e9-e190-51858807feac"
      },
      "execution_count": null,
      "outputs": [
        {
          "output_type": "stream",
          "name": "stdout",
          "text": [
            "osy.\n",
            "jergiel.\n",
            "mabdulan.\n",
            "fran.\n",
            "mycaidlyontson.\n",
            "sima.\n",
            "eyrathlya.\n",
            "saresham.\n",
            "naviano.\n",
            "mackyah.\n",
            "renica.\n",
            "ell.\n",
            "beaur.\n",
            "ler.\n",
            "alvyqia.\n",
            "abbizhia.\n",
            "carlynn.\n",
            "dren.\n",
            "avalen.\n",
            "lice.\n"
          ]
        }
      ]
    },
    {
      "cell_type": "code",
      "source": [
        "! touch mlp.py"
      ],
      "metadata": {
        "id": "rZWU9I9e03f-"
      },
      "execution_count": null,
      "outputs": []
    },
    {
      "cell_type": "code",
      "source": [
        "#@title script\n",
        "script = \\\n",
        "\"\"\"\n",
        "import torch\n",
        "import torch.nn.functional as F\n",
        "import random\n",
        "random.seed(42)\n",
        "\n",
        "# download the names.txt file from github\n",
        "# ! wget https://raw.githubusercontent.com/karpathy/makemore/master/names.txt\n",
        "\n",
        "words = open('names.txt', 'r').read().splitlines()\n",
        "\n",
        "# build the vocabulary of characters and mappings to/from integers\n",
        "chars = sorted(list(set(''.join(words))))\n",
        "stoi = {s:i+1 for i,s in enumerate(chars)}\n",
        "stoi['.'] = 0\n",
        "itos = {i:s for s,i in stoi.items()}\n",
        "\n",
        "##-- build the dataset\n",
        "block_size = 3 # context length: how many characters do we take to predict the next one?\n",
        "\n",
        "def build_dataset(words):\n",
        "  X, Y = [], []\n",
        "  for w in words:\n",
        "\n",
        "    #print(w)\n",
        "    context = [0] * block_size\n",
        "    for ch in w + '.':\n",
        "      ix = stoi[ch]\n",
        "      X.append(context)\n",
        "      Y.append(ix)\n",
        "      #print(''.join(itos[i] for i in context), '--->', itos[ix])\n",
        "      context = context[1:] + [ix] # crop and append\n",
        "\n",
        "  X = torch.tensor(X)\n",
        "  Y = torch.tensor(Y)\n",
        "  print(X.shape, Y.shape)\n",
        "  return X, Y\n",
        "\n",
        "random.shuffle(words)\n",
        "n1 = int(0.8*len(words))\n",
        "n2 = int(0.9*len(words))\n",
        "\n",
        "Xtr, Ytr = build_dataset(words[:n1])\n",
        "Xdev, Ydev = build_dataset(words[n1:n2])\n",
        "Xte, Yte = build_dataset(words[n2:])\n",
        "\n",
        "##-- parameters\n",
        "g = torch.Generator().manual_seed(2147483647) # for reproducibility\n",
        "C = torch.randn((27, 10), generator=g)\n",
        "W1 = torch.randn((30, 200), generator=g)\n",
        "b1 = torch.randn(200, generator=g)\n",
        "W2 = torch.randn((200, 27), generator=g)\n",
        "b2 = torch.randn(27, generator=g)\n",
        "parameters = [C, W1, b1, W2, b2]\n",
        "\n",
        "\n",
        "\n",
        "for p in parameters:\n",
        "  p.requires_grad = True\n",
        "\n",
        "\n",
        "lre = torch.linspace(-3, 0, 1000)\n",
        "lrs = 10**lre\n",
        "\n",
        "lri = []\n",
        "lossi = []\n",
        "stepi = []\n",
        "\n",
        "\n",
        "for i in range(1000):\n",
        "  \n",
        "  # minibatch construct\n",
        "  ix = torch.randint(0, Xtr.shape[0], (32,))\n",
        "  \n",
        "  # forward pass\n",
        "  emb = C[Xtr[ix]] # (32, 3, 2)\n",
        "  h = torch.tanh(emb.view(-1, 30) @ W1 + b1) # (32, 100)\n",
        "  logits = h @ W2 + b2 # (32, 27)\n",
        "  loss = F.cross_entropy(logits, Ytr[ix])\n",
        "  if i % 100 == 0:\n",
        "    print(i, loss.item())\n",
        "  \n",
        "  # backward pass\n",
        "  for p in parameters:\n",
        "    p.grad = None\n",
        "  loss.backward()\n",
        "  \n",
        "  # update\n",
        "  #lr = lrs[i]\n",
        "  lr = 0.1 if i < 100000 else 0.01\n",
        "  for p in parameters:\n",
        "    p.data += -lr * p.grad\n",
        "\n",
        "  # track stats\n",
        "  #lri.append(lre[i])\n",
        "  stepi.append(i)\n",
        "  lossi.append(loss.log10().item())\n",
        "\n",
        "#print(loss.item())\n",
        "\n",
        "# training loss \n",
        "emb = C[Xtr] # (32, 3, 2)\n",
        "h = torch.tanh(emb.view(-1, 30) @ W1 + b1) # (32, 100)\n",
        "logits = h @ W2 + b2 # (32, 27)\n",
        "loss = F.cross_entropy(logits, Ytr)\n",
        "print('Training loss', loss)\n",
        "\n",
        "\n",
        "# validation loss\n",
        "emb = C[Xdev] # (32, 3, 2)\n",
        "h = torch.tanh(emb.view(-1, 30) @ W1 + b1) # (32, 100)\n",
        "logits = h @ W2 + b2 # (32, 27)\n",
        "loss = F.cross_entropy(logits, Ydev)\n",
        "print('Validation loss', loss)\n",
        "\n",
        "\n",
        "# test loss\n",
        "emb = C[Xte] # (32, 3, 2)\n",
        "h = torch.tanh(emb.view(-1, 30) @ W1 + b1) # (32, 100)\n",
        "logits = h @ W2 + b2 # (32, 27)\n",
        "loss = F.cross_entropy(logits, Yte)\n",
        "print('Test loss', loss)\n",
        "\n",
        "\n",
        "##-- generate\n",
        "\n",
        "##-- sample from the model\n",
        "g = torch.Generator().manual_seed(2147483647 + 10)\n",
        "\n",
        "\n",
        "for _ in range(20):\n",
        "    out = []\n",
        "\n",
        "    context = [0] * block_size\n",
        "\n",
        "    while True:\n",
        "        emb = C[torch.tensor([context])]\n",
        "        h = torch.tanh(emb.view(1, -1) @ W1 + b1)\n",
        "        logits = h @ W2 + b2\n",
        "        probs = F.softmax(logits, dim=1)\n",
        "\n",
        "        ix = torch.multinomial(probs, num_samples=1, replacement=True, generator=g).item()\n",
        "        context = context[1:] + [ix]\n",
        "\n",
        "        out.append(ix)\n",
        "        if ix == 0:\n",
        "            break\n",
        "\n",
        "    print(''.join(itos[i] for i in out))\n",
        "\"\"\""
      ],
      "metadata": {
        "cellView": "form",
        "id": "OWE8qsvH1Rl0"
      },
      "execution_count": null,
      "outputs": []
    },
    {
      "cell_type": "code",
      "source": [
        "FILENAME = 'mlp.py'\n",
        "with open(FILENAME, 'w') as file:\n",
        "    file.write(script)"
      ],
      "metadata": {
        "id": "LCf7XKnx2xvU"
      },
      "execution_count": null,
      "outputs": []
    },
    {
      "cell_type": "code",
      "source": [
        "! python mlp.py"
      ],
      "metadata": {
        "colab": {
          "base_uri": "https://localhost:8080/"
        },
        "id": "8Tc27OvV3AsV",
        "outputId": "bef1904d-c2bb-4d64-88d7-909e62cca0ba"
      },
      "execution_count": null,
      "outputs": [
        {
          "output_type": "stream",
          "name": "stdout",
          "text": [
            "torch.Size([182625, 3]) torch.Size([182625])\n",
            "torch.Size([22655, 3]) torch.Size([22655])\n",
            "torch.Size([22866, 3]) torch.Size([22866])\n",
            "0 28.3929500579834\n",
            "100 6.603984355926514\n",
            "200 7.730443954467773\n",
            "300 6.017655372619629\n",
            "400 6.749285697937012\n",
            "500 5.968642711639404\n",
            "600 3.472696304321289\n",
            "700 5.705581188201904\n",
            "800 4.8704423904418945\n",
            "900 4.584067344665527\n",
            "Training loss tensor(3.7762, grad_fn=<NllLossBackward0>)\n",
            "Validation loss tensor(3.7607, grad_fn=<NllLossBackward0>)\n",
            "Test loss tensor(3.7962, grad_fn=<NllLossBackward0>)\n",
            "rov.\n",
            "jerhcadjit.\n",
            "chi.\n",
            "odroeivttia.\n",
            "caytesyda.\n",
            "shla.\n",
            "eyt.\n",
            "werri.\n",
            "sezai.\n",
            "kairyci.\n",
            "trada.\n",
            "nys.\n",
            "fremiiah.\n",
            "cee.\n",
            "easn.\n",
            "kayl.\n",
            "jowydt.\n",
            "abeai.\n",
            "tema.\n",
            "nizai.\n"
          ]
        }
      ]
    },
    {
      "cell_type": "code",
      "source": [],
      "metadata": {
        "id": "tKi9OfWI3b6O"
      },
      "execution_count": null,
      "outputs": []
    }
  ]
}