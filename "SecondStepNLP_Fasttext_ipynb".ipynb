{
  "cells": [
    {
      "cell_type": "markdown",
      "metadata": {
        "id": "view-in-github",
        "colab_type": "text"
      },
      "source": [
        "<a href=\"https://colab.research.google.com/github/MatienkoAndrew/notebooks/blob/main/%22SecondStepNLP_Fasttext_ipynb%22.ipynb\" target=\"_parent\"><img src=\"https://colab.research.google.com/assets/colab-badge.svg\" alt=\"Open In Colab\"/></a>"
      ]
    },
    {
      "cell_type": "markdown",
      "id": "2030c77d",
      "metadata": {
        "id": "2030c77d"
      },
      "source": [
        "# Классификация текстов\n",
        "\n",
        "В этом ноутбуке мы разберем задачу классификации текстов на примере соревнования по выявлению токсичных твиттов: https://www.kaggle.com/competitions/toxic-comments-classification-2\n",
        "\n",
        "Наша задача - построить классификатор, который по тексту твитта определяет, токсичный он или нет.\n",
        "\n",
        "__План:__\n",
        "1. Разбираем/освежаем в памяти простые бейзлайны: мешок слов, TF-IDF. \n",
        "2. Обучаем классификатор на основе w2v эмбеддингов\n",
        "3. Знакомимся с моделью fastText"
      ]
    },
    {
      "cell_type": "code",
      "execution_count": 1,
      "id": "9030c990",
      "metadata": {
        "id": "9030c990"
      },
      "outputs": [],
      "source": [
        "import pandas as pd\n",
        "import numpy as np\n",
        "\n",
        "from sklearn.model_selection import train_test_split\n",
        "from sklearn.metrics import *"
      ]
    },
    {
      "cell_type": "code",
      "source": [
        "SEED = 42\n",
        "np.random.seed(SEED)"
      ],
      "metadata": {
        "id": "OSYujxCNaee5"
      },
      "id": "OSYujxCNaee5",
      "execution_count": 6,
      "outputs": []
    },
    {
      "cell_type": "markdown",
      "id": "75679484",
      "metadata": {
        "id": "75679484"
      },
      "source": [
        "Обучающая выборка и тестовые данные для предикта - их можно скачать с Kaggle."
      ]
    },
    {
      "cell_type": "code",
      "execution_count": 2,
      "id": "f20b688e",
      "metadata": {
        "id": "f20b688e"
      },
      "outputs": [],
      "source": [
        "train = pd.read_csv('train_data.csv')\n",
        "test = pd.read_csv('test_data.csv')"
      ]
    },
    {
      "cell_type": "code",
      "execution_count": 10,
      "id": "2a1821de",
      "metadata": {
        "id": "2a1821de",
        "outputId": "4f432262-9c5e-41d7-da95-574bf44b4d37",
        "colab": {
          "base_uri": "https://localhost:8080/",
          "height": 143
        }
      },
      "outputs": [
        {
          "output_type": "execute_result",
          "data": {
            "text/plain": [
              "                                                comment  toxic\n",
              "5100                     Учите матчасть, селекционер.\\n    0.0\n",
              "6500                  А бандиты там как, понты любят?\\n    1.0\n",
              "9750  у электрички габарит Т, у нас 1-ВМ ,и в центра...    0.0"
            ],
            "text/html": [
              "\n",
              "  <div id=\"df-0d9111a1-8990-4825-8dbf-d119816c5ec5\">\n",
              "    <div class=\"colab-df-container\">\n",
              "      <div>\n",
              "<style scoped>\n",
              "    .dataframe tbody tr th:only-of-type {\n",
              "        vertical-align: middle;\n",
              "    }\n",
              "\n",
              "    .dataframe tbody tr th {\n",
              "        vertical-align: top;\n",
              "    }\n",
              "\n",
              "    .dataframe thead th {\n",
              "        text-align: right;\n",
              "    }\n",
              "</style>\n",
              "<table border=\"1\" class=\"dataframe\">\n",
              "  <thead>\n",
              "    <tr style=\"text-align: right;\">\n",
              "      <th></th>\n",
              "      <th>comment</th>\n",
              "      <th>toxic</th>\n",
              "    </tr>\n",
              "  </thead>\n",
              "  <tbody>\n",
              "    <tr>\n",
              "      <th>5100</th>\n",
              "      <td>Учите матчасть, селекционер.\\n</td>\n",
              "      <td>0.0</td>\n",
              "    </tr>\n",
              "    <tr>\n",
              "      <th>6500</th>\n",
              "      <td>А бандиты там как, понты любят?\\n</td>\n",
              "      <td>1.0</td>\n",
              "    </tr>\n",
              "    <tr>\n",
              "      <th>9750</th>\n",
              "      <td>у электрички габарит Т, у нас 1-ВМ ,и в центра...</td>\n",
              "      <td>0.0</td>\n",
              "    </tr>\n",
              "  </tbody>\n",
              "</table>\n",
              "</div>\n",
              "      <button class=\"colab-df-convert\" onclick=\"convertToInteractive('df-0d9111a1-8990-4825-8dbf-d119816c5ec5')\"\n",
              "              title=\"Convert this dataframe to an interactive table.\"\n",
              "              style=\"display:none;\">\n",
              "        \n",
              "  <svg xmlns=\"http://www.w3.org/2000/svg\" height=\"24px\"viewBox=\"0 0 24 24\"\n",
              "       width=\"24px\">\n",
              "    <path d=\"M0 0h24v24H0V0z\" fill=\"none\"/>\n",
              "    <path d=\"M18.56 5.44l.94 2.06.94-2.06 2.06-.94-2.06-.94-.94-2.06-.94 2.06-2.06.94zm-11 1L8.5 8.5l.94-2.06 2.06-.94-2.06-.94L8.5 2.5l-.94 2.06-2.06.94zm10 10l.94 2.06.94-2.06 2.06-.94-2.06-.94-.94-2.06-.94 2.06-2.06.94z\"/><path d=\"M17.41 7.96l-1.37-1.37c-.4-.4-.92-.59-1.43-.59-.52 0-1.04.2-1.43.59L10.3 9.45l-7.72 7.72c-.78.78-.78 2.05 0 2.83L4 21.41c.39.39.9.59 1.41.59.51 0 1.02-.2 1.41-.59l7.78-7.78 2.81-2.81c.8-.78.8-2.07 0-2.86zM5.41 20L4 18.59l7.72-7.72 1.47 1.35L5.41 20z\"/>\n",
              "  </svg>\n",
              "      </button>\n",
              "      \n",
              "  <style>\n",
              "    .colab-df-container {\n",
              "      display:flex;\n",
              "      flex-wrap:wrap;\n",
              "      gap: 12px;\n",
              "    }\n",
              "\n",
              "    .colab-df-convert {\n",
              "      background-color: #E8F0FE;\n",
              "      border: none;\n",
              "      border-radius: 50%;\n",
              "      cursor: pointer;\n",
              "      display: none;\n",
              "      fill: #1967D2;\n",
              "      height: 32px;\n",
              "      padding: 0 0 0 0;\n",
              "      width: 32px;\n",
              "    }\n",
              "\n",
              "    .colab-df-convert:hover {\n",
              "      background-color: #E2EBFA;\n",
              "      box-shadow: 0px 1px 2px rgba(60, 64, 67, 0.3), 0px 1px 3px 1px rgba(60, 64, 67, 0.15);\n",
              "      fill: #174EA6;\n",
              "    }\n",
              "\n",
              "    [theme=dark] .colab-df-convert {\n",
              "      background-color: #3B4455;\n",
              "      fill: #D2E3FC;\n",
              "    }\n",
              "\n",
              "    [theme=dark] .colab-df-convert:hover {\n",
              "      background-color: #434B5C;\n",
              "      box-shadow: 0px 1px 3px 1px rgba(0, 0, 0, 0.15);\n",
              "      filter: drop-shadow(0px 1px 2px rgba(0, 0, 0, 0.3));\n",
              "      fill: #FFFFFF;\n",
              "    }\n",
              "  </style>\n",
              "\n",
              "      <script>\n",
              "        const buttonEl =\n",
              "          document.querySelector('#df-0d9111a1-8990-4825-8dbf-d119816c5ec5 button.colab-df-convert');\n",
              "        buttonEl.style.display =\n",
              "          google.colab.kernel.accessAllowed ? 'block' : 'none';\n",
              "\n",
              "        async function convertToInteractive(key) {\n",
              "          const element = document.querySelector('#df-0d9111a1-8990-4825-8dbf-d119816c5ec5');\n",
              "          const dataTable =\n",
              "            await google.colab.kernel.invokeFunction('convertToInteractive',\n",
              "                                                     [key], {});\n",
              "          if (!dataTable) return;\n",
              "\n",
              "          const docLinkHtml = 'Like what you see? Visit the ' +\n",
              "            '<a target=\"_blank\" href=https://colab.research.google.com/notebooks/data_table.ipynb>data table notebook</a>'\n",
              "            + ' to learn more about interactive tables.';\n",
              "          element.innerHTML = '';\n",
              "          dataTable['output_type'] = 'display_data';\n",
              "          await google.colab.output.renderOutput(dataTable, element);\n",
              "          const docLink = document.createElement('div');\n",
              "          docLink.innerHTML = docLinkHtml;\n",
              "          element.appendChild(docLink);\n",
              "        }\n",
              "      </script>\n",
              "    </div>\n",
              "  </div>\n",
              "  "
            ]
          },
          "metadata": {},
          "execution_count": 10
        }
      ],
      "source": [
        "np.random.seed(SEED)\n",
        "train.sample(3)"
      ]
    },
    {
      "cell_type": "code",
      "execution_count": 12,
      "id": "7207ccc9",
      "metadata": {
        "id": "7207ccc9",
        "outputId": "2b99e0f8-4263-4f37-c02a-ac8c681144d5",
        "colab": {
          "base_uri": "https://localhost:8080/",
          "height": 81
        }
      },
      "outputs": [
        {
          "output_type": "execute_result",
          "data": {
            "text/plain": [
              "      comment_id                                            comment\n",
              "3027        3027  Быдло сестра называет девушку парня тупой шлюх..."
            ],
            "text/html": [
              "\n",
              "  <div id=\"df-260a58ae-14ce-4ddd-a7c7-254191d6d69b\">\n",
              "    <div class=\"colab-df-container\">\n",
              "      <div>\n",
              "<style scoped>\n",
              "    .dataframe tbody tr th:only-of-type {\n",
              "        vertical-align: middle;\n",
              "    }\n",
              "\n",
              "    .dataframe tbody tr th {\n",
              "        vertical-align: top;\n",
              "    }\n",
              "\n",
              "    .dataframe thead th {\n",
              "        text-align: right;\n",
              "    }\n",
              "</style>\n",
              "<table border=\"1\" class=\"dataframe\">\n",
              "  <thead>\n",
              "    <tr style=\"text-align: right;\">\n",
              "      <th></th>\n",
              "      <th>comment_id</th>\n",
              "      <th>comment</th>\n",
              "    </tr>\n",
              "  </thead>\n",
              "  <tbody>\n",
              "    <tr>\n",
              "      <th>3027</th>\n",
              "      <td>3027</td>\n",
              "      <td>Быдло сестра называет девушку парня тупой шлюх...</td>\n",
              "    </tr>\n",
              "  </tbody>\n",
              "</table>\n",
              "</div>\n",
              "      <button class=\"colab-df-convert\" onclick=\"convertToInteractive('df-260a58ae-14ce-4ddd-a7c7-254191d6d69b')\"\n",
              "              title=\"Convert this dataframe to an interactive table.\"\n",
              "              style=\"display:none;\">\n",
              "        \n",
              "  <svg xmlns=\"http://www.w3.org/2000/svg\" height=\"24px\"viewBox=\"0 0 24 24\"\n",
              "       width=\"24px\">\n",
              "    <path d=\"M0 0h24v24H0V0z\" fill=\"none\"/>\n",
              "    <path d=\"M18.56 5.44l.94 2.06.94-2.06 2.06-.94-2.06-.94-.94-2.06-.94 2.06-2.06.94zm-11 1L8.5 8.5l.94-2.06 2.06-.94-2.06-.94L8.5 2.5l-.94 2.06-2.06.94zm10 10l.94 2.06.94-2.06 2.06-.94-2.06-.94-.94-2.06-.94 2.06-2.06.94z\"/><path d=\"M17.41 7.96l-1.37-1.37c-.4-.4-.92-.59-1.43-.59-.52 0-1.04.2-1.43.59L10.3 9.45l-7.72 7.72c-.78.78-.78 2.05 0 2.83L4 21.41c.39.39.9.59 1.41.59.51 0 1.02-.2 1.41-.59l7.78-7.78 2.81-2.81c.8-.78.8-2.07 0-2.86zM5.41 20L4 18.59l7.72-7.72 1.47 1.35L5.41 20z\"/>\n",
              "  </svg>\n",
              "      </button>\n",
              "      \n",
              "  <style>\n",
              "    .colab-df-container {\n",
              "      display:flex;\n",
              "      flex-wrap:wrap;\n",
              "      gap: 12px;\n",
              "    }\n",
              "\n",
              "    .colab-df-convert {\n",
              "      background-color: #E8F0FE;\n",
              "      border: none;\n",
              "      border-radius: 50%;\n",
              "      cursor: pointer;\n",
              "      display: none;\n",
              "      fill: #1967D2;\n",
              "      height: 32px;\n",
              "      padding: 0 0 0 0;\n",
              "      width: 32px;\n",
              "    }\n",
              "\n",
              "    .colab-df-convert:hover {\n",
              "      background-color: #E2EBFA;\n",
              "      box-shadow: 0px 1px 2px rgba(60, 64, 67, 0.3), 0px 1px 3px 1px rgba(60, 64, 67, 0.15);\n",
              "      fill: #174EA6;\n",
              "    }\n",
              "\n",
              "    [theme=dark] .colab-df-convert {\n",
              "      background-color: #3B4455;\n",
              "      fill: #D2E3FC;\n",
              "    }\n",
              "\n",
              "    [theme=dark] .colab-df-convert:hover {\n",
              "      background-color: #434B5C;\n",
              "      box-shadow: 0px 1px 3px 1px rgba(0, 0, 0, 0.15);\n",
              "      filter: drop-shadow(0px 1px 2px rgba(0, 0, 0, 0.3));\n",
              "      fill: #FFFFFF;\n",
              "    }\n",
              "  </style>\n",
              "\n",
              "      <script>\n",
              "        const buttonEl =\n",
              "          document.querySelector('#df-260a58ae-14ce-4ddd-a7c7-254191d6d69b button.colab-df-convert');\n",
              "        buttonEl.style.display =\n",
              "          google.colab.kernel.accessAllowed ? 'block' : 'none';\n",
              "\n",
              "        async function convertToInteractive(key) {\n",
              "          const element = document.querySelector('#df-260a58ae-14ce-4ddd-a7c7-254191d6d69b');\n",
              "          const dataTable =\n",
              "            await google.colab.kernel.invokeFunction('convertToInteractive',\n",
              "                                                     [key], {});\n",
              "          if (!dataTable) return;\n",
              "\n",
              "          const docLinkHtml = 'Like what you see? Visit the ' +\n",
              "            '<a target=\"_blank\" href=https://colab.research.google.com/notebooks/data_table.ipynb>data table notebook</a>'\n",
              "            + ' to learn more about interactive tables.';\n",
              "          element.innerHTML = '';\n",
              "          dataTable['output_type'] = 'display_data';\n",
              "          await google.colab.output.renderOutput(dataTable, element);\n",
              "          const docLink = document.createElement('div');\n",
              "          docLink.innerHTML = docLinkHtml;\n",
              "          element.appendChild(docLink);\n",
              "        }\n",
              "      </script>\n",
              "    </div>\n",
              "  </div>\n",
              "  "
            ]
          },
          "metadata": {},
          "execution_count": 12
        }
      ],
      "source": [
        "np.random.seed(SEED)\n",
        "test.sample()"
      ]
    },
    {
      "cell_type": "code",
      "execution_count": 13,
      "id": "04f82cdf",
      "metadata": {
        "id": "04f82cdf"
      },
      "outputs": [],
      "source": [
        "#y_test = pd.read_csv('test_labels.csv')"
      ]
    },
    {
      "cell_type": "markdown",
      "id": "4d26ea8d",
      "metadata": {
        "id": "4d26ea8d"
      },
      "source": [
        "В моем распоряжении также есть файл с тестовыми метками классов - если Вы запускаете ноутбук и хотите обучить модель, разбейте train выборку на train и test, раскомментировав строчки кода в ячейке ниже:"
      ]
    },
    {
      "cell_type": "code",
      "execution_count": 22,
      "id": "c049a727",
      "metadata": {
        "id": "c049a727"
      },
      "outputs": [],
      "source": [
        "train, test = train_test_split(train, test_size=0.3)\n",
        "y_test = test[['comment', 'toxic']]\n",
        "\n",
        "test.drop(columns=['toxic'], inplace=True)\n",
        "\n",
        "# train, test = train_test_split(x_train, test_size=0.3)\n",
        "# y_test = test[['comment_id', 'toxic']]\n",
        "\n",
        "# test.drop(columns=['toxic'], inplace=True)"
      ]
    },
    {
      "cell_type": "code",
      "execution_count": 23,
      "id": "60db0a26",
      "metadata": {
        "id": "60db0a26",
        "outputId": "d06fdf6a-1cd5-4f4b-dc6a-2e9cca16631c",
        "colab": {
          "base_uri": "https://localhost:8080/",
          "height": 81
        }
      },
      "outputs": [
        {
          "output_type": "execute_result",
          "data": {
            "text/plain": [
              "                                               comment  toxic\n",
              "228  в новокузнецком Пусть радуется, что не заточко...    1.0"
            ],
            "text/html": [
              "\n",
              "  <div id=\"df-6c0fed21-5b1e-4cf4-b932-4820d3e55c12\">\n",
              "    <div class=\"colab-df-container\">\n",
              "      <div>\n",
              "<style scoped>\n",
              "    .dataframe tbody tr th:only-of-type {\n",
              "        vertical-align: middle;\n",
              "    }\n",
              "\n",
              "    .dataframe tbody tr th {\n",
              "        vertical-align: top;\n",
              "    }\n",
              "\n",
              "    .dataframe thead th {\n",
              "        text-align: right;\n",
              "    }\n",
              "</style>\n",
              "<table border=\"1\" class=\"dataframe\">\n",
              "  <thead>\n",
              "    <tr style=\"text-align: right;\">\n",
              "      <th></th>\n",
              "      <th>comment</th>\n",
              "      <th>toxic</th>\n",
              "    </tr>\n",
              "  </thead>\n",
              "  <tbody>\n",
              "    <tr>\n",
              "      <th>228</th>\n",
              "      <td>в новокузнецком Пусть радуется, что не заточко...</td>\n",
              "      <td>1.0</td>\n",
              "    </tr>\n",
              "  </tbody>\n",
              "</table>\n",
              "</div>\n",
              "      <button class=\"colab-df-convert\" onclick=\"convertToInteractive('df-6c0fed21-5b1e-4cf4-b932-4820d3e55c12')\"\n",
              "              title=\"Convert this dataframe to an interactive table.\"\n",
              "              style=\"display:none;\">\n",
              "        \n",
              "  <svg xmlns=\"http://www.w3.org/2000/svg\" height=\"24px\"viewBox=\"0 0 24 24\"\n",
              "       width=\"24px\">\n",
              "    <path d=\"M0 0h24v24H0V0z\" fill=\"none\"/>\n",
              "    <path d=\"M18.56 5.44l.94 2.06.94-2.06 2.06-.94-2.06-.94-.94-2.06-.94 2.06-2.06.94zm-11 1L8.5 8.5l.94-2.06 2.06-.94-2.06-.94L8.5 2.5l-.94 2.06-2.06.94zm10 10l.94 2.06.94-2.06 2.06-.94-2.06-.94-.94-2.06-.94 2.06-2.06.94z\"/><path d=\"M17.41 7.96l-1.37-1.37c-.4-.4-.92-.59-1.43-.59-.52 0-1.04.2-1.43.59L10.3 9.45l-7.72 7.72c-.78.78-.78 2.05 0 2.83L4 21.41c.39.39.9.59 1.41.59.51 0 1.02-.2 1.41-.59l7.78-7.78 2.81-2.81c.8-.78.8-2.07 0-2.86zM5.41 20L4 18.59l7.72-7.72 1.47 1.35L5.41 20z\"/>\n",
              "  </svg>\n",
              "      </button>\n",
              "      \n",
              "  <style>\n",
              "    .colab-df-container {\n",
              "      display:flex;\n",
              "      flex-wrap:wrap;\n",
              "      gap: 12px;\n",
              "    }\n",
              "\n",
              "    .colab-df-convert {\n",
              "      background-color: #E8F0FE;\n",
              "      border: none;\n",
              "      border-radius: 50%;\n",
              "      cursor: pointer;\n",
              "      display: none;\n",
              "      fill: #1967D2;\n",
              "      height: 32px;\n",
              "      padding: 0 0 0 0;\n",
              "      width: 32px;\n",
              "    }\n",
              "\n",
              "    .colab-df-convert:hover {\n",
              "      background-color: #E2EBFA;\n",
              "      box-shadow: 0px 1px 2px rgba(60, 64, 67, 0.3), 0px 1px 3px 1px rgba(60, 64, 67, 0.15);\n",
              "      fill: #174EA6;\n",
              "    }\n",
              "\n",
              "    [theme=dark] .colab-df-convert {\n",
              "      background-color: #3B4455;\n",
              "      fill: #D2E3FC;\n",
              "    }\n",
              "\n",
              "    [theme=dark] .colab-df-convert:hover {\n",
              "      background-color: #434B5C;\n",
              "      box-shadow: 0px 1px 3px 1px rgba(0, 0, 0, 0.15);\n",
              "      filter: drop-shadow(0px 1px 2px rgba(0, 0, 0, 0.3));\n",
              "      fill: #FFFFFF;\n",
              "    }\n",
              "  </style>\n",
              "\n",
              "      <script>\n",
              "        const buttonEl =\n",
              "          document.querySelector('#df-6c0fed21-5b1e-4cf4-b932-4820d3e55c12 button.colab-df-convert');\n",
              "        buttonEl.style.display =\n",
              "          google.colab.kernel.accessAllowed ? 'block' : 'none';\n",
              "\n",
              "        async function convertToInteractive(key) {\n",
              "          const element = document.querySelector('#df-6c0fed21-5b1e-4cf4-b932-4820d3e55c12');\n",
              "          const dataTable =\n",
              "            await google.colab.kernel.invokeFunction('convertToInteractive',\n",
              "                                                     [key], {});\n",
              "          if (!dataTable) return;\n",
              "\n",
              "          const docLinkHtml = 'Like what you see? Visit the ' +\n",
              "            '<a target=\"_blank\" href=https://colab.research.google.com/notebooks/data_table.ipynb>data table notebook</a>'\n",
              "            + ' to learn more about interactive tables.';\n",
              "          element.innerHTML = '';\n",
              "          dataTable['output_type'] = 'display_data';\n",
              "          await google.colab.output.renderOutput(dataTable, element);\n",
              "          const docLink = document.createElement('div');\n",
              "          docLink.innerHTML = docLinkHtml;\n",
              "          element.appendChild(docLink);\n",
              "        }\n",
              "      </script>\n",
              "    </div>\n",
              "  </div>\n",
              "  "
            ]
          },
          "metadata": {},
          "execution_count": 23
        }
      ],
      "source": [
        "y_test.sample()"
      ]
    },
    {
      "cell_type": "code",
      "execution_count": 24,
      "id": "0669e67d",
      "metadata": {
        "id": "0669e67d",
        "outputId": "160d532d-1e8f-4162-d26a-9d74bc59b7af",
        "colab": {
          "base_uri": "https://localhost:8080/"
        }
      },
      "outputs": [
        {
          "output_type": "execute_result",
          "data": {
            "text/plain": [
              "array([1., 0., 1., ..., 1., 0., 0.])"
            ]
          },
          "metadata": {},
          "execution_count": 24
        }
      ],
      "source": [
        "y_test = y_test['toxic'].values\n",
        "y_test"
      ]
    },
    {
      "cell_type": "markdown",
      "id": "e02e2872",
      "metadata": {
        "id": "e02e2872"
      },
      "source": [
        "### Мы начнем с простых бейзлайнов\n",
        "\n",
        "Это всегда хорошая практика - сперва попробовать что-то предельно простое (: В нашем случае это будет логистическая регрессия + мешок слов (Bag of Words, BoW)."
      ]
    },
    {
      "cell_type": "code",
      "execution_count": 25,
      "id": "27a39c66",
      "metadata": {
        "id": "27a39c66"
      },
      "outputs": [],
      "source": [
        "from sklearn.linear_model import LogisticRegression \n",
        "from sklearn.feature_extraction.text import CountVectorizer"
      ]
    },
    {
      "cell_type": "code",
      "execution_count": 26,
      "id": "2a77a0ad",
      "metadata": {
        "id": "2a77a0ad"
      },
      "outputs": [],
      "source": [
        "vec = CountVectorizer(ngram_range=(1, 1), token_pattern='\\w{3,}') # строим BoW для слов\n",
        "\n",
        "# vec = CountVectorizer(ngram_range=(1, 1), token_pattern='\\w{3,}') # строим BoW для слов"
      ]
    },
    {
      "cell_type": "code",
      "execution_count": null,
      "id": "a1b06944",
      "metadata": {
        "id": "a1b06944"
      },
      "outputs": [],
      "source": [
        "help(CountVectorizer)"
      ]
    },
    {
      "cell_type": "code",
      "execution_count": 31,
      "id": "ceb7fddd",
      "metadata": {
        "id": "ceb7fddd",
        "colab": {
          "base_uri": "https://localhost:8080/"
        },
        "outputId": "069808cc-e5b8-4db2-8f49-abe37e9029d3"
      },
      "outputs": [
        {
          "output_type": "stream",
          "name": "stdout",
          "text": [
            "CPU times: user 248 ms, sys: 7.49 ms, total: 255 ms\n",
            "Wall time: 262 ms\n"
          ]
        }
      ],
      "source": [
        "%%time\n",
        "\n",
        "bow = vec.fit_transform(train['comment'])\n",
        "# bow = vec.fit_transform(train['comment'])"
      ]
    },
    {
      "cell_type": "code",
      "source": [
        "train.shape"
      ],
      "metadata": {
        "colab": {
          "base_uri": "https://localhost:8080/"
        },
        "id": "Fw0yCp8Md_bq",
        "outputId": "69ebf1f8-b48b-479a-acf7-26fcfac103cc"
      },
      "id": "Fw0yCp8Md_bq",
      "execution_count": 55,
      "outputs": [
        {
          "output_type": "execute_result",
          "data": {
            "text/plain": [
              "(5296, 2)"
            ]
          },
          "metadata": {},
          "execution_count": 55
        }
      ]
    },
    {
      "cell_type": "code",
      "execution_count": 32,
      "id": "55ce9d6d",
      "metadata": {
        "id": "55ce9d6d",
        "outputId": "29b18756-e8e3-4d7d-c1b0-6a10a54169f1",
        "colab": {
          "base_uri": "https://localhost:8080/"
        }
      },
      "outputs": [
        {
          "output_type": "execute_result",
          "data": {
            "text/plain": [
              "<5296x35100 sparse matrix of type '<class 'numpy.int64'>'\n",
              "\twith 104031 stored elements in Compressed Sparse Row format>"
            ]
          },
          "metadata": {},
          "execution_count": 32
        }
      ],
      "source": [
        "bow"
      ]
    },
    {
      "cell_type": "code",
      "execution_count": 39,
      "id": "88082337",
      "metadata": {
        "id": "88082337",
        "outputId": "c7070b74-bba5-4f4f-89d6-fbeb255177c4",
        "colab": {
          "base_uri": "https://localhost:8080/"
        }
      },
      "outputs": [
        {
          "output_type": "stream",
          "name": "stdout",
          "text": [
            "а что делать если сортиров в стране как не было так и нет .\n",
            "\n"
          ]
        }
      ],
      "source": [
        "print(train.comment[8334])"
      ]
    },
    {
      "cell_type": "code",
      "execution_count": 40,
      "id": "62211fe4",
      "metadata": {
        "id": "62211fe4",
        "outputId": "befa0325-791c-41b5-ec08-98781911b22d",
        "colab": {
          "base_uri": "https://localhost:8080/"
        }
      },
      "outputs": [
        {
          "output_type": "execute_result",
          "data": {
            "text/plain": [
              "[('однако', 17797),\n",
              " ('кронштадтом', 12644),\n",
              " ('также', 30187),\n",
              " ('путаюсь', 24745),\n",
              " ('поверите', 20713),\n",
              " ('принципе', 23551),\n",
              " ('армии', 1689),\n",
              " ('зарплата', 9378),\n",
              " ('терпимая', 30560),\n",
              " ('вот', 4374)]"
            ]
          },
          "metadata": {},
          "execution_count": 40
        }
      ],
      "source": [
        "list(vec.vocabulary_.items())[:10]"
      ]
    },
    {
      "cell_type": "code",
      "execution_count": 42,
      "id": "bd6c6604",
      "metadata": {
        "id": "bd6c6604",
        "outputId": "1e98cdb6-4adf-40fa-c35d-4f091be8c722",
        "colab": {
          "base_uri": "https://localhost:8080/"
        }
      },
      "outputs": [
        {
          "output_type": "execute_result",
          "data": {
            "text/plain": [
              "[('000', 0),\n",
              " ('030050', 1),\n",
              " ('0611', 2),\n",
              " ('068', 3),\n",
              " ('0849', 4),\n",
              " ('100', 5),\n",
              " ('1000', 6),\n",
              " ('10000', 7),\n",
              " ('100000км', 8),\n",
              " ('1000рублей', 9)]"
            ]
          },
          "metadata": {},
          "execution_count": 42
        }
      ],
      "source": [
        "sorted(list(vec.vocabulary_.items()), key=lambda x: x[0])[:10]"
      ]
    },
    {
      "cell_type": "code",
      "execution_count": 43,
      "id": "fea6341f",
      "metadata": {
        "id": "fea6341f",
        "outputId": "cd070aa5-60d3-433d-87b2-9bbe2bbe592f",
        "colab": {
          "base_uri": "https://localhost:8080/"
        }
      },
      "outputs": [
        {
          "output_type": "execute_result",
          "data": {
            "text/plain": [
              "['однако',\n",
              " 'кронштадтом',\n",
              " 'также',\n",
              " 'путаюсь',\n",
              " 'поверите',\n",
              " 'принципе',\n",
              " 'армии',\n",
              " 'зарплата',\n",
              " 'терпимая',\n",
              " 'вот']"
            ]
          },
          "metadata": {},
          "execution_count": 43
        }
      ],
      "source": [
        "list(vec.vocabulary_.keys())[:10]"
      ]
    },
    {
      "cell_type": "code",
      "execution_count": 44,
      "id": "406ba520",
      "metadata": {
        "id": "406ba520",
        "outputId": "32014e38-5238-4048-e288-c67a133d7da3",
        "colab": {
          "base_uri": "https://localhost:8080/"
        }
      },
      "outputs": [
        {
          "output_type": "execute_result",
          "data": {
            "text/plain": [
              "35100"
            ]
          },
          "metadata": {},
          "execution_count": 44
        }
      ],
      "source": [
        "len(vec.vocabulary_.items())"
      ]
    },
    {
      "cell_type": "code",
      "execution_count": 45,
      "id": "fe2b33cc",
      "metadata": {
        "scrolled": true,
        "id": "fe2b33cc",
        "outputId": "571d82de-e937-41bc-deb7-e2528ebb7e9e",
        "colab": {
          "base_uri": "https://localhost:8080/"
        }
      },
      "outputs": [
        {
          "output_type": "execute_result",
          "data": {
            "text/plain": [
              "array([0, 0, 0, ..., 0, 1, 0])"
            ]
          },
          "metadata": {},
          "execution_count": 45
        }
      ],
      "source": [
        "y_train = train['toxic'].astype(int).values\n",
        "y_train"
      ]
    },
    {
      "cell_type": "code",
      "execution_count": 48,
      "id": "1c0b19df",
      "metadata": {
        "id": "1c0b19df",
        "outputId": "8d491fda-f6e7-4752-fb1b-92ed794564e1",
        "colab": {
          "base_uri": "https://localhost:8080/"
        }
      },
      "outputs": [
        {
          "output_type": "execute_result",
          "data": {
            "text/plain": [
              "LogisticRegression(max_iter=500, random_state=42)"
            ]
          },
          "metadata": {},
          "execution_count": 48
        }
      ],
      "source": [
        "clf = LogisticRegression(random_state=42, max_iter=500) #\n",
        "clf.fit(bow, y_train)"
      ]
    },
    {
      "cell_type": "code",
      "source": [
        "help(clf.fit)"
      ],
      "metadata": {
        "id": "ImZXFSIZdmW5"
      },
      "id": "ImZXFSIZdmW5",
      "execution_count": null,
      "outputs": []
    },
    {
      "cell_type": "code",
      "execution_count": 50,
      "id": "9a8950b4",
      "metadata": {
        "id": "9a8950b4",
        "outputId": "99c8e721-8da4-4bd6-b7bb-e249491f1367",
        "colab": {
          "base_uri": "https://localhost:8080/"
        }
      },
      "outputs": [
        {
          "output_type": "execute_result",
          "data": {
            "text/plain": [
              "35100"
            ]
          },
          "metadata": {},
          "execution_count": 50
        }
      ],
      "source": [
        "len(clf.coef_[0])"
      ]
    },
    {
      "cell_type": "code",
      "execution_count": 51,
      "id": "5533eadd",
      "metadata": {
        "id": "5533eadd",
        "outputId": "d351bdbb-22de-4aa9-d178-304315d1252b",
        "colab": {
          "base_uri": "https://localhost:8080/"
        }
      },
      "outputs": [
        {
          "output_type": "execute_result",
          "data": {
            "text/plain": [
              "<2270x35100 sparse matrix of type '<class 'numpy.int64'>'\n",
              "\twith 33861 stored elements in Compressed Sparse Row format>"
            ]
          },
          "metadata": {},
          "execution_count": 51
        }
      ],
      "source": [
        "bow_test = vec.transform(test['comment'])\n",
        "bow_test"
      ]
    },
    {
      "cell_type": "code",
      "execution_count": 52,
      "id": "066d598f",
      "metadata": {
        "id": "066d598f",
        "outputId": "186b9dee-0bcf-4f6a-fabb-fcae3a0e65ed",
        "colab": {
          "base_uri": "https://localhost:8080/"
        }
      },
      "outputs": [
        {
          "output_type": "execute_result",
          "data": {
            "text/plain": [
              "array([0, 0, 1, 0, 0, 1, 0, 0, 0, 1])"
            ]
          },
          "metadata": {},
          "execution_count": 52
        }
      ],
      "source": [
        "pred = clf.predict(bow_test)\n",
        "pred[:10]"
      ]
    },
    {
      "cell_type": "code",
      "execution_count": 53,
      "id": "0315c21c",
      "metadata": {
        "id": "0315c21c",
        "outputId": "a65c03e4-8859-4419-ead0-9378b9610c8b",
        "colab": {
          "base_uri": "https://localhost:8080/"
        }
      },
      "outputs": [
        {
          "output_type": "stream",
          "name": "stdout",
          "text": [
            "              precision    recall  f1-score   support\n",
            "\n",
            "           0       0.93      0.84      0.88      1736\n",
            "           1       0.60      0.79      0.68       534\n",
            "\n",
            "    accuracy                           0.83      2270\n",
            "   macro avg       0.76      0.81      0.78      2270\n",
            "weighted avg       0.85      0.83      0.83      2270\n",
            "\n"
          ]
        }
      ],
      "source": [
        "print(classification_report(pred, y_test))"
      ]
    },
    {
      "cell_type": "markdown",
      "id": "8aa5c4b1",
      "metadata": {
        "id": "8aa5c4b1"
      },
      "source": [
        "### Попробуем добавить препроцессинг текста\n",
        "\n",
        "Препроцессинг, как правило, включает удаление небуквенных символов, топ-слов и нормализацию (стемминг - приведение к основе слова - или лемматизацию - приведение слов к начальной форме).\n",
        "\n",
        "Кроме того, заменим мешок слов на TF-IDF матрицу. В качестве модели оставим логистическую регрессию."
      ]
    },
    {
      "cell_type": "code",
      "execution_count": 56,
      "id": "4a75b52c",
      "metadata": {
        "id": "4a75b52c"
      },
      "outputs": [],
      "source": [
        "from sklearn.feature_extraction.text import TfidfVectorizer\n",
        "# from sklearn.feature_extraction.text import TfidfVectorizer"
      ]
    },
    {
      "cell_type": "code",
      "execution_count": 57,
      "id": "ad514542",
      "metadata": {
        "id": "ad514542",
        "colab": {
          "base_uri": "https://localhost:8080/"
        },
        "outputId": "756dda25-93ad-4bc3-b5c6-bd5cd5e92504"
      },
      "outputs": [
        {
          "output_type": "stream",
          "name": "stdout",
          "text": [
            "Looking in indexes: https://pypi.org/simple, https://us-python.pkg.dev/colab-wheels/public/simple/\n",
            "Collecting pymorphy2\n",
            "  Downloading pymorphy2-0.9.1-py3-none-any.whl (55 kB)\n",
            "\u001b[2K     \u001b[90m━━━━━━━━━━━━━━━━━━━━━━━━━━━━━━━━━━━━━━━━\u001b[0m \u001b[32m55.5/55.5 KB\u001b[0m \u001b[31m2.5 MB/s\u001b[0m eta \u001b[36m0:00:00\u001b[0m\n",
            "\u001b[?25hCollecting docopt>=0.6\n",
            "  Downloading docopt-0.6.2.tar.gz (25 kB)\n",
            "  Preparing metadata (setup.py) ... \u001b[?25l\u001b[?25hdone\n",
            "Collecting dawg-python>=0.7.1\n",
            "  Downloading DAWG_Python-0.7.2-py2.py3-none-any.whl (11 kB)\n",
            "Collecting pymorphy2-dicts-ru<3.0,>=2.4\n",
            "  Downloading pymorphy2_dicts_ru-2.4.417127.4579844-py2.py3-none-any.whl (8.2 MB)\n",
            "\u001b[2K     \u001b[90m━━━━━━━━━━━━━━━━━━━━━━━━━━━━━━━━━━━━━━━━\u001b[0m \u001b[32m8.2/8.2 MB\u001b[0m \u001b[31m52.9 MB/s\u001b[0m eta \u001b[36m0:00:00\u001b[0m\n",
            "\u001b[?25hBuilding wheels for collected packages: docopt\n",
            "  Building wheel for docopt (setup.py) ... \u001b[?25l\u001b[?25hdone\n",
            "  Created wheel for docopt: filename=docopt-0.6.2-py2.py3-none-any.whl size=13723 sha256=0fcf700d5a37f1fc479ba56b42b02b4747f0773735074e4b79f3f78eb7171ade\n",
            "  Stored in directory: /root/.cache/pip/wheels/56/ea/58/ead137b087d9e326852a851351d1debf4ada529b6ac0ec4e8c\n",
            "Successfully built docopt\n",
            "Installing collected packages: pymorphy2-dicts-ru, docopt, dawg-python, pymorphy2\n",
            "Successfully installed dawg-python-0.7.2 docopt-0.6.2 pymorphy2-0.9.1 pymorphy2-dicts-ru-2.4.417127.4579844\n"
          ]
        }
      ],
      "source": [
        "!pip install pymorphy2"
      ]
    },
    {
      "cell_type": "code",
      "execution_count": 58,
      "id": "ea71a32a",
      "metadata": {
        "id": "ea71a32a",
        "colab": {
          "base_uri": "https://localhost:8080/"
        },
        "outputId": "baaf09ed-1ea3-4c63-ecde-a03189d2822f"
      },
      "outputs": [
        {
          "output_type": "stream",
          "name": "stderr",
          "text": [
            "[nltk_data] Downloading package stopwords to /root/nltk_data...\n",
            "[nltk_data]   Unzipping corpora/stopwords.zip.\n"
          ]
        },
        {
          "output_type": "execute_result",
          "data": {
            "text/plain": [
              "True"
            ]
          },
          "metadata": {},
          "execution_count": 58
        }
      ],
      "source": [
        "import nltk\n",
        "nltk.download('stopwords')\n",
        "\n",
        "#import nltk\n",
        "#nltk.download('stopwords')"
      ]
    },
    {
      "cell_type": "markdown",
      "id": "1d879db0",
      "metadata": {
        "id": "1d879db0"
      },
      "source": [
        "Функция для удаления небуквенных символов из текста:"
      ]
    },
    {
      "cell_type": "code",
      "execution_count": 59,
      "id": "a2958b5a",
      "metadata": {
        "id": "a2958b5a"
      },
      "outputs": [],
      "source": [
        "import re\n",
        "from pymorphy2 import MorphAnalyzer\n",
        "from nltk.corpus import stopwords\n",
        "\n",
        "from functools import lru_cache\n",
        "from tqdm.notebook import tqdm\n",
        "\n",
        "m = MorphAnalyzer()\n",
        "regex = re.compile(\"[а-яa-zёЁ]+\")\n",
        "\n",
        "def words_only(text, regex=regex):\n",
        "    try:\n",
        "        return regex.findall(text.lower())\n",
        "    except:\n",
        "        return []\n",
        "\n",
        "# import re\n",
        "# from pymorphy2 import MorphAnalyzer\n",
        "# from nltk.corpus import stopwords\n",
        "\n",
        "# from functools import lru_cache\n",
        "# from tqdm.notebook import tqdm\n",
        "\n",
        "# m = MorphAnalyzer()\n",
        "# regex = re.compile(\"[а-яa-zёЁ]+\")\n",
        "\n",
        "# def words_only(text, regex=regex):\n",
        "#     try:\n",
        "#         return regex.findall(text.lower())\n",
        "#     except:\n",
        "#         return []"
      ]
    },
    {
      "cell_type": "code",
      "execution_count": 60,
      "id": "e805d0b6",
      "metadata": {
        "id": "e805d0b6",
        "outputId": "37673a20-7a92-4766-cfca-f3aa4f85a2e3",
        "colab": {
          "base_uri": "https://localhost:8080/",
          "height": 36
        }
      },
      "outputs": [
        {
          "output_type": "execute_result",
          "data": {
            "text/plain": [
              "'И именно эти неработающие весы показывают, что работающих нет?..\\n'"
            ],
            "application/vnd.google.colaboratory.intrinsic+json": {
              "type": "string"
            }
          },
          "metadata": {},
          "execution_count": 60
        }
      ],
      "source": [
        "train.comment[1]"
      ]
    },
    {
      "cell_type": "code",
      "execution_count": 61,
      "id": "826d2eec",
      "metadata": {
        "scrolled": true,
        "id": "826d2eec",
        "outputId": "b99e4563-2437-407a-9902-48ef7781f7c3",
        "colab": {
          "base_uri": "https://localhost:8080/"
        }
      },
      "outputs": [
        {
          "output_type": "execute_result",
          "data": {
            "text/plain": [
              "['и',\n",
              " 'именно',\n",
              " 'эти',\n",
              " 'неработающие',\n",
              " 'весы',\n",
              " 'показывают',\n",
              " 'что',\n",
              " 'работающих',\n",
              " 'нет']"
            ]
          },
          "metadata": {},
          "execution_count": 61
        }
      ],
      "source": [
        "words_only(train.comment[1])"
      ]
    },
    {
      "cell_type": "markdown",
      "id": "3cbea389",
      "metadata": {
        "id": "3cbea389"
      },
      "source": [
        "Функции для препроцессинга текста: \n",
        "\n",
        "1. Удаление небуквенных символов\n",
        "2. Лемматизация \n",
        "3. Удаление коротких (менее 3 символов) и стоп-слов"
      ]
    },
    {
      "cell_type": "code",
      "execution_count": 64,
      "id": "58a2fee8",
      "metadata": {
        "id": "58a2fee8"
      },
      "outputs": [],
      "source": [
        "@lru_cache(maxsize=128)\n",
        "def lemmatize_word(token: str, pymorphy=m):\n",
        "    return pymorphy.parse(token)[0].normal_form\n",
        "\n",
        "def lemmatize_text(text: list):\n",
        "    return [lemmatize_word(w) for w in text]\n",
        "\n",
        "mystopwords = stopwords.words('russian')\n",
        "def remove_stopwords(lemmas: list, stopwords=mystopwords):\n",
        "    return [w for w in lemmas if w not in stopwords and len(w) > 3]\n",
        "\n",
        "def clean_text(text: str):\n",
        "    tokens = words_only(text)\n",
        "    lemmas = lemmatize_text(tokens)\n",
        "    return ' '.join(remove_stopwords(lemmas))\n",
        "\n",
        "# @lru_cache(maxsize=128)\n",
        "# def lemmatize_word(token, pymorphy=m):\n",
        "#     return pymorphy.parse(token)[0].normal_form\n",
        "\n",
        "# def lemmatize_text(text):\n",
        "#     return [lemmatize_word(w) for w in text]\n",
        "\n",
        "\n",
        "# mystopwords = stopwords.words('russian') \n",
        "# def remove_stopwords(lemmas, stopwords = mystopwords):\n",
        "#     return [w for w in lemmas if not w in stopwords and len(w) > 3]\n",
        "\n",
        "# def clean_text(text):\n",
        "#     tokens = words_only(text)\n",
        "#     lemmas = lemmatize_text(tokens)\n",
        "    \n",
        "#     return ' '.join(remove_stopwords(lemmas))"
      ]
    },
    {
      "cell_type": "code",
      "execution_count": 65,
      "id": "d19590af",
      "metadata": {
        "id": "d19590af",
        "outputId": "9e9f392a-7316-4fab-c086-ef16f9cbf865",
        "colab": {
          "base_uri": "https://localhost:8080/",
          "height": 74
        }
      },
      "outputs": [
        {
          "output_type": "stream",
          "name": "stdout",
          "text": [
            "CPU times: user 852 µs, sys: 0 ns, total: 852 µs\n",
            "Wall time: 1.21 ms\n"
          ]
        },
        {
          "output_type": "execute_result",
          "data": {
            "text/plain": [
              "'неработающий'"
            ],
            "application/vnd.google.colaboratory.intrinsic+json": {
              "type": "string"
            }
          },
          "metadata": {},
          "execution_count": 65
        }
      ],
      "source": [
        "%time lemmatize_word('неработающие')"
      ]
    },
    {
      "cell_type": "code",
      "execution_count": 66,
      "id": "e9aa9da8",
      "metadata": {
        "id": "e9aa9da8",
        "outputId": "3fe311f9-f222-4acd-c37b-60556925007e",
        "colab": {
          "base_uri": "https://localhost:8080/",
          "height": 36
        }
      },
      "outputs": [
        {
          "output_type": "execute_result",
          "data": {
            "text/plain": [
              "'И именно эти неработающие весы показывают, что работающих нет?..\\n'"
            ],
            "application/vnd.google.colaboratory.intrinsic+json": {
              "type": "string"
            }
          },
          "metadata": {},
          "execution_count": 66
        }
      ],
      "source": [
        "train.comment[1]"
      ]
    },
    {
      "cell_type": "code",
      "execution_count": 67,
      "id": "716f4ba1",
      "metadata": {
        "scrolled": true,
        "id": "716f4ba1",
        "outputId": "863f9d9b-bbcb-4693-effd-1768a131b8de",
        "colab": {
          "base_uri": "https://localhost:8080/",
          "height": 36
        }
      },
      "outputs": [
        {
          "output_type": "execute_result",
          "data": {
            "text/plain": [
              "'именно неработающий весы показывать работать'"
            ],
            "application/vnd.google.colaboratory.intrinsic+json": {
              "type": "string"
            }
          },
          "metadata": {},
          "execution_count": 67
        }
      ],
      "source": [
        "clean_text(train.comment[1])"
      ]
    },
    {
      "cell_type": "markdown",
      "id": "7b0931f5",
      "metadata": {
        "id": "7b0931f5"
      },
      "source": [
        "Проводим препроцессинг для train и test выборок:"
      ]
    },
    {
      "cell_type": "code",
      "execution_count": 70,
      "id": "1b7459d9",
      "metadata": {
        "id": "1b7459d9",
        "outputId": "d047d52d-631c-4926-fdd1-868365dbfb0a",
        "colab": {
          "referenced_widgets": [
            "369d89f1a4c64f7e861409c3198f6b11",
            "4abf0407095a45039b7d9cec8a00193b",
            "a999e2e059b541e9b053a26f16765e76",
            "61a62a26bf4e40508b47a955f788bd0b",
            "d53e5618546843af8423d649e8ed412a",
            "1191ac1f74304225b08cea59dd528051",
            "9395af7c7a234aecbfcb0ac10b8b32bd",
            "cb07b5f88f944999bc3078208a053ce5",
            "b04057ec7e69492d95a26beb5f81c5e0",
            "19876d4447cf47e993f2014a7f12c33d",
            "fa784966fb5a464391d1595bd09aeee6"
          ],
          "base_uri": "https://localhost:8080/",
          "height": 238
        }
      },
      "outputs": [
        {
          "output_type": "display_data",
          "data": {
            "text/plain": [
              "  0%|          | 0/5296 [00:00<?, ?it/s]"
            ],
            "application/vnd.jupyter.widget-view+json": {
              "version_major": 2,
              "version_minor": 0,
              "model_id": "369d89f1a4c64f7e861409c3198f6b11"
            }
          },
          "metadata": {}
        },
        {
          "output_type": "execute_result",
          "data": {
            "text/plain": [
              "                                                comment  toxic  \\\n",
              "8857                Зачем тут эта хуета про кастрюли?\\n    1.0   \n",
              "9961  А если аллергия, ещё и звуковые спецэффекты бу...    0.0   \n",
              "1318  фишка в том, что социализм это не уровень выше...    0.0   \n",
              "2546  сколько будет стоить отключить функцию автомат...    0.0   \n",
              "8837  Немного не так, установка агрегатируется под о...    0.0   \n",
              "\n",
              "                                                 lemmas  \n",
              "8857                                      хует кастрюля  \n",
              "9961                       аллергия звуковой спецэффект  \n",
              "1318  фишка социализм уровень выше капитализм ветка ...  \n",
              "2546  сколько стоить отключить функция автоматически...  \n",
              "8837  немного установка агрегатироваться определённы...  "
            ],
            "text/html": [
              "\n",
              "  <div id=\"df-0c316904-d7e4-4e50-86df-9864342d23c9\">\n",
              "    <div class=\"colab-df-container\">\n",
              "      <div>\n",
              "<style scoped>\n",
              "    .dataframe tbody tr th:only-of-type {\n",
              "        vertical-align: middle;\n",
              "    }\n",
              "\n",
              "    .dataframe tbody tr th {\n",
              "        vertical-align: top;\n",
              "    }\n",
              "\n",
              "    .dataframe thead th {\n",
              "        text-align: right;\n",
              "    }\n",
              "</style>\n",
              "<table border=\"1\" class=\"dataframe\">\n",
              "  <thead>\n",
              "    <tr style=\"text-align: right;\">\n",
              "      <th></th>\n",
              "      <th>comment</th>\n",
              "      <th>toxic</th>\n",
              "      <th>lemmas</th>\n",
              "    </tr>\n",
              "  </thead>\n",
              "  <tbody>\n",
              "    <tr>\n",
              "      <th>8857</th>\n",
              "      <td>Зачем тут эта хуета про кастрюли?\\n</td>\n",
              "      <td>1.0</td>\n",
              "      <td>хует кастрюля</td>\n",
              "    </tr>\n",
              "    <tr>\n",
              "      <th>9961</th>\n",
              "      <td>А если аллергия, ещё и звуковые спецэффекты бу...</td>\n",
              "      <td>0.0</td>\n",
              "      <td>аллергия звуковой спецэффект</td>\n",
              "    </tr>\n",
              "    <tr>\n",
              "      <th>1318</th>\n",
              "      <td>фишка в том, что социализм это не уровень выше...</td>\n",
              "      <td>0.0</td>\n",
              "      <td>фишка социализм уровень выше капитализм ветка ...</td>\n",
              "    </tr>\n",
              "    <tr>\n",
              "      <th>2546</th>\n",
              "      <td>сколько будет стоить отключить функцию автомат...</td>\n",
              "      <td>0.0</td>\n",
              "      <td>сколько стоить отключить функция автоматически...</td>\n",
              "    </tr>\n",
              "    <tr>\n",
              "      <th>8837</th>\n",
              "      <td>Немного не так, установка агрегатируется под о...</td>\n",
              "      <td>0.0</td>\n",
              "      <td>немного установка агрегатироваться определённы...</td>\n",
              "    </tr>\n",
              "  </tbody>\n",
              "</table>\n",
              "</div>\n",
              "      <button class=\"colab-df-convert\" onclick=\"convertToInteractive('df-0c316904-d7e4-4e50-86df-9864342d23c9')\"\n",
              "              title=\"Convert this dataframe to an interactive table.\"\n",
              "              style=\"display:none;\">\n",
              "        \n",
              "  <svg xmlns=\"http://www.w3.org/2000/svg\" height=\"24px\"viewBox=\"0 0 24 24\"\n",
              "       width=\"24px\">\n",
              "    <path d=\"M0 0h24v24H0V0z\" fill=\"none\"/>\n",
              "    <path d=\"M18.56 5.44l.94 2.06.94-2.06 2.06-.94-2.06-.94-.94-2.06-.94 2.06-2.06.94zm-11 1L8.5 8.5l.94-2.06 2.06-.94-2.06-.94L8.5 2.5l-.94 2.06-2.06.94zm10 10l.94 2.06.94-2.06 2.06-.94-2.06-.94-.94-2.06-.94 2.06-2.06.94z\"/><path d=\"M17.41 7.96l-1.37-1.37c-.4-.4-.92-.59-1.43-.59-.52 0-1.04.2-1.43.59L10.3 9.45l-7.72 7.72c-.78.78-.78 2.05 0 2.83L4 21.41c.39.39.9.59 1.41.59.51 0 1.02-.2 1.41-.59l7.78-7.78 2.81-2.81c.8-.78.8-2.07 0-2.86zM5.41 20L4 18.59l7.72-7.72 1.47 1.35L5.41 20z\"/>\n",
              "  </svg>\n",
              "      </button>\n",
              "      \n",
              "  <style>\n",
              "    .colab-df-container {\n",
              "      display:flex;\n",
              "      flex-wrap:wrap;\n",
              "      gap: 12px;\n",
              "    }\n",
              "\n",
              "    .colab-df-convert {\n",
              "      background-color: #E8F0FE;\n",
              "      border: none;\n",
              "      border-radius: 50%;\n",
              "      cursor: pointer;\n",
              "      display: none;\n",
              "      fill: #1967D2;\n",
              "      height: 32px;\n",
              "      padding: 0 0 0 0;\n",
              "      width: 32px;\n",
              "    }\n",
              "\n",
              "    .colab-df-convert:hover {\n",
              "      background-color: #E2EBFA;\n",
              "      box-shadow: 0px 1px 2px rgba(60, 64, 67, 0.3), 0px 1px 3px 1px rgba(60, 64, 67, 0.15);\n",
              "      fill: #174EA6;\n",
              "    }\n",
              "\n",
              "    [theme=dark] .colab-df-convert {\n",
              "      background-color: #3B4455;\n",
              "      fill: #D2E3FC;\n",
              "    }\n",
              "\n",
              "    [theme=dark] .colab-df-convert:hover {\n",
              "      background-color: #434B5C;\n",
              "      box-shadow: 0px 1px 3px 1px rgba(0, 0, 0, 0.15);\n",
              "      filter: drop-shadow(0px 1px 2px rgba(0, 0, 0, 0.3));\n",
              "      fill: #FFFFFF;\n",
              "    }\n",
              "  </style>\n",
              "\n",
              "      <script>\n",
              "        const buttonEl =\n",
              "          document.querySelector('#df-0c316904-d7e4-4e50-86df-9864342d23c9 button.colab-df-convert');\n",
              "        buttonEl.style.display =\n",
              "          google.colab.kernel.accessAllowed ? 'block' : 'none';\n",
              "\n",
              "        async function convertToInteractive(key) {\n",
              "          const element = document.querySelector('#df-0c316904-d7e4-4e50-86df-9864342d23c9');\n",
              "          const dataTable =\n",
              "            await google.colab.kernel.invokeFunction('convertToInteractive',\n",
              "                                                     [key], {});\n",
              "          if (!dataTable) return;\n",
              "\n",
              "          const docLinkHtml = 'Like what you see? Visit the ' +\n",
              "            '<a target=\"_blank\" href=https://colab.research.google.com/notebooks/data_table.ipynb>data table notebook</a>'\n",
              "            + ' to learn more about interactive tables.';\n",
              "          element.innerHTML = '';\n",
              "          dataTable['output_type'] = 'display_data';\n",
              "          await google.colab.output.renderOutput(dataTable, element);\n",
              "          const docLink = document.createElement('div');\n",
              "          docLink.innerHTML = docLinkHtml;\n",
              "          element.appendChild(docLink);\n",
              "        }\n",
              "      </script>\n",
              "    </div>\n",
              "  </div>\n",
              "  "
            ]
          },
          "metadata": {},
          "execution_count": 70
        }
      ],
      "source": [
        "lemmas = list(tqdm(map(clean_text, train['comment']), total=len(train)))\n",
        "\n",
        "train['lemmas'] = lemmas\n",
        "train.sample(5)\n",
        "\n",
        "# lemmas = list(tqdm(map(clean_text, train['comment']), total=len(train)))\n",
        "    \n",
        "# train['lemmas'] = lemmas\n",
        "# train.sample(5)"
      ]
    },
    {
      "cell_type": "code",
      "execution_count": 71,
      "id": "a3817bcc",
      "metadata": {
        "id": "a3817bcc",
        "outputId": "bd18360d-75a3-490d-ba14-8f275ee5f212",
        "colab": {
          "referenced_widgets": [
            "fa17bcf50a7e4172a9ba46d708099360",
            "f8fef15620d748fcbd2a5398f7fc346d",
            "db6c68c7ff0041f38d65348b3a60e79b",
            "54e4dd4d462549568e2851462c42c568",
            "72b3810df910446b915a2e6d47afdda1",
            "bcf96f8568ac4e60815cf41c9d462271",
            "ef38c8110b3242c49a7fe5fa819afddb",
            "66aa5f86d5e5450fbcc51fdc6cc16bbd",
            "b8abc8b6e374480cb5e0acb954fbfc23",
            "844809c605db4bdbb3c29a12348062f4",
            "133ec5fab83e470383e1eed66d417e60"
          ],
          "base_uri": "https://localhost:8080/",
          "height": 49
        }
      },
      "outputs": [
        {
          "output_type": "display_data",
          "data": {
            "text/plain": [
              "  0%|          | 0/2270 [00:00<?, ?it/s]"
            ],
            "application/vnd.jupyter.widget-view+json": {
              "version_major": 2,
              "version_minor": 0,
              "model_id": "fa17bcf50a7e4172a9ba46d708099360"
            }
          },
          "metadata": {}
        }
      ],
      "source": [
        "lemmas_test = list(tqdm(map(clean_text, test['comment']), total=len(test)))\n",
        "test['lemmas'] = lemmas_test\n",
        "\n",
        "# lemmas_test = list(tqdm(map(clean_text, test['comment']), total=len(test)))\n",
        "    \n",
        "# test['lemmas'] = lemmas_test"
      ]
    },
    {
      "cell_type": "markdown",
      "id": "d5936169",
      "metadata": {
        "id": "d5936169"
      },
      "source": [
        "Считаем TF-IDF матрицу и обучаем модель:"
      ]
    },
    {
      "cell_type": "code",
      "execution_count": 73,
      "id": "d9866256",
      "metadata": {
        "id": "d9866256",
        "outputId": "4eac542b-30bf-43ab-a03f-3b3d0a2d133f",
        "colab": {
          "base_uri": "https://localhost:8080/"
        }
      },
      "outputs": [
        {
          "output_type": "execute_result",
          "data": {
            "text/plain": [
              "0.7920704845814978"
            ]
          },
          "metadata": {},
          "execution_count": 73
        }
      ],
      "source": [
        "vec = TfidfVectorizer(ngram_range=(1, 2)) # строим BoW для слов\n",
        "tfidf = vec.fit_transform(train['lemmas'])\n",
        "\n",
        "clf = LogisticRegression(random_state=42, max_iter=500)\n",
        "clf.fit(tfidf, y_train)\n",
        "\n",
        "pred = clf.predict(vec.transform(test['lemmas']))\n",
        "accuracy_score(pred, y_test)\n",
        "\n",
        "# vec = TfidfVectorizer(ngram_range=(1, 2)) # строим BoW для слов\n",
        "# tfidf = vec.fit_transform(train['lemmas'])\n",
        "\n",
        "# clf = LogisticRegression(random_state=42, max_iter=500)\n",
        "# clf.fit(tfidf, y_train)\n",
        "\n",
        "# pred = clf.predict(vec.transform(test['lemmas']))\n",
        "# accuracy_score(pred, y_test)"
      ]
    },
    {
      "cell_type": "code",
      "execution_count": 74,
      "id": "41481730",
      "metadata": {
        "id": "41481730",
        "outputId": "c026801c-a38a-4dc9-e26f-72a46ce48348",
        "colab": {
          "base_uri": "https://localhost:8080/"
        }
      },
      "outputs": [
        {
          "output_type": "stream",
          "name": "stdout",
          "text": [
            "              precision    recall  f1-score   support\n",
            "\n",
            "           0       0.98      0.78      0.87      1981\n",
            "           1       0.37      0.90      0.52       289\n",
            "\n",
            "    accuracy                           0.79      2270\n",
            "   macro avg       0.68      0.84      0.70      2270\n",
            "weighted avg       0.90      0.79      0.82      2270\n",
            "\n"
          ]
        }
      ],
      "source": [
        "print(classification_report(pred, y_test))"
      ]
    },
    {
      "cell_type": "markdown",
      "id": "b265301c",
      "metadata": {
        "id": "b265301c"
      },
      "source": [
        "## Word2Vec\n",
        "\n",
        "Попробуем использовать эмбеддинги слов - для этого сперва обучим модель Word2Vec c помощью библиотеки gensim."
      ]
    },
    {
      "cell_type": "code",
      "execution_count": 75,
      "id": "b096313b",
      "metadata": {
        "id": "b096313b"
      },
      "outputs": [],
      "source": [
        "from gensim.models import word2vec"
      ]
    },
    {
      "cell_type": "code",
      "execution_count": 76,
      "id": "d0dfa851",
      "metadata": {
        "id": "d0dfa851",
        "outputId": "0e93347e-1a58-4b33-c603-b5cd815443f4",
        "colab": {
          "base_uri": "https://localhost:8080/",
          "height": 81
        }
      },
      "outputs": [
        {
          "output_type": "execute_result",
          "data": {
            "text/plain": [
              "                        comment  toxic               lemmas\n",
              "10230  За рогатую крысу-крысу\\n    1.0  рогатый крыса крыса"
            ],
            "text/html": [
              "\n",
              "  <div id=\"df-8a4ab32a-3845-4d5b-96bf-ff30124e2a55\">\n",
              "    <div class=\"colab-df-container\">\n",
              "      <div>\n",
              "<style scoped>\n",
              "    .dataframe tbody tr th:only-of-type {\n",
              "        vertical-align: middle;\n",
              "    }\n",
              "\n",
              "    .dataframe tbody tr th {\n",
              "        vertical-align: top;\n",
              "    }\n",
              "\n",
              "    .dataframe thead th {\n",
              "        text-align: right;\n",
              "    }\n",
              "</style>\n",
              "<table border=\"1\" class=\"dataframe\">\n",
              "  <thead>\n",
              "    <tr style=\"text-align: right;\">\n",
              "      <th></th>\n",
              "      <th>comment</th>\n",
              "      <th>toxic</th>\n",
              "      <th>lemmas</th>\n",
              "    </tr>\n",
              "  </thead>\n",
              "  <tbody>\n",
              "    <tr>\n",
              "      <th>10230</th>\n",
              "      <td>За рогатую крысу-крысу\\n</td>\n",
              "      <td>1.0</td>\n",
              "      <td>рогатый крыса крыса</td>\n",
              "    </tr>\n",
              "  </tbody>\n",
              "</table>\n",
              "</div>\n",
              "      <button class=\"colab-df-convert\" onclick=\"convertToInteractive('df-8a4ab32a-3845-4d5b-96bf-ff30124e2a55')\"\n",
              "              title=\"Convert this dataframe to an interactive table.\"\n",
              "              style=\"display:none;\">\n",
              "        \n",
              "  <svg xmlns=\"http://www.w3.org/2000/svg\" height=\"24px\"viewBox=\"0 0 24 24\"\n",
              "       width=\"24px\">\n",
              "    <path d=\"M0 0h24v24H0V0z\" fill=\"none\"/>\n",
              "    <path d=\"M18.56 5.44l.94 2.06.94-2.06 2.06-.94-2.06-.94-.94-2.06-.94 2.06-2.06.94zm-11 1L8.5 8.5l.94-2.06 2.06-.94-2.06-.94L8.5 2.5l-.94 2.06-2.06.94zm10 10l.94 2.06.94-2.06 2.06-.94-2.06-.94-.94-2.06-.94 2.06-2.06.94z\"/><path d=\"M17.41 7.96l-1.37-1.37c-.4-.4-.92-.59-1.43-.59-.52 0-1.04.2-1.43.59L10.3 9.45l-7.72 7.72c-.78.78-.78 2.05 0 2.83L4 21.41c.39.39.9.59 1.41.59.51 0 1.02-.2 1.41-.59l7.78-7.78 2.81-2.81c.8-.78.8-2.07 0-2.86zM5.41 20L4 18.59l7.72-7.72 1.47 1.35L5.41 20z\"/>\n",
              "  </svg>\n",
              "      </button>\n",
              "      \n",
              "  <style>\n",
              "    .colab-df-container {\n",
              "      display:flex;\n",
              "      flex-wrap:wrap;\n",
              "      gap: 12px;\n",
              "    }\n",
              "\n",
              "    .colab-df-convert {\n",
              "      background-color: #E8F0FE;\n",
              "      border: none;\n",
              "      border-radius: 50%;\n",
              "      cursor: pointer;\n",
              "      display: none;\n",
              "      fill: #1967D2;\n",
              "      height: 32px;\n",
              "      padding: 0 0 0 0;\n",
              "      width: 32px;\n",
              "    }\n",
              "\n",
              "    .colab-df-convert:hover {\n",
              "      background-color: #E2EBFA;\n",
              "      box-shadow: 0px 1px 2px rgba(60, 64, 67, 0.3), 0px 1px 3px 1px rgba(60, 64, 67, 0.15);\n",
              "      fill: #174EA6;\n",
              "    }\n",
              "\n",
              "    [theme=dark] .colab-df-convert {\n",
              "      background-color: #3B4455;\n",
              "      fill: #D2E3FC;\n",
              "    }\n",
              "\n",
              "    [theme=dark] .colab-df-convert:hover {\n",
              "      background-color: #434B5C;\n",
              "      box-shadow: 0px 1px 3px 1px rgba(0, 0, 0, 0.15);\n",
              "      filter: drop-shadow(0px 1px 2px rgba(0, 0, 0, 0.3));\n",
              "      fill: #FFFFFF;\n",
              "    }\n",
              "  </style>\n",
              "\n",
              "      <script>\n",
              "        const buttonEl =\n",
              "          document.querySelector('#df-8a4ab32a-3845-4d5b-96bf-ff30124e2a55 button.colab-df-convert');\n",
              "        buttonEl.style.display =\n",
              "          google.colab.kernel.accessAllowed ? 'block' : 'none';\n",
              "\n",
              "        async function convertToInteractive(key) {\n",
              "          const element = document.querySelector('#df-8a4ab32a-3845-4d5b-96bf-ff30124e2a55');\n",
              "          const dataTable =\n",
              "            await google.colab.kernel.invokeFunction('convertToInteractive',\n",
              "                                                     [key], {});\n",
              "          if (!dataTable) return;\n",
              "\n",
              "          const docLinkHtml = 'Like what you see? Visit the ' +\n",
              "            '<a target=\"_blank\" href=https://colab.research.google.com/notebooks/data_table.ipynb>data table notebook</a>'\n",
              "            + ' to learn more about interactive tables.';\n",
              "          element.innerHTML = '';\n",
              "          dataTable['output_type'] = 'display_data';\n",
              "          await google.colab.output.renderOutput(dataTable, element);\n",
              "          const docLink = document.createElement('div');\n",
              "          docLink.innerHTML = docLinkHtml;\n",
              "          element.appendChild(docLink);\n",
              "        }\n",
              "      </script>\n",
              "    </div>\n",
              "  </div>\n",
              "  "
            ]
          },
          "metadata": {},
          "execution_count": 76
        }
      ],
      "source": [
        "train.sample()"
      ]
    },
    {
      "cell_type": "code",
      "execution_count": 77,
      "id": "179d12d6",
      "metadata": {
        "id": "179d12d6"
      },
      "outputs": [],
      "source": [
        "#help( word2vec.Word2Vec)"
      ]
    },
    {
      "cell_type": "code",
      "execution_count": 79,
      "id": "4bea504c",
      "metadata": {
        "id": "4bea504c",
        "outputId": "346581c7-b83a-441c-b2c1-faa4a4159e57",
        "colab": {
          "base_uri": "https://localhost:8080/"
        }
      },
      "outputs": [
        {
          "output_type": "stream",
          "name": "stdout",
          "text": [
            "CPU times: user 1.31 s, sys: 21.4 ms, total: 1.33 s\n",
            "Wall time: 984 ms\n"
          ]
        }
      ],
      "source": [
        "tokenized_tweets = [tweet.split() for tweet in train['lemmas'].values]\n",
        "\n",
        "%time w2v = word2vec.Word2Vec(tokenized_tweets, workers=4, size=200, min_count=10, window=3, sample=1e-3)\n",
        "\n",
        "# tokenized_tweets = [tweet.split() for tweet in train['lemmas'].values]\n",
        "\n",
        "# %time w2v = word2vec.Word2Vec(tokenized_tweets, workers=4, vector_size=200, min_count=10, window=3, sample=1e-3)"
      ]
    },
    {
      "cell_type": "code",
      "execution_count": 80,
      "id": "ba0aeb03",
      "metadata": {
        "id": "ba0aeb03",
        "outputId": "f15a0dc7-77ed-4e9f-d4a1-2e5d6cfefb0d",
        "colab": {
          "base_uri": "https://localhost:8080/"
        }
      },
      "outputs": [
        {
          "output_type": "execute_result",
          "data": {
            "text/plain": [
              "[('мочь', 0.9999347925186157),\n",
              " ('дать', 0.9999326467514038),\n",
              " ('именно', 0.9999306201934814),\n",
              " ('весь', 0.9999306201934814),\n",
              " ('страна', 0.9999298453330994),\n",
              " ('сделать', 0.9999297857284546),\n",
              " ('ребёнок', 0.9999287128448486),\n",
              " ('хороший', 0.9999285936355591),\n",
              " ('время', 0.9999281167984009),\n",
              " ('который', 0.9999278783798218)]"
            ]
          },
          "metadata": {},
          "execution_count": 80
        }
      ],
      "source": [
        "w2v.wv.most_similar(positive=['плюс'], topn=10)\n",
        "# w2v.wv.most_similar(positive=['плюс'], topn=10)"
      ]
    },
    {
      "cell_type": "markdown",
      "id": "d9d94c62",
      "metadata": {
        "id": "d9d94c62"
      },
      "source": [
        "Теперь у нас есть эмбеддинги для слов. Но как получить эмбеддинги для твитов?\n",
        "\n",
        "Можно просто усреднить эмбеддинги слов, входящих в твит."
      ]
    },
    {
      "cell_type": "code",
      "execution_count": 82,
      "id": "cdcc4776",
      "metadata": {
        "id": "cdcc4776"
      },
      "outputs": [],
      "source": [
        "def get_tweet_embedding(lemmas, model=w2v.wv, embedding_size=200):\n",
        "    res = np.zeros(embedding_size)\n",
        "    cnt = 0\n",
        "    for word in lemmas.split():\n",
        "        if word in model:\n",
        "            res += np.array(model[word])\n",
        "            cnt += 1\n",
        "    if cnt:\n",
        "        res /= cnt\n",
        "    return res\n",
        "\n",
        "# def get_tweet_embedding(lemmas, model=w2v.wv, embedding_size=200):\n",
        "    \n",
        "#     res = np.zeros(embedding_size)\n",
        "#     cnt = 0\n",
        "#     for word in lemmas.split():\n",
        "#         if word in model:\n",
        "#             res += np.array(model[word])\n",
        "#             cnt += 1\n",
        "#     if cnt:\n",
        "#         res = res / cnt\n",
        "#     return res"
      ]
    },
    {
      "cell_type": "code",
      "execution_count": 90,
      "id": "13d34161",
      "metadata": {
        "id": "13d34161",
        "outputId": "c5b46831-8a07-4152-acbf-6508e48e1d6b",
        "colab": {
          "base_uri": "https://localhost:8080/"
        }
      },
      "outputs": [
        {
          "output_type": "execute_result",
          "data": {
            "text/plain": [
              "array([ 0.28342253, -0.72313756, -0.41315034, -0.08118716,  0.0515172 ,\n",
              "       -0.49743643,  0.04106423,  0.25147135,  0.08538125,  0.25044674])"
            ]
          },
          "metadata": {},
          "execution_count": 90
        }
      ],
      "source": [
        "get_tweet_embedding('мочь дать')[:10]"
      ]
    },
    {
      "cell_type": "markdown",
      "id": "da1a6bd0",
      "metadata": {
        "id": "da1a6bd0"
      },
      "source": [
        "Для каждого твита из обучающей и тестовой выборки вычислим такой эмбеддинг:"
      ]
    },
    {
      "cell_type": "code",
      "execution_count": 91,
      "id": "0a181933",
      "metadata": {
        "id": "0a181933"
      },
      "outputs": [],
      "source": [
        "train['w2v_embedding'] = train['lemmas'].map(get_tweet_embedding)\n",
        "test['w2v_embedding'] = test['lemmas'].map(get_tweet_embedding)\n",
        "# train['w2v_embedding'] = train['lemmas'].map(get_tweet_embedding)\n",
        "# test['w2v_embedding'] = test['lemmas'].map(get_tweet_embedding)"
      ]
    },
    {
      "cell_type": "code",
      "execution_count": 92,
      "id": "b8891446",
      "metadata": {
        "id": "b8891446",
        "outputId": "791f5219-7d1d-4553-e04a-091685fa57c0",
        "colab": {
          "base_uri": "https://localhost:8080/"
        }
      },
      "outputs": [
        {
          "output_type": "execute_result",
          "data": {
            "text/plain": [
              "0.6903083700440529"
            ]
          },
          "metadata": {},
          "execution_count": 92
        }
      ],
      "source": [
        "clf = LogisticRegression(random_state=42, max_iter=500)\n",
        "clf.fit(list(train['w2v_embedding'].values), y_train)\n",
        "\n",
        "pred = clf.predict(list(test['w2v_embedding'].values))\n",
        "accuracy_score(pred, y_test)"
      ]
    },
    {
      "cell_type": "code",
      "execution_count": 93,
      "id": "dea27561",
      "metadata": {
        "id": "dea27561",
        "outputId": "f7b975d4-b090-44d7-a0f8-1805181f93f7",
        "colab": {
          "base_uri": "https://localhost:8080/"
        }
      },
      "outputs": [
        {
          "output_type": "stream",
          "name": "stdout",
          "text": [
            "              precision    recall  f1-score   support\n",
            "\n",
            "         0.0       1.00      0.69      0.82      2270\n",
            "         1.0       0.00      0.00      0.00         0\n",
            "\n",
            "    accuracy                           0.69      2270\n",
            "   macro avg       0.50      0.35      0.41      2270\n",
            "weighted avg       1.00      0.69      0.82      2270\n",
            "\n"
          ]
        },
        {
          "output_type": "stream",
          "name": "stderr",
          "text": [
            "/usr/local/lib/python3.8/dist-packages/sklearn/metrics/_classification.py:1318: UndefinedMetricWarning: Recall and F-score are ill-defined and being set to 0.0 in labels with no true samples. Use `zero_division` parameter to control this behavior.\n",
            "  _warn_prf(average, modifier, msg_start, len(result))\n",
            "/usr/local/lib/python3.8/dist-packages/sklearn/metrics/_classification.py:1318: UndefinedMetricWarning: Recall and F-score are ill-defined and being set to 0.0 in labels with no true samples. Use `zero_division` parameter to control this behavior.\n",
            "  _warn_prf(average, modifier, msg_start, len(result))\n",
            "/usr/local/lib/python3.8/dist-packages/sklearn/metrics/_classification.py:1318: UndefinedMetricWarning: Recall and F-score are ill-defined and being set to 0.0 in labels with no true samples. Use `zero_division` parameter to control this behavior.\n",
            "  _warn_prf(average, modifier, msg_start, len(result))\n"
          ]
        }
      ],
      "source": [
        "print(classification_report(pred, y_test))"
      ]
    },
    {
      "cell_type": "markdown",
      "id": "c7ab4b0c",
      "metadata": {
        "id": "c7ab4b0c"
      },
      "source": [
        "## FastText\n",
        "\n",
        "FastText - это модификация модели word2vec.\n",
        "\n",
        "FastText использует не только векторы слов, но и векторы n-грам. В корпусе каждое слово автоматически представляется в виде набора символьных n-грамм. Скажем, если мы установим n=3, то вектор для слова \"where\" будет представлен суммой векторов следующих триграм: \"<wh\", \"whe\", \"her\", \"ere\", \"re>\" (где \"<\" и \">\" символы, обозначающие начало и конец слова). Благодаря этому мы можем также получать вектора для слов, отсутствуюших в словаре, а также эффективно работать с текстами, содержащими ошибки и опечатки.\n",
        "\n",
        "* [Статья](https://aclweb.org/anthology/Q17-1010)\n",
        "* [Сайт](https://fasttext.cc/)\n",
        "* [Руководство](https://fasttext.cc/docs/en/support.html)\n",
        "* [Репозиторий](https://github.com/facebookresearch/fasttext)\n",
        "\n",
        "Есть библиотека `fasttext` для питона (с готовыми моделями можно работать и через `gensim`).\n",
        "\n",
        "На сайте проекта можно найти предобученные модели для 157 языков (в том числе русского): https://fasttext.cc/docs/en/crawl-vectors.html\n",
        "\n",
        "Для начала, попробуем взять предобученную модель fastText с сайта проекта и заменить эмбеддинги в модели выше на эмбеддинги fastText.\n",
        "\n",
        "Бонус: попробуйте взять модель с сайта проекта Rusvetores: https://rusvectores.org/ru/models/"
      ]
    },
    {
      "cell_type": "code",
      "execution_count": 95,
      "id": "bf59099c",
      "metadata": {
        "id": "bf59099c",
        "outputId": "b19ed3bd-e925-4a9c-b27b-74d927d0bd43",
        "colab": {
          "base_uri": "https://localhost:8080/"
        }
      },
      "outputs": [
        {
          "output_type": "stream",
          "name": "stdout",
          "text": [
            "Looking in indexes: https://pypi.org/simple, https://us-python.pkg.dev/colab-wheels/public/simple/\n",
            "Collecting fasttext==0.6.0\n",
            "  Downloading fasttext-0.6.0.tar.gz (57 kB)\n",
            "\u001b[2K     \u001b[90m━━━━━━━━━━━━━━━━━━━━━━━━━━━━━━━━━━━━━━━━\u001b[0m \u001b[32m58.0/58.0 KB\u001b[0m \u001b[31m3.1 MB/s\u001b[0m eta \u001b[36m0:00:00\u001b[0m\n",
            "\u001b[?25h  Preparing metadata (setup.py) ... \u001b[?25l\u001b[?25hdone\n",
            "Requirement already satisfied: numpy>=1 in /usr/local/lib/python3.8/dist-packages (from fasttext==0.6.0) (1.22.4)\n",
            "Building wheels for collected packages: fasttext\n",
            "  Building wheel for fasttext (setup.py) ... \u001b[?25l\u001b[?25hdone\n",
            "  Created wheel for fasttext: filename=fasttext-0.6.0-cp38-cp38-linux_x86_64.whl size=1070768 sha256=ab20e53bc87f3fbbb88985568db03d6945ca282e092444184d6959ecb784d8bf\n",
            "  Stored in directory: /root/.cache/pip/wheels/0c/75/aa/f731246516a4b4373cdcbe213982143b99afde374d269072d3\n",
            "Successfully built fasttext\n",
            "Installing collected packages: fasttext\n",
            "Successfully installed fasttext-0.6.0\n"
          ]
        }
      ],
      "source": [
        "!pip install fasttext==0.6.0"
      ]
    },
    {
      "cell_type": "code",
      "source": [
        "\n",
        "!pip install fastText"
      ],
      "metadata": {
        "colab": {
          "base_uri": "https://localhost:8080/"
        },
        "id": "y5M_jgSwmvvO",
        "outputId": "c12a8033-97f3-44fa-bae3-a12de99881b2"
      },
      "id": "y5M_jgSwmvvO",
      "execution_count": 103,
      "outputs": [
        {
          "output_type": "stream",
          "name": "stdout",
          "text": [
            "Looking in indexes: https://pypi.org/simple, https://us-python.pkg.dev/colab-wheels/public/simple/\n",
            "Requirement already satisfied: fastText in /usr/local/lib/python3.8/dist-packages (0.6.0)\n",
            "Requirement already satisfied: numpy>=1 in /usr/local/lib/python3.8/dist-packages (from fastText) (1.22.4)\n"
          ]
        }
      ]
    },
    {
      "cell_type": "code",
      "source": [
        "!git clone https://github.com/facebookresearch/fastText.git\n",
        "!cd fastText\n",
        "!pip install fastText"
      ],
      "metadata": {
        "colab": {
          "base_uri": "https://localhost:8080/"
        },
        "id": "PSbadRskmf0d",
        "outputId": "c479378f-70a0-40e2-b8e1-c4ddabb796f3"
      },
      "id": "PSbadRskmf0d",
      "execution_count": 97,
      "outputs": [
        {
          "output_type": "stream",
          "name": "stdout",
          "text": [
            "Cloning into 'fastText'...\n",
            "remote: Enumerating objects: 3930, done.\u001b[K\n",
            "remote: Counting objects: 100% (943/943), done.\u001b[K\n",
            "remote: Compressing objects: 100% (137/137), done.\u001b[K\n",
            "remote: Total 3930 (delta 854), reused 806 (delta 806), pack-reused 2987\u001b[K\n",
            "Receiving objects: 100% (3930/3930), 8.24 MiB | 30.47 MiB/s, done.\n",
            "Resolving deltas: 100% (2505/2505), done.\n",
            "Looking in indexes: https://pypi.org/simple, https://us-python.pkg.dev/colab-wheels/public/simple/\n",
            "Requirement already satisfied: fastText in /usr/local/lib/python3.8/dist-packages (0.6.0)\n",
            "Requirement already satisfied: numpy>=1 in /usr/local/lib/python3.8/dist-packages (from fastText) (1.22.4)\n"
          ]
        }
      ]
    },
    {
      "cell_type": "code",
      "execution_count": 108,
      "id": "a7f34ece",
      "metadata": {
        "id": "a7f34ece",
        "colab": {
          "base_uri": "https://localhost:8080/",
          "height": 344
        },
        "outputId": "3ed396c5-7a44-4839-9d05-7b428cd4f90b"
      },
      "outputs": [
        {
          "output_type": "error",
          "ename": "ModuleNotFoundError",
          "evalue": "ignored",
          "traceback": [
            "\u001b[0;31m---------------------------------------------------------------------------\u001b[0m",
            "\u001b[0;31mModuleNotFoundError\u001b[0m                       Traceback (most recent call last)",
            "\u001b[0;32m<ipython-input-108-7b44d059074f>\u001b[0m in \u001b[0;36m<module>\u001b[0;34m\u001b[0m\n\u001b[1;32m      1\u001b[0m \u001b[0;32mimport\u001b[0m \u001b[0mfasttext\u001b[0m\u001b[0;34m\u001b[0m\u001b[0;34m\u001b[0m\u001b[0m\n\u001b[0;32m----> 2\u001b[0;31m \u001b[0;32mimport\u001b[0m \u001b[0mfasttext\u001b[0m\u001b[0;34m.\u001b[0m\u001b[0mutil\u001b[0m\u001b[0;34m\u001b[0m\u001b[0;34m\u001b[0m\u001b[0m\n\u001b[0m",
            "\u001b[0;31mModuleNotFoundError\u001b[0m: No module named 'fasttext.util'",
            "",
            "\u001b[0;31m---------------------------------------------------------------------------\u001b[0;32m\nNOTE: If your import is failing due to a missing package, you can\nmanually install dependencies using either !pip or !apt.\n\nTo view examples of installing some common dependencies, click the\n\"Open Examples\" button below.\n\u001b[0;31m---------------------------------------------------------------------------\u001b[0m\n"
          ],
          "errorDetails": {
            "actions": [
              {
                "action": "open_url",
                "actionText": "Open Examples",
                "url": "/notebooks/snippets/importing_libraries.ipynb"
              }
            ]
          }
        }
      ],
      "source": [
        "import fasttext\n",
        "import fasttext.util"
      ]
    },
    {
      "cell_type": "code",
      "execution_count": null,
      "id": "6351bfa4",
      "metadata": {
        "id": "6351bfa4",
        "outputId": "812fba0e-3715-46aa-b91b-5465d0c75db1"
      },
      "outputs": [
        {
          "name": "stdout",
          "output_type": "stream",
          "text": [
            "Help on function download_model in module fasttext.util.util:\n",
            "\n",
            "download_model(lang_id, if_exists='strict', dimension=None)\n",
            "    Download pre-trained common-crawl vectors from fastText's website\n",
            "    https://fasttext.cc/docs/en/crawl-vectors.html\n",
            "\n"
          ]
        }
      ],
      "source": [
        "help(fasttext.util.download_model)"
      ]
    },
    {
      "cell_type": "code",
      "execution_count": 100,
      "id": "67a29039",
      "metadata": {
        "scrolled": true,
        "id": "67a29039",
        "outputId": "245321d4-24ce-4bf1-d662-25c984794fa9",
        "colab": {
          "base_uri": "https://localhost:8080/",
          "height": 194
        }
      },
      "outputs": [
        {
          "output_type": "error",
          "ename": "AttributeError",
          "evalue": "ignored",
          "traceback": [
            "\u001b[0;31m---------------------------------------------------------------------------\u001b[0m",
            "\u001b[0;31mAttributeError\u001b[0m                            Traceback (most recent call last)",
            "\u001b[0;32m<ipython-input-100-f5c8cfb47e77>\u001b[0m in \u001b[0;36m<module>\u001b[0;34m\u001b[0m\n\u001b[0;32m----> 1\u001b[0;31m \u001b[0mfasttext\u001b[0m\u001b[0;34m.\u001b[0m\u001b[0mutil\u001b[0m\u001b[0;34m.\u001b[0m\u001b[0mdownload_model\u001b[0m\u001b[0;34m(\u001b[0m\u001b[0;34m'ru'\u001b[0m\u001b[0;34m,\u001b[0m \u001b[0mif_exists\u001b[0m\u001b[0;34m=\u001b[0m\u001b[0;34m'ignore'\u001b[0m\u001b[0;34m)\u001b[0m\u001b[0;34m\u001b[0m\u001b[0;34m\u001b[0m\u001b[0m\n\u001b[0m\u001b[1;32m      2\u001b[0m \u001b[0mft\u001b[0m \u001b[0;34m=\u001b[0m \u001b[0mfasttext\u001b[0m\u001b[0;34m.\u001b[0m\u001b[0mload_model\u001b[0m\u001b[0;34m(\u001b[0m\u001b[0;34m'cc.ru.300.bin'\u001b[0m\u001b[0;34m)\u001b[0m\u001b[0;34m\u001b[0m\u001b[0;34m\u001b[0m\u001b[0m\n",
            "\u001b[0;31mAttributeError\u001b[0m: module 'fasttext' has no attribute 'util'"
          ]
        }
      ],
      "source": [
        "fasttext.util.download_model('ru', if_exists='ignore')\n",
        "ft = fasttext.load_model('cc.ru.300.bin')"
      ]
    },
    {
      "cell_type": "code",
      "execution_count": null,
      "id": "e7b979af",
      "metadata": {
        "id": "e7b979af",
        "outputId": "4f65c9e8-bb9d-44b3-c982-8b193e922306"
      },
      "outputs": [
        {
          "data": {
            "text/plain": [
              "array([ 0.06434693, -0.01527086, -0.06963537, -0.03582602,  0.01471584,\n",
              "       -0.03503159,  0.02701715,  0.04161827, -0.00033126,  0.00355259,\n",
              "        0.06979205,  0.06205348,  0.05154078,  0.03831509, -0.02394784,\n",
              "       -0.03954181, -0.00189653, -0.11174394, -0.0407712 ,  0.09289949,\n",
              "       -0.07412342, -0.05209147,  0.02017231,  0.04837443,  0.02212641,\n",
              "        0.00856511, -0.03055364,  0.04733564,  0.04380886,  0.03856769,\n",
              "        0.03442968,  0.05576854,  0.01513439,  0.14055566,  0.03365337,\n",
              "       -0.02920472, -0.10305687, -0.09332671,  0.03085899, -0.11067575,\n",
              "       -0.08992791,  0.05850704, -0.017424  ,  0.00120653, -0.07153153,\n",
              "        0.10312843, -0.08066262, -0.00642456,  0.04408539, -0.05728461,\n",
              "       -0.0179531 ,  0.03936698,  0.04778077, -0.04907751, -0.00909553,\n",
              "        0.05588715, -0.00236535,  0.04878682, -0.01769035,  0.03295048,\n",
              "        0.00906604,  0.08772802,  0.02970458, -0.04903899, -0.03025401,\n",
              "       -0.04151824,  0.04931813, -0.02804473,  0.05716789,  0.03559401,\n",
              "       -0.12191223,  0.02087349, -0.05121018, -0.0584691 , -0.04781278,\n",
              "       -0.06298476, -0.00432743, -0.03785646, -0.08833752, -0.0375172 ,\n",
              "        0.04602968,  0.02096615,  0.00321184, -0.00927999, -0.00288017,\n",
              "        0.04345381, -0.0330169 ,  0.00840916, -0.05537616, -0.02134524,\n",
              "       -0.03705332,  0.06453154, -0.01733523, -0.01977487, -0.02836509,\n",
              "        0.01901042,  0.04043126, -0.07048826, -0.09381784, -0.02532577,\n",
              "       -0.02679786,  0.01097633, -0.01681483, -0.08134623,  0.00429079,\n",
              "       -0.07213577, -0.03950587,  0.07274695, -0.00337509,  0.05469057,\n",
              "       -0.01510826, -0.05297935,  0.04232059, -0.04494021, -0.01873806,\n",
              "        0.02970697, -0.02128338, -0.07461107,  0.04457341,  0.02913763,\n",
              "       -0.05406609,  0.06825955, -0.0423348 , -0.01933457,  0.00638132,\n",
              "        0.00075826,  0.10154837, -0.06699109, -0.01374834,  0.10683898,\n",
              "        0.06719182,  0.00299954,  0.03092229, -0.01919586,  0.02315286,\n",
              "        0.02552165,  0.0297376 ,  0.0476847 , -0.06794806,  0.01934321,\n",
              "        0.07793375,  0.04631811,  0.07487484, -0.06923444, -0.09797966,\n",
              "       -0.02230856,  0.04383751,  0.05814477,  0.09182699,  0.0407513 ,\n",
              "        0.06562199,  0.06420117, -0.12618978, -0.00895569, -0.03637737,\n",
              "        0.0323772 ,  0.05442533,  0.02233687,  0.0607053 , -0.03511162,\n",
              "       -0.02011008, -0.04657565, -0.1363746 , -0.09366813, -0.01257268,\n",
              "       -0.0822741 ,  0.04026463,  0.08941573,  0.05416025, -0.00148568,\n",
              "        0.02470817, -0.01521165,  0.06688396,  0.01970377, -0.067048  ,\n",
              "        0.05173868, -0.06437217,  0.02638604,  0.02355881, -0.03286408,\n",
              "       -0.01542088,  0.0226214 ,  0.01009578, -0.06503511,  0.05164307,\n",
              "        0.08621447, -0.00291589,  0.0201317 ,  0.05789564,  0.04330945,\n",
              "       -0.01468945,  0.00915974,  0.02692279,  0.07124459, -0.05370982,\n",
              "        0.04218086,  0.00314814,  0.00356758, -0.02068229,  0.0604349 ,\n",
              "       -0.08158811,  0.04939371,  0.0430281 , -0.03372736, -0.0558867 ,\n",
              "        0.00376545, -0.037087  ,  0.05940549,  0.02495521, -0.00334628,\n",
              "        0.01005986, -0.02053031,  0.01179219,  0.07010209, -0.10397089,\n",
              "        0.07733957,  0.06056703,  0.01003617, -0.15787463, -0.01765688,\n",
              "        0.00765593, -0.01905038,  0.01327723,  0.01084452, -0.05930451,\n",
              "       -0.07062402, -0.08540855,  0.01374613, -0.03077546, -0.04025275,\n",
              "        0.00268231, -0.06844234,  0.05945092,  0.02234607,  0.14669767,\n",
              "        0.03161074, -0.03626112,  0.13065669, -0.02795461,  0.00260858,\n",
              "        0.02103085, -0.01555263,  0.02790887, -0.02395738, -0.10259839,\n",
              "       -0.01162906,  0.07939966,  0.01229805,  0.0472665 ,  0.00792722,\n",
              "        0.07495239, -0.04777352,  0.02290227, -0.02349729, -0.01035224,\n",
              "       -0.04128299, -0.05037197, -0.02936148, -0.03995599, -0.09582971,\n",
              "        0.00652219, -0.00309965,  0.09921778, -0.07993053, -0.07525942,\n",
              "       -0.03148453, -0.03216294,  0.00986726, -0.03059178, -0.01402058,\n",
              "        0.02519003, -0.04734642,  0.12286284, -0.09953459,  0.01202545,\n",
              "        0.03934894,  0.07455902,  0.02744922,  0.03999532, -0.05147249,\n",
              "       -0.0055727 ,  0.07064351,  0.07526451,  0.00223117,  0.01765039,\n",
              "       -0.02785274,  0.0251571 ,  0.05081079,  0.06183068, -0.03087618,\n",
              "       -0.00268458, -0.02822061, -0.05344585, -0.05139395,  0.00151552,\n",
              "       -0.01931686,  0.00034288, -0.01423903,  0.00377267, -0.0598783 ],\n",
              "      dtype=float32)"
            ]
          },
          "execution_count": 144,
          "metadata": {},
          "output_type": "execute_result"
        }
      ],
      "source": [
        "ft['привет']"
      ]
    },
    {
      "cell_type": "code",
      "execution_count": null,
      "id": "79361593",
      "metadata": {
        "scrolled": true,
        "id": "79361593",
        "outputId": "09ff9af1-6942-445c-91c5-0a3ac54f7f80"
      },
      "outputs": [
        {
          "data": {
            "text/plain": [
              "array([ 2.84749218e-02,  1.14055865e-02, -1.54750008e-02,  6.10717852e-03,\n",
              "       -5.42343501e-03,  2.83443742e-03,  2.40256451e-03,  1.29073053e-02,\n",
              "        3.05031866e-02, -1.99234379e-02,  6.13203850e-02,  4.42768331e-02,\n",
              "        2.71531800e-02, -1.02064133e-02,  9.22483567e-04,  2.50384058e-02,\n",
              "       -1.25383004e-02, -4.89095808e-02, -3.07890818e-02,  1.01918663e-01,\n",
              "       -2.85800546e-02, -1.05811988e-01, -1.28629373e-02,  2.95597422e-02,\n",
              "        2.13206490e-03,  1.26906892e-02, -2.97227059e-02,  2.77029723e-02,\n",
              "       -1.21254625e-02, -4.76178443e-02, -6.68591424e-03,  3.05985650e-02,\n",
              "        3.59081652e-02,  1.02970391e-01,  3.62780495e-02, -5.56655712e-02,\n",
              "       -1.11200343e-01, -1.16946280e-01,  4.69890856e-02, -5.79430675e-02,\n",
              "       -4.56299540e-03, -2.32621958e-03, -2.30524363e-03,  1.96370891e-02,\n",
              "       -1.68996924e-02,  4.77626729e-02, -7.71877861e-02,  2.95996453e-02,\n",
              "        3.40769021e-02, -3.43663241e-02,  5.55797149e-02,  1.05126291e-02,\n",
              "        9.77615127e-03,  3.99762448e-02, -2.15159254e-02,  1.93620831e-02,\n",
              "       -1.34500194e-02,  2.17238814e-03,  1.39238648e-02, -1.24853794e-02,\n",
              "       -5.08000248e-02,  6.46954067e-02,  3.07824350e-02, -4.07074159e-02,\n",
              "       -1.99913508e-02,  1.96010725e-02, -1.52623175e-02, -1.58499312e-02,\n",
              "       -4.72955415e-02,  4.77682170e-03, -5.21384678e-02,  3.73177927e-02,\n",
              "       -3.41336881e-02,  5.90577209e-03,  6.41630217e-03, -2.70765051e-02,\n",
              "       -5.57585534e-02, -9.87857254e-03, -1.75393135e-02, -3.92743144e-02,\n",
              "        2.59191706e-02,  3.97690022e-02,  5.75262937e-03, -4.60929359e-02,\n",
              "        3.89499759e-03,  3.79725420e-02, -6.47511277e-02,  5.06016524e-02,\n",
              "        1.29573480e-02,  9.16208606e-04, -1.10791333e-01, -1.59734851e-02,\n",
              "        4.38956684e-03, -5.00591882e-02, -1.91273557e-02, -1.31234950e-02,\n",
              "        4.23284452e-02, -1.32317897e-02, -9.03501306e-02,  4.14077961e-02,\n",
              "       -9.01901850e-03,  7.61899361e-02, -1.04387742e-02, -1.22785277e-02,\n",
              "       -1.63511078e-02, -3.89259742e-02,  4.25888405e-02,  2.55549918e-02,\n",
              "        7.98778998e-03,  9.49782273e-03, -3.10476529e-02, -1.09063331e-02,\n",
              "        8.43151626e-02, -3.58087434e-02, -1.24211812e-02, -1.87083688e-02,\n",
              "       -5.45124998e-02, -8.86561619e-02,  3.79863534e-02, -3.31068560e-02,\n",
              "       -4.89519509e-02,  7.88756466e-02, -5.50974393e-02,  1.60968699e-02,\n",
              "        1.01266545e-03,  2.75706507e-02,  5.04551297e-02, -1.64009025e-02,\n",
              "        1.19224258e-02,  6.78465860e-02,  2.69761501e-02,  1.12457192e-02,\n",
              "        1.86175751e-02, -1.40191410e-02, -1.72757215e-02,  5.70655339e-02,\n",
              "        5.77574829e-04,  5.24380505e-02, -5.08161918e-03,  3.53807122e-02,\n",
              "       -1.40902330e-02,  2.29508245e-02,  6.68836981e-02, -2.08306434e-02,\n",
              "       -5.37150722e-02, -9.75077925e-03, -4.46044868e-02,  3.50373158e-02,\n",
              "        5.37473205e-02,  2.23793560e-02,  3.78368636e-02,  1.91988172e-02,\n",
              "       -9.24861385e-02,  1.07819675e-02, -1.21989548e-02,  3.31418150e-02,\n",
              "        2.23143799e-02,  1.49282608e-02,  1.40205264e-02, -2.72367133e-02,\n",
              "       -2.69449629e-02,  2.49509839e-03, -5.19380664e-02, -6.78124642e-02,\n",
              "       -6.38052975e-02,  1.68222875e-02, -7.74696337e-02,  8.44685482e-02,\n",
              "        4.74610087e-02, -2.62326931e-03, -9.03137206e-03, -6.54254213e-02,\n",
              "        4.35586069e-02,  3.72354283e-02, -3.41950073e-02, -1.16772181e-02,\n",
              "       -3.14856721e-02,  6.10582798e-02,  4.79020393e-02, -4.82062241e-02,\n",
              "       -1.99088580e-02,  3.10592290e-02, -4.53291640e-02, -6.53951182e-02,\n",
              "        6.01363019e-04,  3.27027021e-02,  1.47671076e-02, -3.70643544e-02,\n",
              "       -2.04997172e-02,  5.32348915e-02, -4.50411410e-02,  1.28656339e-02,\n",
              "        3.19320844e-02,  1.45057300e-02, -1.72404865e-02,  3.71150244e-02,\n",
              "       -2.15479551e-02, -1.15545052e-02, -1.25362631e-02,  2.60218652e-02,\n",
              "       -4.58280314e-02,  7.53374584e-03,  7.35389721e-03, -1.82377142e-02,\n",
              "       -9.48007656e-02, -2.56354164e-02,  5.40375593e-04,  4.41152531e-02,\n",
              "       -7.10717402e-04,  4.32135077e-03,  2.78144046e-02, -4.11721691e-03,\n",
              "       -8.98516446e-04,  5.58417288e-02, -3.63211357e-02, -6.08586776e-03,\n",
              "        3.32013650e-02,  3.86003682e-02, -4.08708490e-02,  1.05813891e-02,\n",
              "        1.79253643e-02,  3.97888436e-02,  3.22979216e-02,  1.34046650e-02,\n",
              "       -3.69763831e-02,  3.80074000e-02, -3.84184653e-02, -1.46874161e-02,\n",
              "        1.31309093e-02, -1.08475601e-02,  1.34081137e-02, -1.17426082e-02,\n",
              "        1.28444180e-01, -2.20539912e-02,  1.15903737e-01,  5.90186799e-03,\n",
              "        1.24620628e-02,  7.31505433e-02, -7.99386785e-03,  3.64330948e-02,\n",
              "        3.45786135e-02,  3.46622248e-02,  2.36364873e-03, -7.05305371e-02,\n",
              "       -5.42092409e-02, -8.53608083e-03, -5.25069842e-03, -6.02257324e-02,\n",
              "        2.03989604e-02, -1.16195149e-02,  9.21856882e-02, -6.69648121e-02,\n",
              "        7.29324436e-03,  2.93620190e-02,  6.43402617e-02,  1.59824028e-02,\n",
              "        2.18187862e-02, -1.51119323e-03, -8.90493509e-03, -1.16167957e-01,\n",
              "        3.43116624e-02, -2.22888631e-02,  6.75987527e-02,  2.60055298e-02,\n",
              "       -2.21864720e-02, -2.88950545e-02,  5.87026319e-02,  5.31624537e-05,\n",
              "        4.37127347e-02, -3.44873604e-02,  1.45444367e-02,  4.66503901e-04,\n",
              "        1.16275493e-01, -7.23772724e-02,  3.08836906e-02,  3.09007196e-03,\n",
              "        1.63774043e-02,  1.35315594e-02,  3.91931003e-02, -3.61349685e-02,\n",
              "        8.19852925e-04,  2.57454347e-04,  6.94709985e-03,  1.86907215e-02,\n",
              "       -3.81673360e-03,  1.24494154e-02, -2.23289109e-02, -3.35482652e-02,\n",
              "       -4.22900976e-02,  2.49405606e-02,  4.42143134e-03,  5.85364044e-03,\n",
              "        3.19063303e-03, -4.88638142e-02, -1.23414861e-02, -1.29953995e-02,\n",
              "        1.96110924e-02,  1.76430468e-02,  9.77955939e-03, -1.76622996e-02])"
            ]
          },
          "execution_count": 151,
          "metadata": {},
          "output_type": "execute_result"
        }
      ],
      "source": [
        "x = 'привет всем слушателям курса'\n",
        "get_tweet_embedding(x, model=ft, embedding_size=300)"
      ]
    },
    {
      "cell_type": "code",
      "execution_count": null,
      "id": "b456c690",
      "metadata": {
        "id": "b456c690",
        "outputId": "476b6ede-da2c-41ce-885d-d413035dc1ce"
      },
      "outputs": [
        {
          "name": "stdout",
          "output_type": "stream",
          "text": [
            "train done\n"
          ]
        }
      ],
      "source": [
        "train['ft_embedding'] = train['lemmas'].apply(lambda x: get_tweet_embedding(x, model=ft, embedding_size=300))\n",
        "print('train done')\n",
        "\n",
        "test['ft_embedding'] = test['lemmas'].apply(lambda x: get_tweet_embedding(x, model=ft, embedding_size=300))"
      ]
    },
    {
      "cell_type": "code",
      "execution_count": null,
      "id": "8ce51cc2",
      "metadata": {
        "id": "8ce51cc2",
        "outputId": "79fcb2a6-c331-4cc6-cc9a-373f6ae63ce6"
      },
      "outputs": [
        {
          "data": {
            "text/plain": [
              "0.8709408825978351"
            ]
          },
          "execution_count": 153,
          "metadata": {},
          "output_type": "execute_result"
        }
      ],
      "source": [
        "clf = LogisticRegression(random_state=42, max_iter=500)\n",
        "clf.fit(list(train['ft_embedding'].values), y_train)\n",
        "\n",
        "pred = clf.predict(list(test['ft_embedding'].values))\n",
        "accuracy_score(pred, y_test)"
      ]
    },
    {
      "cell_type": "code",
      "execution_count": null,
      "id": "ec94c142",
      "metadata": {
        "id": "ec94c142",
        "outputId": "9102714c-349e-48d6-8df2-77af56b21cbc"
      },
      "outputs": [
        {
          "name": "stdout",
          "output_type": "stream",
          "text": [
            "              precision    recall  f1-score   support\n",
            "\n",
            "           0       0.95      0.87      0.91      2618\n",
            "           1       0.71      0.88      0.79       985\n",
            "\n",
            "    accuracy                           0.87      3603\n",
            "   macro avg       0.83      0.87      0.85      3603\n",
            "weighted avg       0.89      0.87      0.87      3603\n",
            "\n"
          ]
        }
      ],
      "source": [
        "print(classification_report(pred, y_test))"
      ]
    },
    {
      "cell_type": "markdown",
      "id": "bfc720f5",
      "metadata": {
        "id": "bfc720f5"
      },
      "source": [
        "### fastText как классификатор\n",
        "\n",
        "fastText также можно использовать в режиме классификатора:"
      ]
    },
    {
      "cell_type": "code",
      "execution_count": null,
      "id": "75b009d0",
      "metadata": {
        "id": "75b009d0",
        "outputId": "ce751cfb-87fe-47bc-c2b8-eceffe0510a0"
      },
      "outputs": [
        {
          "data": {
            "text/html": [
              "<div>\n",
              "<style scoped>\n",
              "    .dataframe tbody tr th:only-of-type {\n",
              "        vertical-align: middle;\n",
              "    }\n",
              "\n",
              "    .dataframe tbody tr th {\n",
              "        vertical-align: top;\n",
              "    }\n",
              "\n",
              "    .dataframe thead th {\n",
              "        text-align: right;\n",
              "    }\n",
              "</style>\n",
              "<table border=\"1\" class=\"dataframe\">\n",
              "  <thead>\n",
              "    <tr style=\"text-align: right;\">\n",
              "      <th></th>\n",
              "      <th>comment</th>\n",
              "      <th>toxic</th>\n",
              "      <th>lemmas</th>\n",
              "      <th>w2v_embedding</th>\n",
              "      <th>ft_embedding</th>\n",
              "    </tr>\n",
              "  </thead>\n",
              "  <tbody>\n",
              "    <tr>\n",
              "      <th>5404</th>\n",
              "      <td>да ну, кем считается то? у нас, швабов, пожест...</td>\n",
              "      <td>1.0</td>\n",
              "      <td>считаться шваб жёсткий лично думать</td>\n",
              "      <td>[0.05510629341006279, 0.010897617496084422, 0....</td>\n",
              "      <td>[0.04708024859428406, 0.0034161420539021493, 0...</td>\n",
              "    </tr>\n",
              "  </tbody>\n",
              "</table>\n",
              "</div>"
            ],
            "text/plain": [
              "                                                comment  toxic  \\\n",
              "5404  да ну, кем считается то? у нас, швабов, пожест...    1.0   \n",
              "\n",
              "                                   lemmas  \\\n",
              "5404  считаться шваб жёсткий лично думать   \n",
              "\n",
              "                                          w2v_embedding  \\\n",
              "5404  [0.05510629341006279, 0.010897617496084422, 0....   \n",
              "\n",
              "                                           ft_embedding  \n",
              "5404  [0.04708024859428406, 0.0034161420539021493, 0...  "
            ]
          },
          "execution_count": 156,
          "metadata": {},
          "output_type": "execute_result"
        }
      ],
      "source": [
        "train.sample()"
      ]
    },
    {
      "cell_type": "code",
      "execution_count": null,
      "id": "5670c42f",
      "metadata": {
        "id": "5670c42f"
      },
      "outputs": [],
      "source": [
        "with open('train_ft.txt', 'w') as f:\n",
        "    for label, lemmas in list(zip(\n",
        "        train['toxic'], train['lemmas']\n",
        "    )):\n",
        "        f.write(f\"__label__{int(label)} {lemmas}\\n\")\n",
        "        #print(f\"__label__{int(label)} {lemmas}\")\n",
        "\n",
        "with open('test_ft.txt', 'w') as f:\n",
        "    for label, lemmas in list(zip(\n",
        "        train['toxic'], train['lemmas']\n",
        "    )):\n",
        "        f.write(f\"__label__{int(label)} {lemmas}\\n\")"
      ]
    },
    {
      "cell_type": "code",
      "execution_count": null,
      "id": "e746da36",
      "metadata": {
        "id": "e746da36",
        "outputId": "d9721554-5683-4f16-d974-b5297b29983f"
      },
      "outputs": [
        {
          "name": "stdout",
          "output_type": "stream",
          "text": [
            "__label__0 операция спирт тампон скальпель доктор выбрасывать пригодиться\r\n",
            "__label__0 думать уместить знание мочь дать любой родитель домашний условие\r\n",
            "__label__1 татарин народец гнилой весьма весьма\r\n",
            "__label__0 красиво постановка театральный рыжий китайский очень доставить\r\n",
            "__label__0 печально близкий нормальный любящий человек превращаться\r\n",
            "__label__0 мама группа выпуск просяк случаться разный ребёнок ребёнок разовый акция время время третий частенько родитель прекрасно курс особенность каждый конкретный ребёнок\r\n",
            "__label__1 сука тупой дегенарта видео съести свой старый куколд жухлый сморчок друг друг теребить\r\n",
            "__label__1 племя украинец особенно западный детство прививаться мысль самый умный ловко наебал значит молодец понятие подлость честь отсутствовать нацело поэтому маленький дружок весь твой натужный изворотливость работать пообщаться пять минута любой россия понять сорт иметь дело услышать мягкий акцент твой речь\r\n",
            "__label__0 пост жадность человек оплатить предоставить халява человек предвкушать\r\n",
            "__label__0 компенсация проезд место отдых положить закон север оплата путёвка полететь турция купить оплатить назад начальник получать очень неплохо регион\r\n"
          ]
        }
      ],
      "source": [
        "!tail train_ft.txt"
      ]
    },
    {
      "cell_type": "code",
      "execution_count": null,
      "id": "3eb04345",
      "metadata": {
        "id": "3eb04345"
      },
      "outputs": [],
      "source": [
        "#help(fasttext.train_supervised)"
      ]
    },
    {
      "cell_type": "code",
      "execution_count": null,
      "id": "941a3a02",
      "metadata": {
        "id": "941a3a02",
        "outputId": "6b223cfe-9455-47fe-9073-802e2ced6862"
      },
      "outputs": [
        {
          "name": "stdout",
          "output_type": "stream",
          "text": [
            "P@1: 0.9790914978258858\n",
            "R@1: 0.9790914978258858\n",
            "Number of examples: 10809\n"
          ]
        },
        {
          "name": "stderr",
          "output_type": "stream",
          "text": [
            "\r",
            "Read 0M words\n",
            "Number of words:  26960\n",
            "Number of labels: 2\n",
            "\r",
            "Progress: 100.0% words/sec/thread: 1260163 lr: -0.000020 avg.loss:  0.295754 ETA:   0h 0m 0s\r",
            "Progress: 100.0% words/sec/thread: 1258741 lr:  0.000000 avg.loss:  0.295754 ETA:   0h 0m 0s\n"
          ]
        }
      ],
      "source": [
        "classifier = fasttext.train_supervised('train_ft.txt')#, 'model')\n",
        "result = classifier.test('test_ft.txt')\n",
        "print('P@1:', result[1])#.precision)\n",
        "print('R@1:', result[2])#.recall)\n",
        "print('Number of examples:', result[0])#.nexamples)"
      ]
    },
    {
      "cell_type": "code",
      "execution_count": null,
      "id": "45b6b5bc",
      "metadata": {
        "id": "45b6b5bc",
        "outputId": "28b91aa8-578f-4e91-d880-aa2b759a9aab"
      },
      "outputs": [
        {
          "data": {
            "text/plain": [
              "0.8717735220649458"
            ]
          },
          "execution_count": 168,
          "metadata": {},
          "output_type": "execute_result"
        }
      ],
      "source": [
        "pred = classifier.predict(list(test['lemmas']))[0]\n",
        "pred = [int(label[0][-1]) for label in pred]\n",
        "\n",
        "accuracy_score(list(y_test), pred)"
      ]
    },
    {
      "cell_type": "code",
      "execution_count": null,
      "id": "2a121f45",
      "metadata": {
        "id": "2a121f45"
      },
      "outputs": [],
      "source": []
    }
  ],
  "metadata": {
    "kernelspec": {
      "display_name": "Python 3 (ipykernel)",
      "language": "python",
      "name": "python3"
    },
    "language_info": {
      "codemirror_mode": {
        "name": "ipython",
        "version": 3
      },
      "file_extension": ".py",
      "mimetype": "text/x-python",
      "name": "python",
      "nbconvert_exporter": "python",
      "pygments_lexer": "ipython3",
      "version": "3.9.7"
    },
    "colab": {
      "provenance": [],
      "toc_visible": true,
      "include_colab_link": true
    },
    "gpuClass": "standard",
    "widgets": {
      "application/vnd.jupyter.widget-state+json": {
        "369d89f1a4c64f7e861409c3198f6b11": {
          "model_module": "@jupyter-widgets/controls",
          "model_name": "HBoxModel",
          "model_module_version": "1.5.0",
          "state": {
            "_dom_classes": [],
            "_model_module": "@jupyter-widgets/controls",
            "_model_module_version": "1.5.0",
            "_model_name": "HBoxModel",
            "_view_count": null,
            "_view_module": "@jupyter-widgets/controls",
            "_view_module_version": "1.5.0",
            "_view_name": "HBoxView",
            "box_style": "",
            "children": [
              "IPY_MODEL_4abf0407095a45039b7d9cec8a00193b",
              "IPY_MODEL_a999e2e059b541e9b053a26f16765e76",
              "IPY_MODEL_61a62a26bf4e40508b47a955f788bd0b"
            ],
            "layout": "IPY_MODEL_d53e5618546843af8423d649e8ed412a"
          }
        },
        "4abf0407095a45039b7d9cec8a00193b": {
          "model_module": "@jupyter-widgets/controls",
          "model_name": "HTMLModel",
          "model_module_version": "1.5.0",
          "state": {
            "_dom_classes": [],
            "_model_module": "@jupyter-widgets/controls",
            "_model_module_version": "1.5.0",
            "_model_name": "HTMLModel",
            "_view_count": null,
            "_view_module": "@jupyter-widgets/controls",
            "_view_module_version": "1.5.0",
            "_view_name": "HTMLView",
            "description": "",
            "description_tooltip": null,
            "layout": "IPY_MODEL_1191ac1f74304225b08cea59dd528051",
            "placeholder": "​",
            "style": "IPY_MODEL_9395af7c7a234aecbfcb0ac10b8b32bd",
            "value": "100%"
          }
        },
        "a999e2e059b541e9b053a26f16765e76": {
          "model_module": "@jupyter-widgets/controls",
          "model_name": "FloatProgressModel",
          "model_module_version": "1.5.0",
          "state": {
            "_dom_classes": [],
            "_model_module": "@jupyter-widgets/controls",
            "_model_module_version": "1.5.0",
            "_model_name": "FloatProgressModel",
            "_view_count": null,
            "_view_module": "@jupyter-widgets/controls",
            "_view_module_version": "1.5.0",
            "_view_name": "ProgressView",
            "bar_style": "success",
            "description": "",
            "description_tooltip": null,
            "layout": "IPY_MODEL_cb07b5f88f944999bc3078208a053ce5",
            "max": 5296,
            "min": 0,
            "orientation": "horizontal",
            "style": "IPY_MODEL_b04057ec7e69492d95a26beb5f81c5e0",
            "value": 5296
          }
        },
        "61a62a26bf4e40508b47a955f788bd0b": {
          "model_module": "@jupyter-widgets/controls",
          "model_name": "HTMLModel",
          "model_module_version": "1.5.0",
          "state": {
            "_dom_classes": [],
            "_model_module": "@jupyter-widgets/controls",
            "_model_module_version": "1.5.0",
            "_model_name": "HTMLModel",
            "_view_count": null,
            "_view_module": "@jupyter-widgets/controls",
            "_view_module_version": "1.5.0",
            "_view_name": "HTMLView",
            "description": "",
            "description_tooltip": null,
            "layout": "IPY_MODEL_19876d4447cf47e993f2014a7f12c33d",
            "placeholder": "​",
            "style": "IPY_MODEL_fa784966fb5a464391d1595bd09aeee6",
            "value": " 5296/5296 [00:50&lt;00:00, 120.42it/s]"
          }
        },
        "d53e5618546843af8423d649e8ed412a": {
          "model_module": "@jupyter-widgets/base",
          "model_name": "LayoutModel",
          "model_module_version": "1.2.0",
          "state": {
            "_model_module": "@jupyter-widgets/base",
            "_model_module_version": "1.2.0",
            "_model_name": "LayoutModel",
            "_view_count": null,
            "_view_module": "@jupyter-widgets/base",
            "_view_module_version": "1.2.0",
            "_view_name": "LayoutView",
            "align_content": null,
            "align_items": null,
            "align_self": null,
            "border": null,
            "bottom": null,
            "display": null,
            "flex": null,
            "flex_flow": null,
            "grid_area": null,
            "grid_auto_columns": null,
            "grid_auto_flow": null,
            "grid_auto_rows": null,
            "grid_column": null,
            "grid_gap": null,
            "grid_row": null,
            "grid_template_areas": null,
            "grid_template_columns": null,
            "grid_template_rows": null,
            "height": null,
            "justify_content": null,
            "justify_items": null,
            "left": null,
            "margin": null,
            "max_height": null,
            "max_width": null,
            "min_height": null,
            "min_width": null,
            "object_fit": null,
            "object_position": null,
            "order": null,
            "overflow": null,
            "overflow_x": null,
            "overflow_y": null,
            "padding": null,
            "right": null,
            "top": null,
            "visibility": null,
            "width": null
          }
        },
        "1191ac1f74304225b08cea59dd528051": {
          "model_module": "@jupyter-widgets/base",
          "model_name": "LayoutModel",
          "model_module_version": "1.2.0",
          "state": {
            "_model_module": "@jupyter-widgets/base",
            "_model_module_version": "1.2.0",
            "_model_name": "LayoutModel",
            "_view_count": null,
            "_view_module": "@jupyter-widgets/base",
            "_view_module_version": "1.2.0",
            "_view_name": "LayoutView",
            "align_content": null,
            "align_items": null,
            "align_self": null,
            "border": null,
            "bottom": null,
            "display": null,
            "flex": null,
            "flex_flow": null,
            "grid_area": null,
            "grid_auto_columns": null,
            "grid_auto_flow": null,
            "grid_auto_rows": null,
            "grid_column": null,
            "grid_gap": null,
            "grid_row": null,
            "grid_template_areas": null,
            "grid_template_columns": null,
            "grid_template_rows": null,
            "height": null,
            "justify_content": null,
            "justify_items": null,
            "left": null,
            "margin": null,
            "max_height": null,
            "max_width": null,
            "min_height": null,
            "min_width": null,
            "object_fit": null,
            "object_position": null,
            "order": null,
            "overflow": null,
            "overflow_x": null,
            "overflow_y": null,
            "padding": null,
            "right": null,
            "top": null,
            "visibility": null,
            "width": null
          }
        },
        "9395af7c7a234aecbfcb0ac10b8b32bd": {
          "model_module": "@jupyter-widgets/controls",
          "model_name": "DescriptionStyleModel",
          "model_module_version": "1.5.0",
          "state": {
            "_model_module": "@jupyter-widgets/controls",
            "_model_module_version": "1.5.0",
            "_model_name": "DescriptionStyleModel",
            "_view_count": null,
            "_view_module": "@jupyter-widgets/base",
            "_view_module_version": "1.2.0",
            "_view_name": "StyleView",
            "description_width": ""
          }
        },
        "cb07b5f88f944999bc3078208a053ce5": {
          "model_module": "@jupyter-widgets/base",
          "model_name": "LayoutModel",
          "model_module_version": "1.2.0",
          "state": {
            "_model_module": "@jupyter-widgets/base",
            "_model_module_version": "1.2.0",
            "_model_name": "LayoutModel",
            "_view_count": null,
            "_view_module": "@jupyter-widgets/base",
            "_view_module_version": "1.2.0",
            "_view_name": "LayoutView",
            "align_content": null,
            "align_items": null,
            "align_self": null,
            "border": null,
            "bottom": null,
            "display": null,
            "flex": null,
            "flex_flow": null,
            "grid_area": null,
            "grid_auto_columns": null,
            "grid_auto_flow": null,
            "grid_auto_rows": null,
            "grid_column": null,
            "grid_gap": null,
            "grid_row": null,
            "grid_template_areas": null,
            "grid_template_columns": null,
            "grid_template_rows": null,
            "height": null,
            "justify_content": null,
            "justify_items": null,
            "left": null,
            "margin": null,
            "max_height": null,
            "max_width": null,
            "min_height": null,
            "min_width": null,
            "object_fit": null,
            "object_position": null,
            "order": null,
            "overflow": null,
            "overflow_x": null,
            "overflow_y": null,
            "padding": null,
            "right": null,
            "top": null,
            "visibility": null,
            "width": null
          }
        },
        "b04057ec7e69492d95a26beb5f81c5e0": {
          "model_module": "@jupyter-widgets/controls",
          "model_name": "ProgressStyleModel",
          "model_module_version": "1.5.0",
          "state": {
            "_model_module": "@jupyter-widgets/controls",
            "_model_module_version": "1.5.0",
            "_model_name": "ProgressStyleModel",
            "_view_count": null,
            "_view_module": "@jupyter-widgets/base",
            "_view_module_version": "1.2.0",
            "_view_name": "StyleView",
            "bar_color": null,
            "description_width": ""
          }
        },
        "19876d4447cf47e993f2014a7f12c33d": {
          "model_module": "@jupyter-widgets/base",
          "model_name": "LayoutModel",
          "model_module_version": "1.2.0",
          "state": {
            "_model_module": "@jupyter-widgets/base",
            "_model_module_version": "1.2.0",
            "_model_name": "LayoutModel",
            "_view_count": null,
            "_view_module": "@jupyter-widgets/base",
            "_view_module_version": "1.2.0",
            "_view_name": "LayoutView",
            "align_content": null,
            "align_items": null,
            "align_self": null,
            "border": null,
            "bottom": null,
            "display": null,
            "flex": null,
            "flex_flow": null,
            "grid_area": null,
            "grid_auto_columns": null,
            "grid_auto_flow": null,
            "grid_auto_rows": null,
            "grid_column": null,
            "grid_gap": null,
            "grid_row": null,
            "grid_template_areas": null,
            "grid_template_columns": null,
            "grid_template_rows": null,
            "height": null,
            "justify_content": null,
            "justify_items": null,
            "left": null,
            "margin": null,
            "max_height": null,
            "max_width": null,
            "min_height": null,
            "min_width": null,
            "object_fit": null,
            "object_position": null,
            "order": null,
            "overflow": null,
            "overflow_x": null,
            "overflow_y": null,
            "padding": null,
            "right": null,
            "top": null,
            "visibility": null,
            "width": null
          }
        },
        "fa784966fb5a464391d1595bd09aeee6": {
          "model_module": "@jupyter-widgets/controls",
          "model_name": "DescriptionStyleModel",
          "model_module_version": "1.5.0",
          "state": {
            "_model_module": "@jupyter-widgets/controls",
            "_model_module_version": "1.5.0",
            "_model_name": "DescriptionStyleModel",
            "_view_count": null,
            "_view_module": "@jupyter-widgets/base",
            "_view_module_version": "1.2.0",
            "_view_name": "StyleView",
            "description_width": ""
          }
        },
        "fa17bcf50a7e4172a9ba46d708099360": {
          "model_module": "@jupyter-widgets/controls",
          "model_name": "HBoxModel",
          "model_module_version": "1.5.0",
          "state": {
            "_dom_classes": [],
            "_model_module": "@jupyter-widgets/controls",
            "_model_module_version": "1.5.0",
            "_model_name": "HBoxModel",
            "_view_count": null,
            "_view_module": "@jupyter-widgets/controls",
            "_view_module_version": "1.5.0",
            "_view_name": "HBoxView",
            "box_style": "",
            "children": [
              "IPY_MODEL_f8fef15620d748fcbd2a5398f7fc346d",
              "IPY_MODEL_db6c68c7ff0041f38d65348b3a60e79b",
              "IPY_MODEL_54e4dd4d462549568e2851462c42c568"
            ],
            "layout": "IPY_MODEL_72b3810df910446b915a2e6d47afdda1"
          }
        },
        "f8fef15620d748fcbd2a5398f7fc346d": {
          "model_module": "@jupyter-widgets/controls",
          "model_name": "HTMLModel",
          "model_module_version": "1.5.0",
          "state": {
            "_dom_classes": [],
            "_model_module": "@jupyter-widgets/controls",
            "_model_module_version": "1.5.0",
            "_model_name": "HTMLModel",
            "_view_count": null,
            "_view_module": "@jupyter-widgets/controls",
            "_view_module_version": "1.5.0",
            "_view_name": "HTMLView",
            "description": "",
            "description_tooltip": null,
            "layout": "IPY_MODEL_bcf96f8568ac4e60815cf41c9d462271",
            "placeholder": "​",
            "style": "IPY_MODEL_ef38c8110b3242c49a7fe5fa819afddb",
            "value": "100%"
          }
        },
        "db6c68c7ff0041f38d65348b3a60e79b": {
          "model_module": "@jupyter-widgets/controls",
          "model_name": "FloatProgressModel",
          "model_module_version": "1.5.0",
          "state": {
            "_dom_classes": [],
            "_model_module": "@jupyter-widgets/controls",
            "_model_module_version": "1.5.0",
            "_model_name": "FloatProgressModel",
            "_view_count": null,
            "_view_module": "@jupyter-widgets/controls",
            "_view_module_version": "1.5.0",
            "_view_name": "ProgressView",
            "bar_style": "success",
            "description": "",
            "description_tooltip": null,
            "layout": "IPY_MODEL_66aa5f86d5e5450fbcc51fdc6cc16bbd",
            "max": 2270,
            "min": 0,
            "orientation": "horizontal",
            "style": "IPY_MODEL_b8abc8b6e374480cb5e0acb954fbfc23",
            "value": 2270
          }
        },
        "54e4dd4d462549568e2851462c42c568": {
          "model_module": "@jupyter-widgets/controls",
          "model_name": "HTMLModel",
          "model_module_version": "1.5.0",
          "state": {
            "_dom_classes": [],
            "_model_module": "@jupyter-widgets/controls",
            "_model_module_version": "1.5.0",
            "_model_name": "HTMLModel",
            "_view_count": null,
            "_view_module": "@jupyter-widgets/controls",
            "_view_module_version": "1.5.0",
            "_view_name": "HTMLView",
            "description": "",
            "description_tooltip": null,
            "layout": "IPY_MODEL_844809c605db4bdbb3c29a12348062f4",
            "placeholder": "​",
            "style": "IPY_MODEL_133ec5fab83e470383e1eed66d417e60",
            "value": " 2270/2270 [00:21&lt;00:00, 65.26it/s]"
          }
        },
        "72b3810df910446b915a2e6d47afdda1": {
          "model_module": "@jupyter-widgets/base",
          "model_name": "LayoutModel",
          "model_module_version": "1.2.0",
          "state": {
            "_model_module": "@jupyter-widgets/base",
            "_model_module_version": "1.2.0",
            "_model_name": "LayoutModel",
            "_view_count": null,
            "_view_module": "@jupyter-widgets/base",
            "_view_module_version": "1.2.0",
            "_view_name": "LayoutView",
            "align_content": null,
            "align_items": null,
            "align_self": null,
            "border": null,
            "bottom": null,
            "display": null,
            "flex": null,
            "flex_flow": null,
            "grid_area": null,
            "grid_auto_columns": null,
            "grid_auto_flow": null,
            "grid_auto_rows": null,
            "grid_column": null,
            "grid_gap": null,
            "grid_row": null,
            "grid_template_areas": null,
            "grid_template_columns": null,
            "grid_template_rows": null,
            "height": null,
            "justify_content": null,
            "justify_items": null,
            "left": null,
            "margin": null,
            "max_height": null,
            "max_width": null,
            "min_height": null,
            "min_width": null,
            "object_fit": null,
            "object_position": null,
            "order": null,
            "overflow": null,
            "overflow_x": null,
            "overflow_y": null,
            "padding": null,
            "right": null,
            "top": null,
            "visibility": null,
            "width": null
          }
        },
        "bcf96f8568ac4e60815cf41c9d462271": {
          "model_module": "@jupyter-widgets/base",
          "model_name": "LayoutModel",
          "model_module_version": "1.2.0",
          "state": {
            "_model_module": "@jupyter-widgets/base",
            "_model_module_version": "1.2.0",
            "_model_name": "LayoutModel",
            "_view_count": null,
            "_view_module": "@jupyter-widgets/base",
            "_view_module_version": "1.2.0",
            "_view_name": "LayoutView",
            "align_content": null,
            "align_items": null,
            "align_self": null,
            "border": null,
            "bottom": null,
            "display": null,
            "flex": null,
            "flex_flow": null,
            "grid_area": null,
            "grid_auto_columns": null,
            "grid_auto_flow": null,
            "grid_auto_rows": null,
            "grid_column": null,
            "grid_gap": null,
            "grid_row": null,
            "grid_template_areas": null,
            "grid_template_columns": null,
            "grid_template_rows": null,
            "height": null,
            "justify_content": null,
            "justify_items": null,
            "left": null,
            "margin": null,
            "max_height": null,
            "max_width": null,
            "min_height": null,
            "min_width": null,
            "object_fit": null,
            "object_position": null,
            "order": null,
            "overflow": null,
            "overflow_x": null,
            "overflow_y": null,
            "padding": null,
            "right": null,
            "top": null,
            "visibility": null,
            "width": null
          }
        },
        "ef38c8110b3242c49a7fe5fa819afddb": {
          "model_module": "@jupyter-widgets/controls",
          "model_name": "DescriptionStyleModel",
          "model_module_version": "1.5.0",
          "state": {
            "_model_module": "@jupyter-widgets/controls",
            "_model_module_version": "1.5.0",
            "_model_name": "DescriptionStyleModel",
            "_view_count": null,
            "_view_module": "@jupyter-widgets/base",
            "_view_module_version": "1.2.0",
            "_view_name": "StyleView",
            "description_width": ""
          }
        },
        "66aa5f86d5e5450fbcc51fdc6cc16bbd": {
          "model_module": "@jupyter-widgets/base",
          "model_name": "LayoutModel",
          "model_module_version": "1.2.0",
          "state": {
            "_model_module": "@jupyter-widgets/base",
            "_model_module_version": "1.2.0",
            "_model_name": "LayoutModel",
            "_view_count": null,
            "_view_module": "@jupyter-widgets/base",
            "_view_module_version": "1.2.0",
            "_view_name": "LayoutView",
            "align_content": null,
            "align_items": null,
            "align_self": null,
            "border": null,
            "bottom": null,
            "display": null,
            "flex": null,
            "flex_flow": null,
            "grid_area": null,
            "grid_auto_columns": null,
            "grid_auto_flow": null,
            "grid_auto_rows": null,
            "grid_column": null,
            "grid_gap": null,
            "grid_row": null,
            "grid_template_areas": null,
            "grid_template_columns": null,
            "grid_template_rows": null,
            "height": null,
            "justify_content": null,
            "justify_items": null,
            "left": null,
            "margin": null,
            "max_height": null,
            "max_width": null,
            "min_height": null,
            "min_width": null,
            "object_fit": null,
            "object_position": null,
            "order": null,
            "overflow": null,
            "overflow_x": null,
            "overflow_y": null,
            "padding": null,
            "right": null,
            "top": null,
            "visibility": null,
            "width": null
          }
        },
        "b8abc8b6e374480cb5e0acb954fbfc23": {
          "model_module": "@jupyter-widgets/controls",
          "model_name": "ProgressStyleModel",
          "model_module_version": "1.5.0",
          "state": {
            "_model_module": "@jupyter-widgets/controls",
            "_model_module_version": "1.5.0",
            "_model_name": "ProgressStyleModel",
            "_view_count": null,
            "_view_module": "@jupyter-widgets/base",
            "_view_module_version": "1.2.0",
            "_view_name": "StyleView",
            "bar_color": null,
            "description_width": ""
          }
        },
        "844809c605db4bdbb3c29a12348062f4": {
          "model_module": "@jupyter-widgets/base",
          "model_name": "LayoutModel",
          "model_module_version": "1.2.0",
          "state": {
            "_model_module": "@jupyter-widgets/base",
            "_model_module_version": "1.2.0",
            "_model_name": "LayoutModel",
            "_view_count": null,
            "_view_module": "@jupyter-widgets/base",
            "_view_module_version": "1.2.0",
            "_view_name": "LayoutView",
            "align_content": null,
            "align_items": null,
            "align_self": null,
            "border": null,
            "bottom": null,
            "display": null,
            "flex": null,
            "flex_flow": null,
            "grid_area": null,
            "grid_auto_columns": null,
            "grid_auto_flow": null,
            "grid_auto_rows": null,
            "grid_column": null,
            "grid_gap": null,
            "grid_row": null,
            "grid_template_areas": null,
            "grid_template_columns": null,
            "grid_template_rows": null,
            "height": null,
            "justify_content": null,
            "justify_items": null,
            "left": null,
            "margin": null,
            "max_height": null,
            "max_width": null,
            "min_height": null,
            "min_width": null,
            "object_fit": null,
            "object_position": null,
            "order": null,
            "overflow": null,
            "overflow_x": null,
            "overflow_y": null,
            "padding": null,
            "right": null,
            "top": null,
            "visibility": null,
            "width": null
          }
        },
        "133ec5fab83e470383e1eed66d417e60": {
          "model_module": "@jupyter-widgets/controls",
          "model_name": "DescriptionStyleModel",
          "model_module_version": "1.5.0",
          "state": {
            "_model_module": "@jupyter-widgets/controls",
            "_model_module_version": "1.5.0",
            "_model_name": "DescriptionStyleModel",
            "_view_count": null,
            "_view_module": "@jupyter-widgets/base",
            "_view_module_version": "1.2.0",
            "_view_name": "StyleView",
            "description_width": ""
          }
        }
      }
    }
  },
  "nbformat": 4,
  "nbformat_minor": 5
}